{
  "cells": [
    {
      "cell_type": "markdown",
      "metadata": {
        "id": "0jM4s3USQ658"
      },
      "source": [
        "# Sample Code"
      ],
      "id": "0jM4s3USQ658"
    },
    {
      "cell_type": "markdown",
      "metadata": {
        "id": "6QHs6zrNQ65_"
      },
      "source": [
        "## 基礎建設"
      ],
      "id": "6QHs6zrNQ65_"
    },
    {
      "cell_type": "code",
      "execution_count": 1,
      "metadata": {
        "scrolled": true,
        "id": "80NOsbsSQ66A"
      },
      "outputs": [],
      "source": [
        "import pandas as pd\n",
        "import gzip, json\n",
        "\n",
        "def parse(path):\n",
        "    g = gzip.open(path, 'rb')\n",
        "    for l in g:\n",
        "        yield json.loads(l)\n",
        "\n",
        "def getDF(path):\n",
        "    i = 0\n",
        "    df = {}\n",
        "    for d in parse(path):\n",
        "        df[i] = d\n",
        "        i += 1\n",
        "    return pd.DataFrame.from_dict(df, orient='index')"
      ],
      "id": "80NOsbsSQ66A"
    },
    {
      "cell_type": "markdown",
      "metadata": {
        "id": "627NINYyQ66C"
      },
      "source": [
        "## 載入資料"
      ],
      "id": "627NINYyQ66C"
    },
    {
      "cell_type": "code",
      "execution_count": 2,
      "metadata": {
        "id": "tAA21n0JQ66D",
        "outputId": "1468952a-4a21-41a6-f9f6-2a7876d7aacf",
        "colab": {
          "base_uri": "https://localhost:8080/"
        }
      },
      "outputs": [
        {
          "output_type": "stream",
          "name": "stdout",
          "text": [
            "--2021-12-22 15:01:52--  http://deepyeti.ucsd.edu/jianmo/amazon/categoryFilesSmall/All_Beauty.csv\n",
            "Resolving deepyeti.ucsd.edu (deepyeti.ucsd.edu)... 169.228.63.50\n",
            "Connecting to deepyeti.ucsd.edu (deepyeti.ucsd.edu)|169.228.63.50|:80... connected.\n",
            "HTTP request sent, awaiting response... 200 OK\n",
            "Length: 15499476 (15M) [application/octet-stream]\n",
            "Saving to: ‘All_Beauty.csv’\n",
            "\n",
            "All_Beauty.csv      100%[===================>]  14.78M  38.8MB/s    in 0.4s    \n",
            "\n",
            "2021-12-22 15:01:52 (38.8 MB/s) - ‘All_Beauty.csv’ saved [15499476/15499476]\n",
            "\n",
            "--2021-12-22 15:01:52--  http://deepyeti.ucsd.edu/jianmo/amazon/metaFiles2/meta_All_Beauty.json.gz\n",
            "Resolving deepyeti.ucsd.edu (deepyeti.ucsd.edu)... 169.228.63.50\n",
            "Connecting to deepyeti.ucsd.edu (deepyeti.ucsd.edu)|169.228.63.50|:80... connected.\n",
            "HTTP request sent, awaiting response... 200 OK\n",
            "Length: 10329961 (9.9M) [application/octet-stream]\n",
            "Saving to: ‘meta_All_Beauty.json.gz’\n",
            "\n",
            "meta_All_Beauty.jso 100%[===================>]   9.85M  31.2MB/s    in 0.3s    \n",
            "\n",
            "2021-12-22 15:01:53 (31.2 MB/s) - ‘meta_All_Beauty.json.gz’ saved [10329961/10329961]\n",
            "\n"
          ]
        }
      ],
      "source": [
        "!wget http://deepyeti.ucsd.edu/jianmo/amazon/categoryFilesSmall/All_Beauty.csv\n",
        "!wget http://deepyeti.ucsd.edu/jianmo/amazon/metaFiles2/meta_All_Beauty.json.gz"
      ],
      "id": "tAA21n0JQ66D"
    },
    {
      "cell_type": "code",
      "execution_count": 53,
      "metadata": {
        "id": "HE-fQKBoQ66D"
      },
      "outputs": [],
      "source": [
        "metadata = getDF('/content/meta_All_Beauty.json.gz')\n",
        "ratings = pd.read_csv('/content/All_Beauty.csv', names=['asin', 'reviewerID', 'overall', 'unixReviewTime'], header=None)"
      ],
      "id": "HE-fQKBoQ66D"
    },
    {
      "cell_type": "code",
      "execution_count": 72,
      "metadata": {
        "id": "KCKxmUqvQ66E"
      },
      "outputs": [],
      "source": [
        "import numpy as np\n",
        "import re\n",
        "metadata_df = metadata.replace(r'^\\s*$', np.nan, regex = True)\n",
        "metadata_df = metadata_df.mask(metadata_df.applymap(str).eq('[]'))"
      ],
      "id": "KCKxmUqvQ66E"
    },
    {
      "cell_type": "code",
      "source": [
        "metadata_df.info()"
      ],
      "metadata": {
        "id": "BHOciHxuxY05",
        "outputId": "486d0bc7-137e-499b-95b5-6209764f5d35",
        "colab": {
          "base_uri": "https://localhost:8080/"
        }
      },
      "id": "BHOciHxuxY05",
      "execution_count": 75,
      "outputs": [
        {
          "output_type": "stream",
          "name": "stdout",
          "text": [
            "<class 'pandas.core.frame.DataFrame'>\n",
            "Int64Index: 32892 entries, 0 to 32891\n",
            "Data columns (total 19 columns):\n",
            " #   Column           Non-Null Count  Dtype  \n",
            "---  ------           --------------  -----  \n",
            " 0   category         0 non-null      object \n",
            " 1   tech1            10 non-null     object \n",
            " 2   description      15119 non-null  object \n",
            " 3   fit              0 non-null      float64\n",
            " 4   title            32891 non-null  object \n",
            " 5   also_buy         6597 non-null   object \n",
            " 6   tech2            0 non-null      float64\n",
            " 7   brand            17219 non-null  object \n",
            " 8   feature          269 non-null    object \n",
            " 9   rank             32515 non-null  object \n",
            " 10  also_view        8132 non-null   object \n",
            " 11  details          32892 non-null  object \n",
            " 12  main_cat         32892 non-null  object \n",
            " 13  similar_item     1304 non-null   object \n",
            " 14  date             19 non-null     object \n",
            " 15  price            11459 non-null  object \n",
            " 16  asin             32892 non-null  object \n",
            " 17  imageURL         16541 non-null  object \n",
            " 18  imageURLHighRes  16541 non-null  object \n",
            "dtypes: float64(2), object(17)\n",
            "memory usage: 5.0+ MB\n"
          ]
        }
      ]
    },
    {
      "cell_type": "code",
      "source": [
        "metadata_df.loc[3551]['imageURLHighRes']"
      ],
      "metadata": {
        "id": "YqHjY5T8zvRB",
        "outputId": "78c4bab6-409d-4e48-b9cb-d227cba326f0",
        "colab": {
          "base_uri": "https://localhost:8080/"
        }
      },
      "id": "YqHjY5T8zvRB",
      "execution_count": 94,
      "outputs": [
        {
          "output_type": "execute_result",
          "data": {
            "text/plain": [
              "['https://images-na.ssl-images-amazon.com/images/I/41-gm77rfVL.jpg']"
            ]
          },
          "metadata": {},
          "execution_count": 94
        }
      ]
    },
    {
      "cell_type": "code",
      "execution_count": 92,
      "metadata": {
        "id": "DtY3Omn7Q66F",
        "outputId": "c013b63a-a156-4233-d0d1-8627621a5f1e",
        "colab": {
          "base_uri": "https://localhost:8080/"
        }
      },
      "outputs": [
        {
          "output_type": "stream",
          "name": "stdout",
          "text": [
            "<class 'pandas.core.frame.DataFrame'>\n",
            "RangeIndex: 371345 entries, 0 to 371344\n",
            "Data columns (total 4 columns):\n",
            " #   Column          Non-Null Count   Dtype  \n",
            "---  ------          --------------   -----  \n",
            " 0   asin            371345 non-null  object \n",
            " 1   reviewerID      371345 non-null  object \n",
            " 2   overall         371345 non-null  float64\n",
            " 3   unixReviewTime  371345 non-null  int64  \n",
            "dtypes: float64(1), int64(1), object(2)\n",
            "memory usage: 11.3+ MB\n"
          ]
        }
      ],
      "source": [
        "ratings.info()"
      ],
      "id": "DtY3Omn7Q66F"
    },
    {
      "cell_type": "code",
      "source": [
        "ratings.info()"
      ],
      "metadata": {
        "id": "SoibUutzrjuw",
        "outputId": "1cfb811f-b8e3-4ac9-f46c-e2eea8fbbbb7",
        "colab": {
          "base_uri": "https://localhost:8080/"
        }
      },
      "id": "SoibUutzrjuw",
      "execution_count": 95,
      "outputs": [
        {
          "output_type": "stream",
          "name": "stdout",
          "text": [
            "<class 'pandas.core.frame.DataFrame'>\n",
            "RangeIndex: 371345 entries, 0 to 371344\n",
            "Data columns (total 4 columns):\n",
            " #   Column          Non-Null Count   Dtype  \n",
            "---  ------          --------------   -----  \n",
            " 0   asin            371345 non-null  object \n",
            " 1   reviewerID      371345 non-null  object \n",
            " 2   overall         371345 non-null  float64\n",
            " 3   unixReviewTime  371345 non-null  int64  \n",
            "dtypes: float64(1), int64(1), object(2)\n",
            "memory usage: 11.3+ MB\n"
          ]
        }
      ]
    },
    {
      "cell_type": "markdown",
      "metadata": {
        "id": "tcQEBHtCQ66G"
      },
      "source": [
        "## 資料整理"
      ],
      "id": "tcQEBHtCQ66G"
    },
    {
      "cell_type": "code",
      "execution_count": null,
      "metadata": {
        "id": "CITa1DYjQ66G"
      },
      "outputs": [],
      "source": [
        "ratings['DATE'] = pd.to_datetime(ratings['unixReviewTime'], unit='s')"
      ],
      "id": "CITa1DYjQ66G"
    },
    {
      "cell_type": "markdown",
      "metadata": {
        "id": "jub52TdQQ66H"
      },
      "source": [
        "## 資料切分"
      ],
      "id": "jub52TdQQ66H"
    },
    {
      "cell_type": "code",
      "execution_count": null,
      "metadata": {
        "id": "YrNl0BctQ66I"
      },
      "outputs": [],
      "source": [
        "ratings_trainings = ratings[\n",
        "    (ratings['DATE'] < '2018-09-01')\n",
        "]\n",
        "ratings_testings = ratings[\n",
        "    (ratings['DATE'] >= '2018-09-01') & \n",
        "    (ratings['DATE'] <= '2018-09-30')\n",
        "]\n",
        "ratings_testings_by_user = ratings_testings.groupby('reviewerID').agg(list).reset_index()[['reviewerID', 'asin']].to_dict('records')\n",
        "ratings_testings_by_user = { rating['reviewerID']: rating['asin'] for rating in ratings_testings_by_user }\n",
        "users = list(ratings_testings_by_user.keys())"
      ],
      "id": "YrNl0BctQ66I"
    },
    {
      "cell_type": "markdown",
      "metadata": {
        "id": "14_klhsDQ66I"
      },
      "source": [
        "## 產生推薦"
      ],
      "id": "14_klhsDQ66I"
    },
    {
      "cell_type": "code",
      "execution_count": null,
      "metadata": {
        "id": "jOcKdzZuQ66J",
        "outputId": "5ea3a34b-a514-43f4-8a7b-fdc71b3dd8a7"
      },
      "outputs": [
        {
          "data": {
            "text/plain": [
              "{}"
            ]
          },
          "execution_count": 6,
          "metadata": {},
          "output_type": "execute_result"
        }
      ],
      "source": [
        "def recommender(training_data, users=[], k=10):\n",
        "    '''\n",
        "    * training_data: dataframe 輸入的訓練資料集（2018-09-01 以前資料）\n",
        "    * users: [] 需要被推薦的使用者\n",
        "    * k: int 每個使用者需要推薦的商品數\n",
        "    * recommendations: dict\n",
        "      {\n",
        "          使用者一： [推薦商品一, 推薦商品二, ...],\n",
        "          使用者二： [...], ...\n",
        "      }\n",
        "    '''\n",
        "    recommendations = {}\n",
        "    '''\n",
        "    Your Code\n",
        "    '''\n",
        "    return recommendations\n",
        "\n",
        "\n",
        "ratings_by_user = recommender(ratings_trainings, users)\n",
        "ratings_by_user"
      ],
      "id": "jOcKdzZuQ66J"
    },
    {
      "cell_type": "markdown",
      "metadata": {
        "id": "CcAbC2DYQ66J"
      },
      "source": [
        "## 結果評估"
      ],
      "id": "CcAbC2DYQ66J"
    },
    {
      "cell_type": "code",
      "execution_count": null,
      "metadata": {
        "id": "A1xVP38iQ66K",
        "outputId": "aad9c34b-9275-4b89-d6df-580689221843"
      },
      "outputs": [
        {
          "data": {
            "text/plain": [
              "0.0"
            ]
          },
          "execution_count": 7,
          "metadata": {},
          "output_type": "execute_result"
        }
      ],
      "source": [
        "def evaluate(ratings_testings_by_user={}, ratings_by_user={}, method=None):\n",
        "    '''\n",
        "    * ratings_testings_by_user: dict 真實被購買的商品資料（2018-09-01 以後資料）\n",
        "    * ratings_by_user: dict 利用訓練資料學習的推薦商品\n",
        "    * method: str\n",
        "    * score: float\n",
        "    '''\n",
        "    total = 0\n",
        "    for d in ratings_testings_by_user:\n",
        "        if d in ratings_by_user:\n",
        "            total += len(set(ratings_by_user[d]) & set(ratings_testings_by_user[d]))\n",
        "\n",
        "    score = total / len(ratings_testings)\n",
        "    return score\n",
        "\n",
        "evaluate(ratings_testings_by_user, ratings_by_user)"
      ],
      "id": "A1xVP38iQ66K"
    }
  ],
  "metadata": {
    "kernelspec": {
      "display_name": "Python 3",
      "language": "python",
      "name": "python3"
    },
    "language_info": {
      "codemirror_mode": {
        "name": "ipython",
        "version": 3
      },
      "file_extension": ".py",
      "mimetype": "text/x-python",
      "name": "python",
      "nbconvert_exporter": "python",
      "pygments_lexer": "ipython3",
      "version": "3.6.5"
    },
    "colab": {
      "name": "sample.ipynb",
      "provenance": []
    }
  },
  "nbformat": 4,
  "nbformat_minor": 5
}