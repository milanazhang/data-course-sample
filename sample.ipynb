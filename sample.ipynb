{
  "cells": [
    {
      "cell_type": "markdown",
      "metadata": {
        "id": "view-in-github",
        "colab_type": "text"
      },
      "source": [
        "<a href=\"https://colab.research.google.com/github/milanazhang/data-course-sample/blob/main/sample.ipynb\" target=\"_parent\"><img src=\"https://colab.research.google.com/assets/colab-badge.svg\" alt=\"Open In Colab\"/></a>"
      ]
    },
    {
      "cell_type": "markdown",
      "metadata": {
        "id": "0jM4s3USQ658"
      },
      "source": [
        "# Sample Code"
      ],
      "id": "0jM4s3USQ658"
    },
    {
      "cell_type": "markdown",
      "metadata": {
        "id": "6QHs6zrNQ65_"
      },
      "source": [
        "## 基礎建設"
      ],
      "id": "6QHs6zrNQ65_"
    },
    {
      "cell_type": "code",
      "execution_count": 1,
      "metadata": {
        "scrolled": true,
        "id": "80NOsbsSQ66A"
      },
      "outputs": [],
      "source": [
        "import pandas as pd\n",
        "import gzip, json\n",
        "\n",
        "def parse(path):\n",
        "    g = gzip.open(path, 'rb')\n",
        "    for l in g:\n",
        "        yield json.loads(l)\n",
        "\n",
        "def getDF(path):\n",
        "    i = 0\n",
        "    df = {}\n",
        "    for d in parse(path):\n",
        "        df[i] = d\n",
        "        i += 1\n",
        "    return pd.DataFrame.from_dict(df, orient='index')"
      ],
      "id": "80NOsbsSQ66A"
    },
    {
      "cell_type": "markdown",
      "metadata": {
        "id": "627NINYyQ66C"
      },
      "source": [
        "## 載入資料"
      ],
      "id": "627NINYyQ66C"
    },
    {
      "cell_type": "code",
      "execution_count": 2,
      "metadata": {
        "id": "tAA21n0JQ66D",
        "outputId": "92fbea8c-12e8-4f42-f27e-5e7e30efcd5a",
        "colab": {
          "base_uri": "https://localhost:8080/"
        }
      },
      "outputs": [
        {
          "output_type": "stream",
          "name": "stdout",
          "text": [
            "--2021-12-24 15:49:27--  http://deepyeti.ucsd.edu/jianmo/amazon/categoryFilesSmall/All_Beauty.csv\n",
            "Resolving deepyeti.ucsd.edu (deepyeti.ucsd.edu)... 169.228.63.50\n",
            "Connecting to deepyeti.ucsd.edu (deepyeti.ucsd.edu)|169.228.63.50|:80... connected.\n",
            "HTTP request sent, awaiting response... 200 OK\n",
            "Length: 15499476 (15M) [application/octet-stream]\n",
            "Saving to: ‘All_Beauty.csv’\n",
            "\n",
            "All_Beauty.csv      100%[===================>]  14.78M  72.4MB/s    in 0.2s    \n",
            "\n",
            "2021-12-24 15:49:27 (72.4 MB/s) - ‘All_Beauty.csv’ saved [15499476/15499476]\n",
            "\n",
            "--2021-12-24 15:49:27--  http://deepyeti.ucsd.edu/jianmo/amazon/metaFiles2/meta_All_Beauty.json.gz\n",
            "Resolving deepyeti.ucsd.edu (deepyeti.ucsd.edu)... 169.228.63.50\n",
            "Connecting to deepyeti.ucsd.edu (deepyeti.ucsd.edu)|169.228.63.50|:80... connected.\n",
            "HTTP request sent, awaiting response... 200 OK\n",
            "Length: 10329961 (9.9M) [application/octet-stream]\n",
            "Saving to: ‘meta_All_Beauty.json.gz’\n",
            "\n",
            "meta_All_Beauty.jso 100%[===================>]   9.85M  60.6MB/s    in 0.2s    \n",
            "\n",
            "2021-12-24 15:49:27 (60.6 MB/s) - ‘meta_All_Beauty.json.gz’ saved [10329961/10329961]\n",
            "\n"
          ]
        }
      ],
      "source": [
        "!wget http://deepyeti.ucsd.edu/jianmo/amazon/categoryFilesSmall/All_Beauty.csv\n",
        "!wget http://deepyeti.ucsd.edu/jianmo/amazon/metaFiles2/meta_All_Beauty.json.gz"
      ],
      "id": "tAA21n0JQ66D"
    },
    {
      "cell_type": "code",
      "execution_count": 3,
      "metadata": {
        "id": "HE-fQKBoQ66D"
      },
      "outputs": [],
      "source": [
        "metadata = getDF('/content/meta_All_Beauty.json.gz')\n",
        "ratings = pd.read_csv('/content/All_Beauty.csv', names=['asin', 'reviewerID', 'overall', 'unixReviewTime'], header=None)"
      ],
      "id": "HE-fQKBoQ66D"
    },
    {
      "cell_type": "markdown",
      "metadata": {
        "id": "tcQEBHtCQ66G"
      },
      "source": [
        "## 資料整理"
      ],
      "id": "tcQEBHtCQ66G"
    },
    {
      "cell_type": "code",
      "execution_count": 13,
      "metadata": {
        "id": "KCKxmUqvQ66E"
      },
      "outputs": [],
      "source": [
        "import numpy as np\n",
        "import re\n",
        "#挑選需要欄位與整理欄位內的特殊符號\n",
        "metadata_df = metadata[[\"asin\",\"also_buy\",\"also_view\",\"rank\",\"main_cat\",\"similar_item\",\"price\"]]\n",
        "metadata_df = metadata_df.replace(r'^\\s*$', np.nan, regex = True)\n",
        "metadata_df = metadata_df.mask(metadata_df.applymap(str).eq('[]'))"
      ],
      "id": "KCKxmUqvQ66E"
    },
    {
      "cell_type": "code",
      "source": [
        "#將rank分成排名與商品子集\n",
        "metadata_df['rank'] = metadata_df['rank'].str.replace(',', '')\n",
        "metadata_df['sub_cat'] = metadata_df['rank'].str.extract(r'(\\d+) in (.*) \\($')[1].str.replace('&amp;','&')\n",
        "metadata_df['rank_num'] = pd.to_numeric(metadata_df['rank'].str.extract(r'(\\d+) in (.*) \\($')[0])\n",
        "metadata_df = metadata_df.drop(\"rank\",axis=1)"
      ],
      "metadata": {
        "id": "BHOciHxuxY05"
      },
      "id": "BHOciHxuxY05",
      "execution_count": 14,
      "outputs": []
    },
    {
      "cell_type": "code",
      "source": [
        "#統計商品子集有多少種及各種占比\n",
        "rank_dict = {}\n",
        "for i in metadata_df['sub_cat'].to_list():\n",
        "  if rank_dict.get(i) != None:\n",
        "    rank_dict[i] += 1\n",
        "  else:\n",
        "    rank_dict[i] = 1\n",
        "for key in rank_dict.keys():\n",
        "  print(key,rank_dict[key])"
      ],
      "metadata": {
        "id": "1xWBw48S4Z80",
        "outputId": "1587551a-b2af-4ec1-935b-bc69eed60f06",
        "colab": {
          "base_uri": "https://localhost:8080/"
        }
      },
      "id": "1xWBw48S4Z80",
      "execution_count": 15,
      "outputs": [
        {
          "output_type": "stream",
          "name": "stdout",
          "text": [
            "Beauty & Personal Care 32380\n",
            "nan 440\n",
            "Grocery & Gourmet Food 38\n",
            "Health & Household 21\n",
            "Sports & Outdoors 3\n",
            "Toys & Games 3\n",
            "Baby 2\n",
            "Clothing Shoes & Jewelry 2\n",
            "Home & Kitchen 1\n",
            "Automotive 1\n",
            "Tools & Home Improvement 1\n"
          ]
        }
      ]
    },
    {
      "cell_type": "code",
      "source": [
        "metadata_df.head()"
      ],
      "metadata": {
        "id": "r6s594hq7dCk",
        "outputId": "c5f0da72-a9dc-4eb3-819f-4cbf91d97587",
        "colab": {
          "base_uri": "https://localhost:8080/",
          "height": 337
        }
      },
      "id": "r6s594hq7dCk",
      "execution_count": 16,
      "outputs": [
        {
          "output_type": "execute_result",
          "data": {
            "text/html": [
              "\n",
              "  <div id=\"df-cd267531-6a2a-494d-9c4f-2d5bb576be77\">\n",
              "    <div class=\"colab-df-container\">\n",
              "      <div>\n",
              "<style scoped>\n",
              "    .dataframe tbody tr th:only-of-type {\n",
              "        vertical-align: middle;\n",
              "    }\n",
              "\n",
              "    .dataframe tbody tr th {\n",
              "        vertical-align: top;\n",
              "    }\n",
              "\n",
              "    .dataframe thead th {\n",
              "        text-align: right;\n",
              "    }\n",
              "</style>\n",
              "<table border=\"1\" class=\"dataframe\">\n",
              "  <thead>\n",
              "    <tr style=\"text-align: right;\">\n",
              "      <th></th>\n",
              "      <th>asin</th>\n",
              "      <th>also_buy</th>\n",
              "      <th>also_view</th>\n",
              "      <th>main_cat</th>\n",
              "      <th>similar_item</th>\n",
              "      <th>price</th>\n",
              "      <th>sub_cat</th>\n",
              "      <th>rank_num</th>\n",
              "    </tr>\n",
              "  </thead>\n",
              "  <tbody>\n",
              "    <tr>\n",
              "      <th>0</th>\n",
              "      <td>6546546450</td>\n",
              "      <td>NaN</td>\n",
              "      <td>NaN</td>\n",
              "      <td>All Beauty</td>\n",
              "      <td>NaN</td>\n",
              "      <td>NaN</td>\n",
              "      <td>Beauty &amp; Personal Care</td>\n",
              "      <td>2938573.0</td>\n",
              "    </tr>\n",
              "    <tr>\n",
              "      <th>1</th>\n",
              "      <td>7178680776</td>\n",
              "      <td>[B01E7LCSL6, B008X5RVME]</td>\n",
              "      <td>NaN</td>\n",
              "      <td>All Beauty</td>\n",
              "      <td>class=\"a-bordered a-horizontal-stripes  a-spa...</td>\n",
              "      <td>$44.99</td>\n",
              "      <td>Beauty &amp; Personal Care</td>\n",
              "      <td>872854.0</td>\n",
              "    </tr>\n",
              "    <tr>\n",
              "      <th>2</th>\n",
              "      <td>7250468162</td>\n",
              "      <td>NaN</td>\n",
              "      <td>[B01B8BR0O8, B01B8BR0NO, B014MHXXM8]</td>\n",
              "      <td>All Beauty</td>\n",
              "      <td>NaN</td>\n",
              "      <td>$28.76</td>\n",
              "      <td>Beauty &amp; Personal Care</td>\n",
              "      <td>956696.0</td>\n",
              "    </tr>\n",
              "    <tr>\n",
              "      <th>3</th>\n",
              "      <td>7367905066</td>\n",
              "      <td>[B0041PBXX8]</td>\n",
              "      <td>NaN</td>\n",
              "      <td>All Beauty</td>\n",
              "      <td>NaN</td>\n",
              "      <td>NaN</td>\n",
              "      <td>Beauty &amp; Personal Care</td>\n",
              "      <td>1870258.0</td>\n",
              "    </tr>\n",
              "    <tr>\n",
              "      <th>4</th>\n",
              "      <td>7414204790</td>\n",
              "      <td>NaN</td>\n",
              "      <td>[3254895630, B007VL1D9S, B00EH9A0RI, B0773MBG4...</td>\n",
              "      <td>All Beauty</td>\n",
              "      <td>NaN</td>\n",
              "      <td>$12.15</td>\n",
              "      <td>Beauty &amp; Personal Care</td>\n",
              "      <td>67701.0</td>\n",
              "    </tr>\n",
              "  </tbody>\n",
              "</table>\n",
              "</div>\n",
              "      <button class=\"colab-df-convert\" onclick=\"convertToInteractive('df-cd267531-6a2a-494d-9c4f-2d5bb576be77')\"\n",
              "              title=\"Convert this dataframe to an interactive table.\"\n",
              "              style=\"display:none;\">\n",
              "        \n",
              "  <svg xmlns=\"http://www.w3.org/2000/svg\" height=\"24px\"viewBox=\"0 0 24 24\"\n",
              "       width=\"24px\">\n",
              "    <path d=\"M0 0h24v24H0V0z\" fill=\"none\"/>\n",
              "    <path d=\"M18.56 5.44l.94 2.06.94-2.06 2.06-.94-2.06-.94-.94-2.06-.94 2.06-2.06.94zm-11 1L8.5 8.5l.94-2.06 2.06-.94-2.06-.94L8.5 2.5l-.94 2.06-2.06.94zm10 10l.94 2.06.94-2.06 2.06-.94-2.06-.94-.94-2.06-.94 2.06-2.06.94z\"/><path d=\"M17.41 7.96l-1.37-1.37c-.4-.4-.92-.59-1.43-.59-.52 0-1.04.2-1.43.59L10.3 9.45l-7.72 7.72c-.78.78-.78 2.05 0 2.83L4 21.41c.39.39.9.59 1.41.59.51 0 1.02-.2 1.41-.59l7.78-7.78 2.81-2.81c.8-.78.8-2.07 0-2.86zM5.41 20L4 18.59l7.72-7.72 1.47 1.35L5.41 20z\"/>\n",
              "  </svg>\n",
              "      </button>\n",
              "      \n",
              "  <style>\n",
              "    .colab-df-container {\n",
              "      display:flex;\n",
              "      flex-wrap:wrap;\n",
              "      gap: 12px;\n",
              "    }\n",
              "\n",
              "    .colab-df-convert {\n",
              "      background-color: #E8F0FE;\n",
              "      border: none;\n",
              "      border-radius: 50%;\n",
              "      cursor: pointer;\n",
              "      display: none;\n",
              "      fill: #1967D2;\n",
              "      height: 32px;\n",
              "      padding: 0 0 0 0;\n",
              "      width: 32px;\n",
              "    }\n",
              "\n",
              "    .colab-df-convert:hover {\n",
              "      background-color: #E2EBFA;\n",
              "      box-shadow: 0px 1px 2px rgba(60, 64, 67, 0.3), 0px 1px 3px 1px rgba(60, 64, 67, 0.15);\n",
              "      fill: #174EA6;\n",
              "    }\n",
              "\n",
              "    [theme=dark] .colab-df-convert {\n",
              "      background-color: #3B4455;\n",
              "      fill: #D2E3FC;\n",
              "    }\n",
              "\n",
              "    [theme=dark] .colab-df-convert:hover {\n",
              "      background-color: #434B5C;\n",
              "      box-shadow: 0px 1px 3px 1px rgba(0, 0, 0, 0.15);\n",
              "      filter: drop-shadow(0px 1px 2px rgba(0, 0, 0, 0.3));\n",
              "      fill: #FFFFFF;\n",
              "    }\n",
              "  </style>\n",
              "\n",
              "      <script>\n",
              "        const buttonEl =\n",
              "          document.querySelector('#df-cd267531-6a2a-494d-9c4f-2d5bb576be77 button.colab-df-convert');\n",
              "        buttonEl.style.display =\n",
              "          google.colab.kernel.accessAllowed ? 'block' : 'none';\n",
              "\n",
              "        async function convertToInteractive(key) {\n",
              "          const element = document.querySelector('#df-cd267531-6a2a-494d-9c4f-2d5bb576be77');\n",
              "          const dataTable =\n",
              "            await google.colab.kernel.invokeFunction('convertToInteractive',\n",
              "                                                     [key], {});\n",
              "          if (!dataTable) return;\n",
              "\n",
              "          const docLinkHtml = 'Like what you see? Visit the ' +\n",
              "            '<a target=\"_blank\" href=https://colab.research.google.com/notebooks/data_table.ipynb>data table notebook</a>'\n",
              "            + ' to learn more about interactive tables.';\n",
              "          element.innerHTML = '';\n",
              "          dataTable['output_type'] = 'display_data';\n",
              "          await google.colab.output.renderOutput(dataTable, element);\n",
              "          const docLink = document.createElement('div');\n",
              "          docLink.innerHTML = docLinkHtml;\n",
              "          element.appendChild(docLink);\n",
              "        }\n",
              "      </script>\n",
              "    </div>\n",
              "  </div>\n",
              "  "
            ],
            "text/plain": [
              "         asin                  also_buy  ...                 sub_cat   rank_num\n",
              "0  6546546450                       NaN  ...  Beauty & Personal Care  2938573.0\n",
              "1  7178680776  [B01E7LCSL6, B008X5RVME]  ...  Beauty & Personal Care   872854.0\n",
              "2  7250468162                       NaN  ...  Beauty & Personal Care   956696.0\n",
              "3  7367905066              [B0041PBXX8]  ...  Beauty & Personal Care  1870258.0\n",
              "4  7414204790                       NaN  ...  Beauty & Personal Care    67701.0\n",
              "\n",
              "[5 rows x 8 columns]"
            ]
          },
          "metadata": {},
          "execution_count": 16
        }
      ]
    },
    {
      "cell_type": "code",
      "execution_count": 18,
      "metadata": {
        "id": "CITa1DYjQ66G"
      },
      "outputs": [],
      "source": [
        "ratings['DATE'] = pd.to_datetime(ratings['unixReviewTime'], unit='s')"
      ],
      "id": "CITa1DYjQ66G"
    },
    {
      "cell_type": "markdown",
      "metadata": {
        "id": "jub52TdQQ66H"
      },
      "source": [
        "## 資料切分"
      ],
      "id": "jub52TdQQ66H"
    },
    {
      "cell_type": "code",
      "execution_count": 19,
      "metadata": {
        "id": "YrNl0BctQ66I"
      },
      "outputs": [],
      "source": [
        "ratings_trainings = ratings[\n",
        "    (ratings['DATE'] < '2018-09-01')\n",
        "]\n",
        "ratings_testings = ratings[\n",
        "    (ratings['DATE'] >= '2018-09-01') & \n",
        "    (ratings['DATE'] <= '2018-09-30')\n",
        "]\n",
        "ratings_testings_by_user = ratings_testings.groupby('reviewerID').agg(list).reset_index()[['reviewerID', 'asin']].to_dict('records')\n",
        "ratings_testings_by_user = { rating['reviewerID']: rating['asin'] for rating in ratings_testings_by_user }\n",
        "users = list(ratings_testings_by_user.keys())"
      ],
      "id": "YrNl0BctQ66I"
    },
    {
      "cell_type": "code",
      "source": [
        "#計算商品總聲量與正面聲量\n",
        "volume_sum = {ratings[\"asin\"]:ratings[\"reviewerID\"] for ratings in ratings_trainings.groupby(\"asin\").count().reset_index()[[\"asin\",\"reviewerID\"]].to_dict('records')}\n",
        "good_ratings = ratings_trainings[ratings_trainings[\"overall\"] >= 4]\n",
        "volume_good = {ratings[\"asin\"]:ratings[\"reviewerID\"] for ratings in good_ratings.groupby(\"asin\").count().reset_index()[[\"asin\",\"reviewerID\"]].to_dict('records')}"
      ],
      "metadata": {
        "id": "3GExmv5eMFA_"
      },
      "id": "3GExmv5eMFA_",
      "execution_count": 33,
      "outputs": []
    },
    {
      "cell_type": "code",
      "source": [
        "#計算商品回購間隔時間\n",
        "from datetime import timedelta\n",
        "date_sort = ratings_trainings.sort_values(['DATE'],ascending=True).groupby([\"asin\", \"reviewerID\"]).head(11)\n",
        "date_sort['dur'] = date_sort.groupby(['asin', 'reviewerID'])[\"DATE\"].apply(lambda x: x.diff(1))\n",
        "repurchase = date_sort[date_sort[\"dur\"].notna()][date_sort[date_sort[\"dur\"].notna()][\"dur\"] != \"0 days\"]\n",
        "repurchase[\"dur\"] = repurchase[\"dur\"].astype(\"str\").str.extract(r'(\\d+) (.*$)')[0].astype(int)\n",
        "purchase_dur = {d[\"asin\"]:d[\"dur\"] for d in repurchase.groupby(\"asin\").agg({\"dur\":pd.Series.median}).reset_index()[[\"asin\",\"dur\"]].to_dict('records')}"
      ],
      "metadata": {
        "id": "YRq7-1JHcrxH"
      },
      "id": "YRq7-1JHcrxH",
      "execution_count": 90,
      "outputs": []
    },
    {
      "cell_type": "code",
      "source": [
        "#計算每個商品的回購人數與總購買人數\n",
        "repurchase_num = {d[\"asin\"]:len(set(d[\"reviewerID\"])) for d in repurchase[['reviewerID', 'asin']].groupby('asin').agg(list).reset_index()[['reviewerID', 'asin']].to_dict('records')}\n",
        "purchase_sum = {d[\"asin\"]:len(set(d[\"reviewerID\"])) for d in ratings_trainings[['reviewerID', 'asin']].groupby('asin').agg(list).reset_index()[['reviewerID', 'asin']].to_dict('records')}"
      ],
      "metadata": {
        "id": "5qcJMJNyjYDy"
      },
      "id": "5qcJMJNyjYDy",
      "execution_count": 96,
      "outputs": []
    },
    {
      "cell_type": "code",
      "source": [
        "#將上述產生的商品特徵整併進metadata裡\n",
        "metadata_df[\"volume_sum\"] = [volume_sum[v] if v in volume_sum.keys() else 0 for v in metadata_df[\"asin\"].to_list()]\n",
        "metadata_df[\"volume_good\"] = [volume_good[v] if v in volume_good.keys() else 0 for v in metadata_df[\"asin\"].to_list()]\n",
        "metadata_df[\"purchase_dur\"] = [purchase_dur[v] if v in purchase_dur.keys() else 0 for v in metadata_df[\"asin\"].to_list()]\n",
        "metadata_df[\"repurchase_num\"] = [repurchase_num[v] if v in repurchase_num.keys() else 0 for v in metadata_df[\"asin\"].to_list()]\n",
        "metadata_df[\"purchase_sum\"] = [purchase_sum[v] if v in purchase_sum.keys() else 0 for v in metadata_df[\"asin\"].to_list()]"
      ],
      "metadata": {
        "id": "IuTj8nEXpiOe"
      },
      "id": "IuTj8nEXpiOe",
      "execution_count": 97,
      "outputs": []
    },
    {
      "cell_type": "code",
      "source": [
        "metadata_df.head()"
      ],
      "metadata": {
        "id": "jTRwQYWBsCnL",
        "outputId": "6599def4-7b11-474c-b828-66b30006a249",
        "colab": {
          "base_uri": "https://localhost:8080/",
          "height": 511
        }
      },
      "id": "jTRwQYWBsCnL",
      "execution_count": 99,
      "outputs": [
        {
          "output_type": "execute_result",
          "data": {
            "text/html": [
              "\n",
              "  <div id=\"df-1d938204-c988-483d-9dd0-85054d2cbe67\">\n",
              "    <div class=\"colab-df-container\">\n",
              "      <div>\n",
              "<style scoped>\n",
              "    .dataframe tbody tr th:only-of-type {\n",
              "        vertical-align: middle;\n",
              "    }\n",
              "\n",
              "    .dataframe tbody tr th {\n",
              "        vertical-align: top;\n",
              "    }\n",
              "\n",
              "    .dataframe thead th {\n",
              "        text-align: right;\n",
              "    }\n",
              "</style>\n",
              "<table border=\"1\" class=\"dataframe\">\n",
              "  <thead>\n",
              "    <tr style=\"text-align: right;\">\n",
              "      <th></th>\n",
              "      <th>asin</th>\n",
              "      <th>also_buy</th>\n",
              "      <th>also_view</th>\n",
              "      <th>main_cat</th>\n",
              "      <th>similar_item</th>\n",
              "      <th>price</th>\n",
              "      <th>sub_cat</th>\n",
              "      <th>rank_num</th>\n",
              "      <th>volume_sum</th>\n",
              "      <th>volume_good</th>\n",
              "      <th>purchase_dur</th>\n",
              "      <th>repurchase_num</th>\n",
              "      <th>purchase_sum</th>\n",
              "    </tr>\n",
              "  </thead>\n",
              "  <tbody>\n",
              "    <tr>\n",
              "      <th>0</th>\n",
              "      <td>6546546450</td>\n",
              "      <td>NaN</td>\n",
              "      <td>NaN</td>\n",
              "      <td>All Beauty</td>\n",
              "      <td>NaN</td>\n",
              "      <td>NaN</td>\n",
              "      <td>Beauty &amp; Personal Care</td>\n",
              "      <td>2938573.0</td>\n",
              "      <td>2</td>\n",
              "      <td>1</td>\n",
              "      <td>0.0</td>\n",
              "      <td>0</td>\n",
              "      <td>2</td>\n",
              "    </tr>\n",
              "    <tr>\n",
              "      <th>1</th>\n",
              "      <td>7178680776</td>\n",
              "      <td>[B01E7LCSL6, B008X5RVME]</td>\n",
              "      <td>NaN</td>\n",
              "      <td>All Beauty</td>\n",
              "      <td>class=\"a-bordered a-horizontal-stripes  a-spa...</td>\n",
              "      <td>$44.99</td>\n",
              "      <td>Beauty &amp; Personal Care</td>\n",
              "      <td>872854.0</td>\n",
              "      <td>1</td>\n",
              "      <td>0</td>\n",
              "      <td>0.0</td>\n",
              "      <td>0</td>\n",
              "      <td>1</td>\n",
              "    </tr>\n",
              "    <tr>\n",
              "      <th>2</th>\n",
              "      <td>7250468162</td>\n",
              "      <td>NaN</td>\n",
              "      <td>[B01B8BR0O8, B01B8BR0NO, B014MHXXM8]</td>\n",
              "      <td>All Beauty</td>\n",
              "      <td>NaN</td>\n",
              "      <td>$28.76</td>\n",
              "      <td>Beauty &amp; Personal Care</td>\n",
              "      <td>956696.0</td>\n",
              "      <td>1</td>\n",
              "      <td>1</td>\n",
              "      <td>0.0</td>\n",
              "      <td>0</td>\n",
              "      <td>1</td>\n",
              "    </tr>\n",
              "    <tr>\n",
              "      <th>3</th>\n",
              "      <td>7367905066</td>\n",
              "      <td>[B0041PBXX8]</td>\n",
              "      <td>NaN</td>\n",
              "      <td>All Beauty</td>\n",
              "      <td>NaN</td>\n",
              "      <td>NaN</td>\n",
              "      <td>Beauty &amp; Personal Care</td>\n",
              "      <td>1870258.0</td>\n",
              "      <td>1</td>\n",
              "      <td>1</td>\n",
              "      <td>0.0</td>\n",
              "      <td>0</td>\n",
              "      <td>1</td>\n",
              "    </tr>\n",
              "    <tr>\n",
              "      <th>4</th>\n",
              "      <td>7414204790</td>\n",
              "      <td>NaN</td>\n",
              "      <td>[3254895630, B007VL1D9S, B00EH9A0RI, B0773MBG4...</td>\n",
              "      <td>All Beauty</td>\n",
              "      <td>NaN</td>\n",
              "      <td>$12.15</td>\n",
              "      <td>Beauty &amp; Personal Care</td>\n",
              "      <td>67701.0</td>\n",
              "      <td>15</td>\n",
              "      <td>13</td>\n",
              "      <td>0.0</td>\n",
              "      <td>0</td>\n",
              "      <td>15</td>\n",
              "    </tr>\n",
              "  </tbody>\n",
              "</table>\n",
              "</div>\n",
              "      <button class=\"colab-df-convert\" onclick=\"convertToInteractive('df-1d938204-c988-483d-9dd0-85054d2cbe67')\"\n",
              "              title=\"Convert this dataframe to an interactive table.\"\n",
              "              style=\"display:none;\">\n",
              "        \n",
              "  <svg xmlns=\"http://www.w3.org/2000/svg\" height=\"24px\"viewBox=\"0 0 24 24\"\n",
              "       width=\"24px\">\n",
              "    <path d=\"M0 0h24v24H0V0z\" fill=\"none\"/>\n",
              "    <path d=\"M18.56 5.44l.94 2.06.94-2.06 2.06-.94-2.06-.94-.94-2.06-.94 2.06-2.06.94zm-11 1L8.5 8.5l.94-2.06 2.06-.94-2.06-.94L8.5 2.5l-.94 2.06-2.06.94zm10 10l.94 2.06.94-2.06 2.06-.94-2.06-.94-.94-2.06-.94 2.06-2.06.94z\"/><path d=\"M17.41 7.96l-1.37-1.37c-.4-.4-.92-.59-1.43-.59-.52 0-1.04.2-1.43.59L10.3 9.45l-7.72 7.72c-.78.78-.78 2.05 0 2.83L4 21.41c.39.39.9.59 1.41.59.51 0 1.02-.2 1.41-.59l7.78-7.78 2.81-2.81c.8-.78.8-2.07 0-2.86zM5.41 20L4 18.59l7.72-7.72 1.47 1.35L5.41 20z\"/>\n",
              "  </svg>\n",
              "      </button>\n",
              "      \n",
              "  <style>\n",
              "    .colab-df-container {\n",
              "      display:flex;\n",
              "      flex-wrap:wrap;\n",
              "      gap: 12px;\n",
              "    }\n",
              "\n",
              "    .colab-df-convert {\n",
              "      background-color: #E8F0FE;\n",
              "      border: none;\n",
              "      border-radius: 50%;\n",
              "      cursor: pointer;\n",
              "      display: none;\n",
              "      fill: #1967D2;\n",
              "      height: 32px;\n",
              "      padding: 0 0 0 0;\n",
              "      width: 32px;\n",
              "    }\n",
              "\n",
              "    .colab-df-convert:hover {\n",
              "      background-color: #E2EBFA;\n",
              "      box-shadow: 0px 1px 2px rgba(60, 64, 67, 0.3), 0px 1px 3px 1px rgba(60, 64, 67, 0.15);\n",
              "      fill: #174EA6;\n",
              "    }\n",
              "\n",
              "    [theme=dark] .colab-df-convert {\n",
              "      background-color: #3B4455;\n",
              "      fill: #D2E3FC;\n",
              "    }\n",
              "\n",
              "    [theme=dark] .colab-df-convert:hover {\n",
              "      background-color: #434B5C;\n",
              "      box-shadow: 0px 1px 3px 1px rgba(0, 0, 0, 0.15);\n",
              "      filter: drop-shadow(0px 1px 2px rgba(0, 0, 0, 0.3));\n",
              "      fill: #FFFFFF;\n",
              "    }\n",
              "  </style>\n",
              "\n",
              "      <script>\n",
              "        const buttonEl =\n",
              "          document.querySelector('#df-1d938204-c988-483d-9dd0-85054d2cbe67 button.colab-df-convert');\n",
              "        buttonEl.style.display =\n",
              "          google.colab.kernel.accessAllowed ? 'block' : 'none';\n",
              "\n",
              "        async function convertToInteractive(key) {\n",
              "          const element = document.querySelector('#df-1d938204-c988-483d-9dd0-85054d2cbe67');\n",
              "          const dataTable =\n",
              "            await google.colab.kernel.invokeFunction('convertToInteractive',\n",
              "                                                     [key], {});\n",
              "          if (!dataTable) return;\n",
              "\n",
              "          const docLinkHtml = 'Like what you see? Visit the ' +\n",
              "            '<a target=\"_blank\" href=https://colab.research.google.com/notebooks/data_table.ipynb>data table notebook</a>'\n",
              "            + ' to learn more about interactive tables.';\n",
              "          element.innerHTML = '';\n",
              "          dataTable['output_type'] = 'display_data';\n",
              "          await google.colab.output.renderOutput(dataTable, element);\n",
              "          const docLink = document.createElement('div');\n",
              "          docLink.innerHTML = docLinkHtml;\n",
              "          element.appendChild(docLink);\n",
              "        }\n",
              "      </script>\n",
              "    </div>\n",
              "  </div>\n",
              "  "
            ],
            "text/plain": [
              "         asin                  also_buy  ... repurchase_num purchase_sum\n",
              "0  6546546450                       NaN  ...              0            2\n",
              "1  7178680776  [B01E7LCSL6, B008X5RVME]  ...              0            1\n",
              "2  7250468162                       NaN  ...              0            1\n",
              "3  7367905066              [B0041PBXX8]  ...              0            1\n",
              "4  7414204790                       NaN  ...              0           15\n",
              "\n",
              "[5 rows x 13 columns]"
            ]
          },
          "metadata": {},
          "execution_count": 99
        }
      ]
    },
    {
      "cell_type": "code",
      "source": [
        "ratings_trainings.groupby(['asin', 'reviewerID']).count().reset_index().sort_values(['overall'],ascending=False)"
      ],
      "metadata": {
        "id": "DsvLysgtWMx-",
        "outputId": "aa3fdaf8-7dec-4568-aded-0275ecae6abf",
        "colab": {
          "base_uri": "https://localhost:8080/",
          "height": 423
        }
      },
      "id": "DsvLysgtWMx-",
      "execution_count": 48,
      "outputs": [
        {
          "output_type": "execute_result",
          "data": {
            "text/html": [
              "\n",
              "  <div id=\"df-0b004af0-f341-4eba-bff8-778cdf1c800b\">\n",
              "    <div class=\"colab-df-container\">\n",
              "      <div>\n",
              "<style scoped>\n",
              "    .dataframe tbody tr th:only-of-type {\n",
              "        vertical-align: middle;\n",
              "    }\n",
              "\n",
              "    .dataframe tbody tr th {\n",
              "        vertical-align: top;\n",
              "    }\n",
              "\n",
              "    .dataframe thead th {\n",
              "        text-align: right;\n",
              "    }\n",
              "</style>\n",
              "<table border=\"1\" class=\"dataframe\">\n",
              "  <thead>\n",
              "    <tr style=\"text-align: right;\">\n",
              "      <th></th>\n",
              "      <th>asin</th>\n",
              "      <th>reviewerID</th>\n",
              "      <th>overall</th>\n",
              "      <th>unixReviewTime</th>\n",
              "      <th>DATE</th>\n",
              "    </tr>\n",
              "  </thead>\n",
              "  <tbody>\n",
              "    <tr>\n",
              "      <th>339410</th>\n",
              "      <td>B01DLR9IDI</td>\n",
              "      <td>AUX122XW8ONG6</td>\n",
              "      <td>11</td>\n",
              "      <td>11</td>\n",
              "      <td>11</td>\n",
              "    </tr>\n",
              "    <tr>\n",
              "      <th>254496</th>\n",
              "      <td>B00W259T7G</td>\n",
              "      <td>A3NFZN1GS1RKR9</td>\n",
              "      <td>11</td>\n",
              "      <td>11</td>\n",
              "      <td>11</td>\n",
              "    </tr>\n",
              "    <tr>\n",
              "      <th>339196</th>\n",
              "      <td>B01DLR9IDI</td>\n",
              "      <td>A11QGZ39A7ZF0X</td>\n",
              "      <td>10</td>\n",
              "      <td>10</td>\n",
              "      <td>10</td>\n",
              "    </tr>\n",
              "    <tr>\n",
              "      <th>142974</th>\n",
              "      <td>B007V6JNE0</td>\n",
              "      <td>AKJHHD5VEH7VG</td>\n",
              "      <td>9</td>\n",
              "      <td>9</td>\n",
              "      <td>9</td>\n",
              "    </tr>\n",
              "    <tr>\n",
              "      <th>252913</th>\n",
              "      <td>B00W259T7G</td>\n",
              "      <td>A1EGCED01USBA9</td>\n",
              "      <td>8</td>\n",
              "      <td>8</td>\n",
              "      <td>8</td>\n",
              "    </tr>\n",
              "    <tr>\n",
              "      <th>...</th>\n",
              "      <td>...</td>\n",
              "      <td>...</td>\n",
              "      <td>...</td>\n",
              "      <td>...</td>\n",
              "      <td>...</td>\n",
              "    </tr>\n",
              "    <tr>\n",
              "      <th>126143</th>\n",
              "      <td>B005M2C6PS</td>\n",
              "      <td>A2X2ZLADKCRRZD</td>\n",
              "      <td>1</td>\n",
              "      <td>1</td>\n",
              "      <td>1</td>\n",
              "    </tr>\n",
              "    <tr>\n",
              "      <th>126142</th>\n",
              "      <td>B005M2C6PS</td>\n",
              "      <td>A2WTWEN2KHYGFN</td>\n",
              "      <td>1</td>\n",
              "      <td>1</td>\n",
              "      <td>1</td>\n",
              "    </tr>\n",
              "    <tr>\n",
              "      <th>126141</th>\n",
              "      <td>B005M2C6PS</td>\n",
              "      <td>A2W8G7UQ913P0F</td>\n",
              "      <td>1</td>\n",
              "      <td>1</td>\n",
              "      <td>1</td>\n",
              "    </tr>\n",
              "    <tr>\n",
              "      <th>126140</th>\n",
              "      <td>B005M2C6PS</td>\n",
              "      <td>A2TFXG59H78SIG</td>\n",
              "      <td>1</td>\n",
              "      <td>1</td>\n",
              "      <td>1</td>\n",
              "    </tr>\n",
              "    <tr>\n",
              "      <th>361011</th>\n",
              "      <td>B01HJEGTYK</td>\n",
              "      <td>AF3SZ7YB5M3Q5</td>\n",
              "      <td>1</td>\n",
              "      <td>1</td>\n",
              "      <td>1</td>\n",
              "    </tr>\n",
              "  </tbody>\n",
              "</table>\n",
              "<p>361012 rows × 5 columns</p>\n",
              "</div>\n",
              "      <button class=\"colab-df-convert\" onclick=\"convertToInteractive('df-0b004af0-f341-4eba-bff8-778cdf1c800b')\"\n",
              "              title=\"Convert this dataframe to an interactive table.\"\n",
              "              style=\"display:none;\">\n",
              "        \n",
              "  <svg xmlns=\"http://www.w3.org/2000/svg\" height=\"24px\"viewBox=\"0 0 24 24\"\n",
              "       width=\"24px\">\n",
              "    <path d=\"M0 0h24v24H0V0z\" fill=\"none\"/>\n",
              "    <path d=\"M18.56 5.44l.94 2.06.94-2.06 2.06-.94-2.06-.94-.94-2.06-.94 2.06-2.06.94zm-11 1L8.5 8.5l.94-2.06 2.06-.94-2.06-.94L8.5 2.5l-.94 2.06-2.06.94zm10 10l.94 2.06.94-2.06 2.06-.94-2.06-.94-.94-2.06-.94 2.06-2.06.94z\"/><path d=\"M17.41 7.96l-1.37-1.37c-.4-.4-.92-.59-1.43-.59-.52 0-1.04.2-1.43.59L10.3 9.45l-7.72 7.72c-.78.78-.78 2.05 0 2.83L4 21.41c.39.39.9.59 1.41.59.51 0 1.02-.2 1.41-.59l7.78-7.78 2.81-2.81c.8-.78.8-2.07 0-2.86zM5.41 20L4 18.59l7.72-7.72 1.47 1.35L5.41 20z\"/>\n",
              "  </svg>\n",
              "      </button>\n",
              "      \n",
              "  <style>\n",
              "    .colab-df-container {\n",
              "      display:flex;\n",
              "      flex-wrap:wrap;\n",
              "      gap: 12px;\n",
              "    }\n",
              "\n",
              "    .colab-df-convert {\n",
              "      background-color: #E8F0FE;\n",
              "      border: none;\n",
              "      border-radius: 50%;\n",
              "      cursor: pointer;\n",
              "      display: none;\n",
              "      fill: #1967D2;\n",
              "      height: 32px;\n",
              "      padding: 0 0 0 0;\n",
              "      width: 32px;\n",
              "    }\n",
              "\n",
              "    .colab-df-convert:hover {\n",
              "      background-color: #E2EBFA;\n",
              "      box-shadow: 0px 1px 2px rgba(60, 64, 67, 0.3), 0px 1px 3px 1px rgba(60, 64, 67, 0.15);\n",
              "      fill: #174EA6;\n",
              "    }\n",
              "\n",
              "    [theme=dark] .colab-df-convert {\n",
              "      background-color: #3B4455;\n",
              "      fill: #D2E3FC;\n",
              "    }\n",
              "\n",
              "    [theme=dark] .colab-df-convert:hover {\n",
              "      background-color: #434B5C;\n",
              "      box-shadow: 0px 1px 3px 1px rgba(0, 0, 0, 0.15);\n",
              "      filter: drop-shadow(0px 1px 2px rgba(0, 0, 0, 0.3));\n",
              "      fill: #FFFFFF;\n",
              "    }\n",
              "  </style>\n",
              "\n",
              "      <script>\n",
              "        const buttonEl =\n",
              "          document.querySelector('#df-0b004af0-f341-4eba-bff8-778cdf1c800b button.colab-df-convert');\n",
              "        buttonEl.style.display =\n",
              "          google.colab.kernel.accessAllowed ? 'block' : 'none';\n",
              "\n",
              "        async function convertToInteractive(key) {\n",
              "          const element = document.querySelector('#df-0b004af0-f341-4eba-bff8-778cdf1c800b');\n",
              "          const dataTable =\n",
              "            await google.colab.kernel.invokeFunction('convertToInteractive',\n",
              "                                                     [key], {});\n",
              "          if (!dataTable) return;\n",
              "\n",
              "          const docLinkHtml = 'Like what you see? Visit the ' +\n",
              "            '<a target=\"_blank\" href=https://colab.research.google.com/notebooks/data_table.ipynb>data table notebook</a>'\n",
              "            + ' to learn more about interactive tables.';\n",
              "          element.innerHTML = '';\n",
              "          dataTable['output_type'] = 'display_data';\n",
              "          await google.colab.output.renderOutput(dataTable, element);\n",
              "          const docLink = document.createElement('div');\n",
              "          docLink.innerHTML = docLinkHtml;\n",
              "          element.appendChild(docLink);\n",
              "        }\n",
              "      </script>\n",
              "    </div>\n",
              "  </div>\n",
              "  "
            ],
            "text/plain": [
              "              asin      reviewerID  overall  unixReviewTime  DATE\n",
              "339410  B01DLR9IDI   AUX122XW8ONG6       11              11    11\n",
              "254496  B00W259T7G  A3NFZN1GS1RKR9       11              11    11\n",
              "339196  B01DLR9IDI  A11QGZ39A7ZF0X       10              10    10\n",
              "142974  B007V6JNE0   AKJHHD5VEH7VG        9               9     9\n",
              "252913  B00W259T7G  A1EGCED01USBA9        8               8     8\n",
              "...            ...             ...      ...             ...   ...\n",
              "126143  B005M2C6PS  A2X2ZLADKCRRZD        1               1     1\n",
              "126142  B005M2C6PS  A2WTWEN2KHYGFN        1               1     1\n",
              "126141  B005M2C6PS  A2W8G7UQ913P0F        1               1     1\n",
              "126140  B005M2C6PS  A2TFXG59H78SIG        1               1     1\n",
              "361011  B01HJEGTYK   AF3SZ7YB5M3Q5        1               1     1\n",
              "\n",
              "[361012 rows x 5 columns]"
            ]
          },
          "metadata": {},
          "execution_count": 48
        }
      ]
    },
    {
      "cell_type": "code",
      "source": [
        "len(ratings_trainings)"
      ],
      "metadata": {
        "id": "_zWieQF1ZLmS",
        "outputId": "849c5a43-b885-45d5-b8a2-f00d450b0d39",
        "colab": {
          "base_uri": "https://localhost:8080/"
        }
      },
      "id": "_zWieQF1ZLmS",
      "execution_count": 57,
      "outputs": [
        {
          "output_type": "execute_result",
          "data": {
            "text/plain": [
              "370752"
            ]
          },
          "metadata": {},
          "execution_count": 57
        }
      ]
    },
    {
      "cell_type": "markdown",
      "metadata": {
        "id": "14_klhsDQ66I"
      },
      "source": [
        "## 產生推薦"
      ],
      "id": "14_klhsDQ66I"
    },
    {
      "cell_type": "code",
      "execution_count": null,
      "metadata": {
        "id": "jOcKdzZuQ66J",
        "outputId": "5ea3a34b-a514-43f4-8a7b-fdc71b3dd8a7"
      },
      "outputs": [
        {
          "data": {
            "text/plain": [
              "{}"
            ]
          },
          "execution_count": 6,
          "metadata": {},
          "output_type": "execute_result"
        }
      ],
      "source": [
        "def recommender(training_data, users=[], k=10):\n",
        "    '''\n",
        "    * training_data: dataframe 輸入的訓練資料集（2018-09-01 以前資料）\n",
        "    * users: [] 需要被推薦的使用者\n",
        "    * k: int 每個使用者需要推薦的商品數\n",
        "    * recommendations: dict\n",
        "      {\n",
        "          使用者一： [推薦商品一, 推薦商品二, ...],\n",
        "          使用者二： [...], ...\n",
        "      }\n",
        "    '''\n",
        "    recommendations = {}\n",
        "    '''\n",
        "    Your Code\n",
        "    '''\n",
        "    return recommendations\n",
        "\n",
        "\n",
        "ratings_by_user = recommender(ratings_trainings, users)\n",
        "ratings_by_user"
      ],
      "id": "jOcKdzZuQ66J"
    },
    {
      "cell_type": "markdown",
      "metadata": {
        "id": "CcAbC2DYQ66J"
      },
      "source": [
        "## 結果評估"
      ],
      "id": "CcAbC2DYQ66J"
    },
    {
      "cell_type": "code",
      "execution_count": null,
      "metadata": {
        "id": "A1xVP38iQ66K",
        "outputId": "aad9c34b-9275-4b89-d6df-580689221843"
      },
      "outputs": [
        {
          "data": {
            "text/plain": [
              "0.0"
            ]
          },
          "execution_count": 7,
          "metadata": {},
          "output_type": "execute_result"
        }
      ],
      "source": [
        "def evaluate(ratings_testings_by_user={}, ratings_by_user={}, method=None):\n",
        "    '''\n",
        "    * ratings_testings_by_user: dict 真實被購買的商品資料（2018-09-01 以後資料）\n",
        "    * ratings_by_user: dict 利用訓練資料學習的推薦商品\n",
        "    * method: str\n",
        "    * score: float\n",
        "    '''\n",
        "    total = 0\n",
        "    for d in ratings_testings_by_user:\n",
        "        if d in ratings_by_user:\n",
        "            total += len(set(ratings_by_user[d]) & set(ratings_testings_by_user[d]))\n",
        "\n",
        "    score = total / len(ratings_testings)\n",
        "    return score\n",
        "\n",
        "evaluate(ratings_testings_by_user, ratings_by_user)"
      ],
      "id": "A1xVP38iQ66K"
    }
  ],
  "metadata": {
    "kernelspec": {
      "display_name": "Python 3",
      "language": "python",
      "name": "python3"
    },
    "language_info": {
      "codemirror_mode": {
        "name": "ipython",
        "version": 3
      },
      "file_extension": ".py",
      "mimetype": "text/x-python",
      "name": "python",
      "nbconvert_exporter": "python",
      "pygments_lexer": "ipython3",
      "version": "3.6.5"
    },
    "colab": {
      "name": "sample.ipynb",
      "provenance": [],
      "include_colab_link": true
    }
  },
  "nbformat": 4,
  "nbformat_minor": 5
}