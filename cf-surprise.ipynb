{
  "cells": [
    {
      "cell_type": "markdown",
      "metadata": {
        "id": "view-in-github",
        "colab_type": "text"
      },
      "source": [
        "<a href=\"https://colab.research.google.com/github/milanazhang/data-course-sample/blob/main/cf-surprise.ipynb\" target=\"_parent\"><img src=\"https://colab.research.google.com/assets/colab-badge.svg\" alt=\"Open In Colab\"/></a>"
      ]
    },
    {
      "cell_type": "markdown",
      "id": "84de56a8",
      "metadata": {
        "id": "84de56a8"
      },
      "source": [
        "# cf surprise"
      ]
    },
    {
      "cell_type": "markdown",
      "id": "688675f5",
      "metadata": {
        "id": "688675f5"
      },
      "source": [
        "## 基礎建設"
      ]
    },
    {
      "cell_type": "code",
      "execution_count": 1,
      "id": "b32226db",
      "metadata": {
        "scrolled": true,
        "id": "b32226db"
      },
      "outputs": [],
      "source": [
        "import pandas as pd\n",
        "import gzip, json\n",
        "\n",
        "def parse(path):\n",
        "    g = gzip.open(path, 'rb')\n",
        "    for l in g:\n",
        "        yield json.loads(l)\n",
        "\n",
        "def getDF(path):\n",
        "    i = 0\n",
        "    df = {}\n",
        "    for d in parse(path):\n",
        "        df[i] = d\n",
        "        i += 1\n",
        "    return pd.DataFrame.from_dict(df, orient='index')"
      ]
    },
    {
      "cell_type": "markdown",
      "id": "84ff0f9d",
      "metadata": {
        "id": "84ff0f9d"
      },
      "source": [
        "## 載入資料"
      ]
    },
    {
      "cell_type": "code",
      "execution_count": 2,
      "id": "9402e9c7",
      "metadata": {
        "colab": {
          "base_uri": "https://localhost:8080/"
        },
        "id": "9402e9c7",
        "outputId": "98312186-b53e-4053-efc9-572c6ba73261"
      },
      "outputs": [
        {
          "output_type": "stream",
          "name": "stdout",
          "text": [
            "--2022-01-08 15:42:20--  http://deepyeti.ucsd.edu/jianmo/amazon/categoryFilesSmall/All_Beauty.csv\n",
            "Resolving deepyeti.ucsd.edu (deepyeti.ucsd.edu)... 169.228.63.50\n",
            "Connecting to deepyeti.ucsd.edu (deepyeti.ucsd.edu)|169.228.63.50|:80... connected.\n",
            "HTTP request sent, awaiting response... 200 OK\n",
            "Length: 15499476 (15M) [application/octet-stream]\n",
            "Saving to: ‘All_Beauty.csv.5’\n",
            "\n",
            "All_Beauty.csv.5    100%[===================>]  14.78M  17.9MB/s    in 0.8s    \n",
            "\n",
            "2022-01-08 15:42:21 (17.9 MB/s) - ‘All_Beauty.csv.5’ saved [15499476/15499476]\n",
            "\n",
            "--2022-01-08 15:42:21--  http://deepyeti.ucsd.edu/jianmo/amazon/metaFiles2/meta_All_Beauty.json.gz\n",
            "Resolving deepyeti.ucsd.edu (deepyeti.ucsd.edu)... 169.228.63.50\n",
            "Connecting to deepyeti.ucsd.edu (deepyeti.ucsd.edu)|169.228.63.50|:80... connected.\n",
            "HTTP request sent, awaiting response... 200 OK\n",
            "Length: 10329961 (9.9M) [application/octet-stream]\n",
            "Saving to: ‘meta_All_Beauty.json.gz.5’\n",
            "\n",
            "meta_All_Beauty.jso 100%[===================>]   9.85M  14.2MB/s    in 0.7s    \n",
            "\n",
            "2022-01-08 15:42:22 (14.2 MB/s) - ‘meta_All_Beauty.json.gz.5’ saved [10329961/10329961]\n",
            "\n"
          ]
        }
      ],
      "source": [
        "!wget http://deepyeti.ucsd.edu/jianmo/amazon/categoryFilesSmall/All_Beauty.csv\n",
        "!wget http://deepyeti.ucsd.edu/jianmo/amazon/metaFiles2/meta_All_Beauty.json.gz"
      ]
    },
    {
      "cell_type": "code",
      "execution_count": 3,
      "id": "84b66cc7",
      "metadata": {
        "id": "84b66cc7"
      },
      "outputs": [],
      "source": [
        "metadata = getDF('/content/meta_All_Beauty.json.gz')\n",
        "ratings = pd.read_csv('/content/All_Beauty.csv', names=['asin', 'reviewerID', 'overall', 'unixReviewTime'], header=None)"
      ]
    },
    {
      "cell_type": "code",
      "execution_count": 4,
      "id": "9fd77203",
      "metadata": {
        "colab": {
          "base_uri": "https://localhost:8080/",
          "height": 669
        },
        "id": "9fd77203",
        "outputId": "acd4e8de-1d28-4fa1-b1b2-8e212c2ce464"
      },
      "outputs": [
        {
          "output_type": "execute_result",
          "data": {
            "text/html": [
              "\n",
              "  <div id=\"df-b5fb2bf0-c13c-4b13-b0a2-baffe3384747\">\n",
              "    <div class=\"colab-df-container\">\n",
              "      <div>\n",
              "<style scoped>\n",
              "    .dataframe tbody tr th:only-of-type {\n",
              "        vertical-align: middle;\n",
              "    }\n",
              "\n",
              "    .dataframe tbody tr th {\n",
              "        vertical-align: top;\n",
              "    }\n",
              "\n",
              "    .dataframe thead th {\n",
              "        text-align: right;\n",
              "    }\n",
              "</style>\n",
              "<table border=\"1\" class=\"dataframe\">\n",
              "  <thead>\n",
              "    <tr style=\"text-align: right;\">\n",
              "      <th></th>\n",
              "      <th>category</th>\n",
              "      <th>tech1</th>\n",
              "      <th>description</th>\n",
              "      <th>fit</th>\n",
              "      <th>title</th>\n",
              "      <th>also_buy</th>\n",
              "      <th>tech2</th>\n",
              "      <th>brand</th>\n",
              "      <th>feature</th>\n",
              "      <th>rank</th>\n",
              "      <th>also_view</th>\n",
              "      <th>details</th>\n",
              "      <th>main_cat</th>\n",
              "      <th>similar_item</th>\n",
              "      <th>date</th>\n",
              "      <th>price</th>\n",
              "      <th>asin</th>\n",
              "      <th>imageURL</th>\n",
              "      <th>imageURLHighRes</th>\n",
              "    </tr>\n",
              "  </thead>\n",
              "  <tbody>\n",
              "    <tr>\n",
              "      <th>0</th>\n",
              "      <td>[]</td>\n",
              "      <td></td>\n",
              "      <td>[Loud 'N Clear Personal Sound Amplifier allows...</td>\n",
              "      <td></td>\n",
              "      <td>Loud 'N Clear&amp;trade; Personal Sound Amplifier</td>\n",
              "      <td>[]</td>\n",
              "      <td></td>\n",
              "      <td>idea village</td>\n",
              "      <td>[]</td>\n",
              "      <td>2,938,573 in Beauty &amp; Personal Care (</td>\n",
              "      <td>[]</td>\n",
              "      <td>{'ASIN: ': '6546546450'}</td>\n",
              "      <td>All Beauty</td>\n",
              "      <td></td>\n",
              "      <td></td>\n",
              "      <td></td>\n",
              "      <td>6546546450</td>\n",
              "      <td>[]</td>\n",
              "      <td>[]</td>\n",
              "    </tr>\n",
              "    <tr>\n",
              "      <th>1</th>\n",
              "      <td>[]</td>\n",
              "      <td></td>\n",
              "      <td>[No7 Lift &amp; Luminate Triple Action Serum 50ml ...</td>\n",
              "      <td></td>\n",
              "      <td>No7 Lift &amp;amp; Luminate Triple Action Serum 50...</td>\n",
              "      <td>[B01E7LCSL6, B008X5RVME]</td>\n",
              "      <td></td>\n",
              "      <td></td>\n",
              "      <td>[]</td>\n",
              "      <td>872,854 in Beauty &amp; Personal Care (</td>\n",
              "      <td>[]</td>\n",
              "      <td>{'Shipping Weight:': '0.3 ounces (', 'ASIN: ':...</td>\n",
              "      <td>All Beauty</td>\n",
              "      <td>class=\"a-bordered a-horizontal-stripes  a-spa...</td>\n",
              "      <td></td>\n",
              "      <td>$44.99</td>\n",
              "      <td>7178680776</td>\n",
              "      <td>[]</td>\n",
              "      <td>[]</td>\n",
              "    </tr>\n",
              "    <tr>\n",
              "      <th>2</th>\n",
              "      <td>[]</td>\n",
              "      <td></td>\n",
              "      <td>[No7 Stay Perfect Foundation now stays perfect...</td>\n",
              "      <td></td>\n",
              "      <td>No7 Stay Perfect Foundation Cool Vanilla by No7</td>\n",
              "      <td>[]</td>\n",
              "      <td></td>\n",
              "      <td>No7</td>\n",
              "      <td>[]</td>\n",
              "      <td>956,696 in Beauty &amp; Personal Care (</td>\n",
              "      <td>[B01B8BR0O8, B01B8BR0NO, B014MHXXM8]</td>\n",
              "      <td>{'Shipping Weight:': '3.5 ounces (', 'ASIN: ':...</td>\n",
              "      <td>All Beauty</td>\n",
              "      <td></td>\n",
              "      <td></td>\n",
              "      <td>$28.76</td>\n",
              "      <td>7250468162</td>\n",
              "      <td>[]</td>\n",
              "      <td>[]</td>\n",
              "    </tr>\n",
              "    <tr>\n",
              "      <th>3</th>\n",
              "      <td>[]</td>\n",
              "      <td></td>\n",
              "      <td>[]</td>\n",
              "      <td></td>\n",
              "      <td>Wella Koleston Perfect Hair Colour 44/44 Mediu...</td>\n",
              "      <td>[B0041PBXX8]</td>\n",
              "      <td></td>\n",
              "      <td></td>\n",
              "      <td>[]</td>\n",
              "      <td>1,870,258 in Beauty &amp; Personal Care (</td>\n",
              "      <td>[]</td>\n",
              "      <td>{'\n",
              "    Item Weight: \n",
              "    ': '1.76 ounces', 'Sh...</td>\n",
              "      <td>All Beauty</td>\n",
              "      <td></td>\n",
              "      <td></td>\n",
              "      <td></td>\n",
              "      <td>7367905066</td>\n",
              "      <td>[https://images-na.ssl-images-amazon.com/image...</td>\n",
              "      <td>[https://images-na.ssl-images-amazon.com/image...</td>\n",
              "    </tr>\n",
              "    <tr>\n",
              "      <th>4</th>\n",
              "      <td>[]</td>\n",
              "      <td></td>\n",
              "      <td>[Lacto Calamine Skin Balance Daily Nourishing ...</td>\n",
              "      <td></td>\n",
              "      <td>Lacto Calamine Skin Balance Oil control 120 ml...</td>\n",
              "      <td>[]</td>\n",
              "      <td></td>\n",
              "      <td>Pirmal Healthcare</td>\n",
              "      <td>[]</td>\n",
              "      <td>67,701 in Beauty &amp; Personal Care (</td>\n",
              "      <td>[3254895630, B007VL1D9S, B00EH9A0RI, B0773MBG4...</td>\n",
              "      <td>{'Shipping Weight:': '12 ounces (', 'ASIN: ': ...</td>\n",
              "      <td>All Beauty</td>\n",
              "      <td></td>\n",
              "      <td></td>\n",
              "      <td>$12.15</td>\n",
              "      <td>7414204790</td>\n",
              "      <td>[https://images-na.ssl-images-amazon.com/image...</td>\n",
              "      <td>[https://images-na.ssl-images-amazon.com/image...</td>\n",
              "    </tr>\n",
              "  </tbody>\n",
              "</table>\n",
              "</div>\n",
              "      <button class=\"colab-df-convert\" onclick=\"convertToInteractive('df-b5fb2bf0-c13c-4b13-b0a2-baffe3384747')\"\n",
              "              title=\"Convert this dataframe to an interactive table.\"\n",
              "              style=\"display:none;\">\n",
              "        \n",
              "  <svg xmlns=\"http://www.w3.org/2000/svg\" height=\"24px\"viewBox=\"0 0 24 24\"\n",
              "       width=\"24px\">\n",
              "    <path d=\"M0 0h24v24H0V0z\" fill=\"none\"/>\n",
              "    <path d=\"M18.56 5.44l.94 2.06.94-2.06 2.06-.94-2.06-.94-.94-2.06-.94 2.06-2.06.94zm-11 1L8.5 8.5l.94-2.06 2.06-.94-2.06-.94L8.5 2.5l-.94 2.06-2.06.94zm10 10l.94 2.06.94-2.06 2.06-.94-2.06-.94-.94-2.06-.94 2.06-2.06.94z\"/><path d=\"M17.41 7.96l-1.37-1.37c-.4-.4-.92-.59-1.43-.59-.52 0-1.04.2-1.43.59L10.3 9.45l-7.72 7.72c-.78.78-.78 2.05 0 2.83L4 21.41c.39.39.9.59 1.41.59.51 0 1.02-.2 1.41-.59l7.78-7.78 2.81-2.81c.8-.78.8-2.07 0-2.86zM5.41 20L4 18.59l7.72-7.72 1.47 1.35L5.41 20z\"/>\n",
              "  </svg>\n",
              "      </button>\n",
              "      \n",
              "  <style>\n",
              "    .colab-df-container {\n",
              "      display:flex;\n",
              "      flex-wrap:wrap;\n",
              "      gap: 12px;\n",
              "    }\n",
              "\n",
              "    .colab-df-convert {\n",
              "      background-color: #E8F0FE;\n",
              "      border: none;\n",
              "      border-radius: 50%;\n",
              "      cursor: pointer;\n",
              "      display: none;\n",
              "      fill: #1967D2;\n",
              "      height: 32px;\n",
              "      padding: 0 0 0 0;\n",
              "      width: 32px;\n",
              "    }\n",
              "\n",
              "    .colab-df-convert:hover {\n",
              "      background-color: #E2EBFA;\n",
              "      box-shadow: 0px 1px 2px rgba(60, 64, 67, 0.3), 0px 1px 3px 1px rgba(60, 64, 67, 0.15);\n",
              "      fill: #174EA6;\n",
              "    }\n",
              "\n",
              "    [theme=dark] .colab-df-convert {\n",
              "      background-color: #3B4455;\n",
              "      fill: #D2E3FC;\n",
              "    }\n",
              "\n",
              "    [theme=dark] .colab-df-convert:hover {\n",
              "      background-color: #434B5C;\n",
              "      box-shadow: 0px 1px 3px 1px rgba(0, 0, 0, 0.15);\n",
              "      filter: drop-shadow(0px 1px 2px rgba(0, 0, 0, 0.3));\n",
              "      fill: #FFFFFF;\n",
              "    }\n",
              "  </style>\n",
              "\n",
              "      <script>\n",
              "        const buttonEl =\n",
              "          document.querySelector('#df-b5fb2bf0-c13c-4b13-b0a2-baffe3384747 button.colab-df-convert');\n",
              "        buttonEl.style.display =\n",
              "          google.colab.kernel.accessAllowed ? 'block' : 'none';\n",
              "\n",
              "        async function convertToInteractive(key) {\n",
              "          const element = document.querySelector('#df-b5fb2bf0-c13c-4b13-b0a2-baffe3384747');\n",
              "          const dataTable =\n",
              "            await google.colab.kernel.invokeFunction('convertToInteractive',\n",
              "                                                     [key], {});\n",
              "          if (!dataTable) return;\n",
              "\n",
              "          const docLinkHtml = 'Like what you see? Visit the ' +\n",
              "            '<a target=\"_blank\" href=https://colab.research.google.com/notebooks/data_table.ipynb>data table notebook</a>'\n",
              "            + ' to learn more about interactive tables.';\n",
              "          element.innerHTML = '';\n",
              "          dataTable['output_type'] = 'display_data';\n",
              "          await google.colab.output.renderOutput(dataTable, element);\n",
              "          const docLink = document.createElement('div');\n",
              "          docLink.innerHTML = docLinkHtml;\n",
              "          element.appendChild(docLink);\n",
              "        }\n",
              "      </script>\n",
              "    </div>\n",
              "  </div>\n",
              "  "
            ],
            "text/plain": [
              "  category  ...                                    imageURLHighRes\n",
              "0       []  ...                                                 []\n",
              "1       []  ...                                                 []\n",
              "2       []  ...                                                 []\n",
              "3       []  ...  [https://images-na.ssl-images-amazon.com/image...\n",
              "4       []  ...  [https://images-na.ssl-images-amazon.com/image...\n",
              "\n",
              "[5 rows x 19 columns]"
            ]
          },
          "metadata": {},
          "execution_count": 4
        }
      ],
      "source": [
        "metadata.head()"
      ]
    },
    {
      "cell_type": "code",
      "execution_count": 5,
      "id": "b402792c",
      "metadata": {
        "colab": {
          "base_uri": "https://localhost:8080/",
          "height": 206
        },
        "id": "b402792c",
        "outputId": "6228d735-bcf6-4053-de83-b6693cacfe61"
      },
      "outputs": [
        {
          "output_type": "execute_result",
          "data": {
            "text/html": [
              "\n",
              "  <div id=\"df-eedb022a-cc6b-48b1-9a37-326bdde80a19\">\n",
              "    <div class=\"colab-df-container\">\n",
              "      <div>\n",
              "<style scoped>\n",
              "    .dataframe tbody tr th:only-of-type {\n",
              "        vertical-align: middle;\n",
              "    }\n",
              "\n",
              "    .dataframe tbody tr th {\n",
              "        vertical-align: top;\n",
              "    }\n",
              "\n",
              "    .dataframe thead th {\n",
              "        text-align: right;\n",
              "    }\n",
              "</style>\n",
              "<table border=\"1\" class=\"dataframe\">\n",
              "  <thead>\n",
              "    <tr style=\"text-align: right;\">\n",
              "      <th></th>\n",
              "      <th>asin</th>\n",
              "      <th>reviewerID</th>\n",
              "      <th>overall</th>\n",
              "      <th>unixReviewTime</th>\n",
              "    </tr>\n",
              "  </thead>\n",
              "  <tbody>\n",
              "    <tr>\n",
              "      <th>0</th>\n",
              "      <td>0143026860</td>\n",
              "      <td>A1V6B6TNIC10QE</td>\n",
              "      <td>1.0</td>\n",
              "      <td>1424304000</td>\n",
              "    </tr>\n",
              "    <tr>\n",
              "      <th>1</th>\n",
              "      <td>0143026860</td>\n",
              "      <td>A2F5GHSXFQ0W6J</td>\n",
              "      <td>4.0</td>\n",
              "      <td>1418860800</td>\n",
              "    </tr>\n",
              "    <tr>\n",
              "      <th>2</th>\n",
              "      <td>0143026860</td>\n",
              "      <td>A1572GUYS7DGSR</td>\n",
              "      <td>4.0</td>\n",
              "      <td>1407628800</td>\n",
              "    </tr>\n",
              "    <tr>\n",
              "      <th>3</th>\n",
              "      <td>0143026860</td>\n",
              "      <td>A1PSGLFK1NSVO</td>\n",
              "      <td>5.0</td>\n",
              "      <td>1362960000</td>\n",
              "    </tr>\n",
              "    <tr>\n",
              "      <th>4</th>\n",
              "      <td>0143026860</td>\n",
              "      <td>A6IKXKZMTKGSC</td>\n",
              "      <td>5.0</td>\n",
              "      <td>1324771200</td>\n",
              "    </tr>\n",
              "  </tbody>\n",
              "</table>\n",
              "</div>\n",
              "      <button class=\"colab-df-convert\" onclick=\"convertToInteractive('df-eedb022a-cc6b-48b1-9a37-326bdde80a19')\"\n",
              "              title=\"Convert this dataframe to an interactive table.\"\n",
              "              style=\"display:none;\">\n",
              "        \n",
              "  <svg xmlns=\"http://www.w3.org/2000/svg\" height=\"24px\"viewBox=\"0 0 24 24\"\n",
              "       width=\"24px\">\n",
              "    <path d=\"M0 0h24v24H0V0z\" fill=\"none\"/>\n",
              "    <path d=\"M18.56 5.44l.94 2.06.94-2.06 2.06-.94-2.06-.94-.94-2.06-.94 2.06-2.06.94zm-11 1L8.5 8.5l.94-2.06 2.06-.94-2.06-.94L8.5 2.5l-.94 2.06-2.06.94zm10 10l.94 2.06.94-2.06 2.06-.94-2.06-.94-.94-2.06-.94 2.06-2.06.94z\"/><path d=\"M17.41 7.96l-1.37-1.37c-.4-.4-.92-.59-1.43-.59-.52 0-1.04.2-1.43.59L10.3 9.45l-7.72 7.72c-.78.78-.78 2.05 0 2.83L4 21.41c.39.39.9.59 1.41.59.51 0 1.02-.2 1.41-.59l7.78-7.78 2.81-2.81c.8-.78.8-2.07 0-2.86zM5.41 20L4 18.59l7.72-7.72 1.47 1.35L5.41 20z\"/>\n",
              "  </svg>\n",
              "      </button>\n",
              "      \n",
              "  <style>\n",
              "    .colab-df-container {\n",
              "      display:flex;\n",
              "      flex-wrap:wrap;\n",
              "      gap: 12px;\n",
              "    }\n",
              "\n",
              "    .colab-df-convert {\n",
              "      background-color: #E8F0FE;\n",
              "      border: none;\n",
              "      border-radius: 50%;\n",
              "      cursor: pointer;\n",
              "      display: none;\n",
              "      fill: #1967D2;\n",
              "      height: 32px;\n",
              "      padding: 0 0 0 0;\n",
              "      width: 32px;\n",
              "    }\n",
              "\n",
              "    .colab-df-convert:hover {\n",
              "      background-color: #E2EBFA;\n",
              "      box-shadow: 0px 1px 2px rgba(60, 64, 67, 0.3), 0px 1px 3px 1px rgba(60, 64, 67, 0.15);\n",
              "      fill: #174EA6;\n",
              "    }\n",
              "\n",
              "    [theme=dark] .colab-df-convert {\n",
              "      background-color: #3B4455;\n",
              "      fill: #D2E3FC;\n",
              "    }\n",
              "\n",
              "    [theme=dark] .colab-df-convert:hover {\n",
              "      background-color: #434B5C;\n",
              "      box-shadow: 0px 1px 3px 1px rgba(0, 0, 0, 0.15);\n",
              "      filter: drop-shadow(0px 1px 2px rgba(0, 0, 0, 0.3));\n",
              "      fill: #FFFFFF;\n",
              "    }\n",
              "  </style>\n",
              "\n",
              "      <script>\n",
              "        const buttonEl =\n",
              "          document.querySelector('#df-eedb022a-cc6b-48b1-9a37-326bdde80a19 button.colab-df-convert');\n",
              "        buttonEl.style.display =\n",
              "          google.colab.kernel.accessAllowed ? 'block' : 'none';\n",
              "\n",
              "        async function convertToInteractive(key) {\n",
              "          const element = document.querySelector('#df-eedb022a-cc6b-48b1-9a37-326bdde80a19');\n",
              "          const dataTable =\n",
              "            await google.colab.kernel.invokeFunction('convertToInteractive',\n",
              "                                                     [key], {});\n",
              "          if (!dataTable) return;\n",
              "\n",
              "          const docLinkHtml = 'Like what you see? Visit the ' +\n",
              "            '<a target=\"_blank\" href=https://colab.research.google.com/notebooks/data_table.ipynb>data table notebook</a>'\n",
              "            + ' to learn more about interactive tables.';\n",
              "          element.innerHTML = '';\n",
              "          dataTable['output_type'] = 'display_data';\n",
              "          await google.colab.output.renderOutput(dataTable, element);\n",
              "          const docLink = document.createElement('div');\n",
              "          docLink.innerHTML = docLinkHtml;\n",
              "          element.appendChild(docLink);\n",
              "        }\n",
              "      </script>\n",
              "    </div>\n",
              "  </div>\n",
              "  "
            ],
            "text/plain": [
              "         asin      reviewerID  overall  unixReviewTime\n",
              "0  0143026860  A1V6B6TNIC10QE      1.0      1424304000\n",
              "1  0143026860  A2F5GHSXFQ0W6J      4.0      1418860800\n",
              "2  0143026860  A1572GUYS7DGSR      4.0      1407628800\n",
              "3  0143026860   A1PSGLFK1NSVO      5.0      1362960000\n",
              "4  0143026860   A6IKXKZMTKGSC      5.0      1324771200"
            ]
          },
          "metadata": {},
          "execution_count": 5
        }
      ],
      "source": [
        "ratings.head()"
      ]
    },
    {
      "cell_type": "markdown",
      "id": "695362e3",
      "metadata": {
        "id": "695362e3"
      },
      "source": [
        "## 資料整理"
      ]
    },
    {
      "cell_type": "code",
      "execution_count": 6,
      "id": "b552fb23",
      "metadata": {
        "id": "b552fb23"
      },
      "outputs": [],
      "source": [
        "ratings['DATE'] = pd.to_datetime(ratings['unixReviewTime'], unit='s')"
      ]
    },
    {
      "cell_type": "markdown",
      "source": [
        "## EDA"
      ],
      "metadata": {
        "id": "Axm9rfd_eOXV"
      },
      "id": "Axm9rfd_eOXV"
    },
    {
      "cell_type": "code",
      "source": [
        "import matplotlib.pyplot as plt\n",
        "import seaborn as sns\n",
        "import plotly.express as px"
      ],
      "metadata": {
        "id": "Tdq7VY1E1xG0"
      },
      "id": "Tdq7VY1E1xG0",
      "execution_count": 86,
      "outputs": []
    },
    {
      "cell_type": "code",
      "source": [
        "from datetime import timedelta\n",
        "ratings.drop_duplicates(inplace=True)\n",
        "date_sort = ratings.sort_values(['DATE'],ascending=True).groupby([\"reviewerID\",\"DATE\"]).head(25)\n",
        "date_sort['dur'] = date_sort.groupby('reviewerID')[\"DATE\"].apply(lambda x: x.diff(1))\n",
        "repurchase = date_sort[date_sort[\"dur\"].notna()][date_sort[date_sort[\"dur\"].notna()][\"dur\"] != \"0 days\"]\n",
        "repurchase[\"dur\"] = repurchase[\"dur\"].astype(\"str\").str.extract(r'(\\d+) (.*$)')[0].astype(int)\n",
        "purchase_dur = {d[\"reviewerID\"]:d[\"dur\"] for d in repurchase.groupby(\"reviewerID\").agg({\"dur\":pd.Series.median}).reset_index()[[\"reviewerID\",\"dur\"]].to_dict('records')}"
      ],
      "metadata": {
        "id": "3StLmnXfeNy_"
      },
      "id": "3StLmnXfeNy_",
      "execution_count": 80,
      "outputs": []
    },
    {
      "cell_type": "code",
      "source": [
        "# 使用者大多間隔一年半左右上去一次平台買東西\n",
        "fig = px.box(repurchase, x = \"dur\", orientation='h')\n",
        "fig.show()"
      ],
      "metadata": {
        "id": "9A81FYy41F1h",
        "outputId": "5238b25e-b5a5-489b-b0d0-7dc40b92b399",
        "colab": {
          "base_uri": "https://localhost:8080/",
          "height": 542
        }
      },
      "id": "9A81FYy41F1h",
      "execution_count": 123,
      "outputs": [
        {
          "output_type": "display_data",
          "data": {
            "text/html": [
              "<html>\n",
              "<head><meta charset=\"utf-8\" /></head>\n",
              "<body>\n",
              "    <div>\n",
              "            <script src=\"https://cdnjs.cloudflare.com/ajax/libs/mathjax/2.7.5/MathJax.js?config=TeX-AMS-MML_SVG\"></script><script type=\"text/javascript\">if (window.MathJax) {MathJax.Hub.Config({SVG: {font: \"STIX-Web\"}});}</script>\n",
              "                <script type=\"text/javascript\">window.PlotlyConfig = {MathJaxConfig: 'local'};</script>\n",
              "        <script src=\"https://cdn.plot.ly/plotly-latest.min.js\"></script>    \n",
              "            <div id=\"ff36069a-4c27-4ac9-923b-81db287f6c06\" class=\"plotly-graph-div\" style=\"height:525px; width:100%;\"></div>\n",
              "            <script type=\"text/javascript\">\n",
              "                \n",
              "                    window.PLOTLYENV=window.PLOTLYENV || {};\n",
              "                    \n",
              "                if (document.getElementById(\"ff36069a-4c27-4ac9-923b-81db287f6c06\")) {\n",
              "                    Plotly.newPlot(\n",
              "                        'ff36069a-4c27-4ac9-923b-81db287f6c06',\n",
              "                        [{\"alignmentgroup\": \"True\", \"hoverlabel\": {\"namelength\": 0}, \"hovertemplate\": \"dur=%{x}\", \"legendgroup\": \"\", \"marker\": {\"color\": \"#636efa\"}, \"name\": \"\", \"notched\": false, \"offsetgroup\": \"\", \"orientation\": \"h\", \"showlegend\": false, \"type\": \"box\", \"x\": [188, 55, 13, 1, 586, 677, 852, 67, 126, 940, 238, 11, 280, 1128, 16, 6, 14, 6, 151, 8, 176, 1, 1099, 1196, 211, 1, 11, 1, 14, 1775, 551, 31, 108, 6, 39, 421, 192, 1270, 170, 166, 277, 366, 251, 500, 55, 70, 151, 28, 8, 560, 49, 219, 3, 129, 106, 2, 4, 189, 1289, 697, 703, 28, 94, 815, 372, 188, 30, 503, 202, 23, 116, 39, 18, 55, 421, 16, 261, 1427, 8, 767, 1109, 7, 1053, 215, 37, 1, 11, 1, 2, 7, 337, 2, 3, 19, 758, 25, 1827, 621, 19, 155, 1966, 6, 194, 11, 120, 702, 319, 303, 27, 80, 5, 5, 279, 1608, 44, 67, 63, 96, 120, 77, 397, 57, 1002, 42, 422, 526, 2030, 1568, 252, 1256, 657, 41, 63, 193, 83, 481, 372, 86, 173, 48, 31, 2, 195, 23, 204, 470, 35, 208, 210, 201, 187, 1630, 215, 220, 219, 219, 8, 1854, 28, 554, 1, 101, 242, 695, 414, 36, 36, 54, 1209, 32, 470, 1366, 373, 979, 1497, 49, 36, 8, 951, 447, 41, 269, 165, 698, 34, 822, 533, 1476, 282, 560, 7, 326, 27, 399, 2, 1147, 47, 65, 31, 91, 383, 24, 200, 68, 1, 386, 6, 60, 15, 22, 408, 402, 1565, 5, 291, 71, 1093, 271, 507, 741, 916, 209, 541, 1261, 173, 79, 253, 272, 277, 2297, 99, 639, 940, 834, 85, 995, 289, 631, 1, 1, 37, 467, 4, 849, 91, 1047, 8, 1419, 36, 53, 742, 76, 308, 397, 663, 432, 690, 548, 181, 781, 327, 309, 57, 18, 62, 28, 759, 332, 229, 665, 55, 59, 1047, 155, 311, 46, 346, 810, 26, 25, 51, 87, 85, 477, 62, 56, 892, 170, 1887, 1160, 726, 394, 1925, 1371, 593, 373, 78, 38, 437, 199, 63, 348, 126, 37, 75, 540, 90, 1500, 1112, 126, 428, 921, 112, 1499, 74, 1372, 1581, 434, 518, 443, 26, 1087, 206, 7, 130, 188, 316, 138, 717, 59, 16, 148, 733, 111, 92, 1145, 361, 385, 247, 1776, 861, 341, 820, 734, 889, 326, 47, 701, 302, 490, 673, 41, 451, 389, 53, 1176, 27, 1404, 35, 1315, 270, 484, 292, 1946, 347, 213, 478, 833, 48, 392, 314, 261, 188, 1365, 159, 120, 294, 39, 813, 37, 908, 609, 917, 8, 62, 156, 18, 700, 1, 329, 1039, 558, 137, 181, 541, 136, 799, 460, 1538, 257, 1775, 6, 584, 758, 726, 1055, 33, 122, 2139, 5, 259, 2, 12, 13, 6, 44, 160, 1379, 617, 80, 1686, 49, 572, 104, 134, 294, 727, 37, 309, 861, 1129, 1002, 38, 672, 527, 1451, 165, 37, 859, 609, 1, 860, 37, 77, 1263, 412, 7, 27, 101, 123, 259, 516, 603, 692, 12, 9, 529, 14, 373, 236, 654, 1477, 786, 554, 443, 2627, 6, 295, 54, 22, 644, 97, 320, 314, 62, 1177, 28, 6, 62, 493, 92, 93, 2315, 1157, 1107, 175, 764, 31, 199, 1066, 649, 998, 112, 846, 46, 440, 11, 102, 678, 112, 767, 438, 2, 694, 420, 67, 758, 2, 431, 1369, 4, 1556, 14, 38, 1129, 371, 176, 20, 164, 54, 1, 1, 1165, 539, 878, 739, 657, 781, 312, 24, 242, 129, 28, 54, 469, 1206, 287, 2058, 86, 56, 316, 1181, 3, 1, 791, 213, 8, 19, 285, 385, 660, 157, 14, 1052, 128, 522, 5, 817, 318, 480, 3, 185, 40, 491, 600, 17, 461, 14, 901, 1293, 995, 292, 175, 1829, 387, 71, 174, 119, 3344, 1507, 222, 968, 35, 102, 725, 230, 475, 509, 8, 179, 71, 1806, 47, 4, 268, 1680, 397, 40, 166, 1134, 886, 332, 494, 692, 430, 132, 109, 608, 278, 36, 120, 305, 126, 457, 474, 12, 1087, 134, 280, 137, 569, 1443, 18, 574, 1478, 565, 1442, 1916, 3, 24, 359, 1603, 92, 145, 568, 1525, 823, 182, 896, 76, 252, 199, 4, 23, 93, 217, 422, 832, 80, 738, 3, 333, 2285, 40, 153, 926, 290, 80, 304, 352, 1099, 548, 76, 131, 344, 628, 975, 106, 545, 128, 81, 1993, 3, 274, 1619, 2, 515, 3, 95, 449, 561, 3, 271, 128, 301, 425, 34, 60, 261, 10, 2342, 2520, 1546, 1774, 1464, 425, 150, 1253, 388, 1288, 1543, 1790, 402, 254, 429, 22, 309, 1157, 3316, 302, 395, 788, 371, 1602, 145, 103, 1586, 991, 45, 718, 596, 243, 391, 1165, 35, 174, 461, 1978, 838, 129, 435, 38, 111, 38, 225, 1, 982, 9, 927, 70, 1042, 1291, 1035, 53, 9, 1334, 1754, 811, 1122, 1322, 2, 69, 295, 70, 24, 216, 6, 13, 800, 411, 605, 291, 2060, 2, 1472, 30, 750, 379, 112, 101, 51, 873, 17, 1224, 4, 875, 503, 1684, 902, 381, 6, 1401, 398, 585, 172, 1014, 6, 56, 238, 685, 288, 45, 402, 210, 5, 190, 942, 586, 576, 304, 183, 53, 3020, 1754, 63, 372, 15, 146, 1198, 1, 260, 1157, 31, 114, 1866, 61, 123, 337, 70, 54, 326, 128, 1324, 81, 446, 1616, 355, 1586, 45, 80, 626, 179, 49, 135, 10, 86, 8, 555, 131, 17, 346, 23, 377, 365, 70, 160, 3, 497, 188, 285, 37, 8, 49, 56, 73, 72, 93, 1925, 200, 131, 1689, 776, 13, 41, 1251, 22, 116, 272, 46, 362, 381, 45, 1863, 2457, 466, 498, 5, 262, 2, 379, 62, 880, 1704, 96, 5, 100, 554, 128, 1862, 2, 2777, 646, 1484, 1289, 1228, 9, 1, 6, 1606, 386, 1669, 1, 1968, 179, 1, 2, 1, 1357, 77, 18, 294, 812, 1420, 71, 1, 1410, 3, 990, 1018, 178, 22, 90, 94, 854, 119, 587, 19, 66, 1, 172, 2, 43, 283, 25, 416, 10, 315, 1522, 226, 1087, 43, 202, 59, 450, 535, 37, 1405, 47, 468, 204, 4, 35, 88, 153, 162, 2, 5, 1014, 1989, 1, 2311, 196, 70, 604, 764, 1, 35, 4, 1047, 1771, 256, 32, 2, 241, 77, 78, 1940, 1291, 494, 110, 218, 951, 2124, 1742, 77, 117, 649, 352, 1392, 710, 7, 1369, 2, 108, 34, 223, 150, 178, 15, 54, 1826, 337, 189, 54, 37, 3, 92, 1798, 119, 1447, 75, 123, 1777, 1798, 155, 2631, 48, 1653, 347, 910, 1067, 736, 645, 926, 2119, 1089, 164, 88, 106, 1180, 1775, 1012, 2188, 24, 337, 239, 1024, 25, 1202, 72, 34, 84, 1509, 401, 176, 752, 181, 1660, 333, 40, 7, 569, 262, 66, 133, 1411, 481, 396, 2, 1503, 194, 652, 188, 100, 65, 175, 38, 135, 99, 190, 92, 130, 580, 107, 586, 491, 100, 142, 1, 5, 1844, 60, 146, 985, 2122, 501, 100, 39, 54, 11, 8, 414, 1070, 401, 70, 54, 12, 477, 711, 50, 318, 1505, 1, 975, 340, 303, 529, 673, 227, 139, 23, 200, 451, 13, 120, 230, 536, 390, 42, 1272, 128, 572, 96, 249, 50, 1106, 1336, 182, 304, 381, 689, 1171, 176, 1446, 24, 1467, 8, 9, 1322, 126, 206, 105, 62, 35, 51, 22, 229, 26, 57, 350, 20, 187, 121, 375, 335, 1, 214, 303, 43, 744, 191, 551, 43, 76, 190, 56, 1104, 1116, 60, 196, 929, 273, 204, 14, 90, 1766, 40, 29, 551, 874, 31, 2459, 143, 41, 294, 8, 376, 1103, 79, 433, 74, 309, 726, 148, 183, 316, 141, 4, 197, 1634, 529, 173, 621, 37, 1658, 194, 289, 154, 542, 14, 105, 126, 36, 1215, 222, 1, 219, 9, 568, 24, 3692, 201, 45, 517, 1936, 217, 819, 168, 26, 181, 18, 1330, 115, 2, 154, 2092, 74, 1, 56, 2004, 95, 10, 463, 212, 7, 270, 3021, 275, 1457, 32, 1405, 166, 199, 48, 168, 238, 269, 2, 1042, 333, 1191, 92, 288, 7, 998, 7, 403, 242, 103, 175, 19, 269, 839, 193, 375, 7, 21, 1644, 90, 247, 232, 13, 2264, 15, 377, 1261, 712, 234, 109, 1058, 43, 2, 64, 334, 1011, 23, 26, 330, 201, 10, 260, 1481, 6, 1268, 1057, 773, 59, 9, 61, 84, 1604, 1763, 71, 1993, 58, 236, 239, 2, 108, 115, 23, 122, 47, 794, 26, 1080, 117, 21, 3041, 235, 128, 152, 333, 93, 339, 82, 432, 6, 11, 34, 521, 148, 203, 376, 436, 1126, 55, 119, 783, 43, 832, 212, 299, 382, 138, 91, 46, 1720, 33, 596, 413, 263, 283, 81, 332, 36, 288, 22, 622, 670, 215, 310, 734, 546, 250, 361, 163, 2194, 27, 141, 587, 172, 246, 197, 132, 462, 294, 1403, 1, 652, 1800, 8, 13, 17, 164, 675, 353, 1684, 1672, 1195, 313, 315, 1230, 951, 849, 423, 4, 4, 684, 7, 256, 1238, 1946, 1026, 1121, 495, 74, 447, 129, 383, 119, 56, 712, 135, 38, 264, 196, 165, 3, 18, 59, 147, 28, 1328, 415, 52, 89, 115, 405, 234, 221, 207, 692, 1074, 11, 1908, 88, 465, 15, 34, 2, 90, 233, 2265, 27, 385, 127, 158, 178, 1886, 628, 169, 36, 307, 16, 62, 1653, 1998, 36, 1776, 58, 19, 2100, 206, 1589, 202, 395, 227, 16, 222, 1647, 80, 23, 421, 353, 168, 6, 244, 4, 176, 253, 1928, 48, 325, 4, 472, 378, 330, 179, 100, 1532, 86, 347, 443, 889, 165, 343, 1921, 146, 425, 44, 8, 210, 378, 373, 15, 63, 65, 208, 29, 33, 154, 14, 433, 245, 99, 815, 264, 254, 1655, 11, 190, 24, 997, 1684, 404, 536, 326, 341, 436, 1421, 28, 373, 48, 175, 301, 94, 1060, 519, 488, 1807, 322, 125, 74, 354, 407, 166, 616, 28, 562, 77, 271, 46, 599, 320, 92, 519, 3, 93, 485, 4, 206, 76, 322, 816, 1281, 1024, 97, 502, 696, 92, 260, 304, 2164, 541, 429, 95, 1708, 54, 360, 460, 207, 3, 144, 586, 4, 23, 2090, 1038, 100, 310, 283, 519, 176, 1557, 38, 1872, 6, 22, 136, 251, 301, 303, 71, 264, 112, 112, 5, 59, 14, 33, 69, 22, 77, 3, 321, 2, 68, 1298, 426, 9, 1909, 235, 190, 2449, 122, 10, 54, 943, 144, 151, 28, 100, 252, 320, 116, 397, 40, 79, 149, 93, 204, 40, 44, 124, 2814, 20, 134, 61, 576, 1783, 816, 293, 99, 1006, 174, 30, 1811, 8, 1108, 696, 7, 120, 306, 342, 32, 339, 406, 379, 911, 72, 73, 15, 785, 624, 2488, 622, 203, 23, 337, 296, 342, 21, 393, 83, 75, 14, 814, 7, 623, 97, 514, 256, 179, 1436, 1750, 132, 2, 84, 398, 590, 201, 2522, 39, 180, 10, 93, 425, 92, 81, 442, 935, 70, 231, 175, 233, 378, 230, 231, 1467, 95, 145, 3, 88, 220, 1132, 100, 844, 338, 220, 84, 147, 278, 424, 356, 70, 79, 104, 13, 375, 1349, 138, 990, 1815, 315, 173, 54, 20, 1146, 108, 195, 24, 188, 441, 325, 119, 117, 384, 26, 308, 531, 317, 3028, 277, 258, 622, 320, 785, 616, 226, 1481, 650, 713, 1, 80, 159, 1, 118, 134, 970, 2370, 430, 1856, 231, 506, 42, 70, 696, 134, 72, 2188, 1573, 285, 2, 1, 45, 59, 1376, 370, 414, 299, 360, 170, 141, 2266, 504, 1475, 332, 51, 405, 102, 6, 526, 28, 304, 1260, 21, 156, 180, 562, 316, 1266, 20, 1196, 81, 242, 258, 2914, 492, 225, 45, 3, 383, 115, 459, 206, 661, 1067, 131, 202, 103, 395, 51, 60, 11, 26, 396, 852, 463, 1086, 67, 473, 11, 878, 405, 99, 212, 278, 169, 379, 85, 5, 6, 601, 61, 1, 297, 180, 372, 744, 11, 51, 1054, 16, 1067, 957, 161, 24, 485, 130, 427, 24, 91, 719, 25, 163, 332, 108, 334, 9, 13, 85, 586, 1032, 332, 170, 591, 607, 94, 57, 122, 1164, 23, 64, 803, 1820, 122, 2223, 1062, 941, 84, 15, 150, 139, 2517, 289, 156, 144, 1971, 1084, 113, 151, 167, 1650, 462, 292, 1244, 1, 241, 16, 492, 8, 456, 1092, 155, 359, 316, 301, 275, 169, 387, 323, 323, 1458, 174, 374, 528, 863, 4, 205, 1, 116, 242, 490, 873, 471, 63, 136, 15, 148, 1468, 12, 273, 284, 982, 2440, 257, 159, 621, 70, 15, 88, 117, 1699, 548, 88, 2127, 72, 4, 12, 172, 317, 48, 270, 15, 665, 2262, 438, 25, 159, 242, 661, 130, 1650, 310, 32, 22, 127, 376, 249, 169, 23, 45, 36, 242, 728, 43, 201, 274, 217, 64, 2161, 287, 174, 113, 325, 98, 267, 199, 72, 298, 177, 54, 64, 90, 37, 170, 373, 207, 189, 474, 45, 145, 89, 147, 15, 1087, 574, 2729, 3, 625, 203, 12, 145, 27, 2258, 41, 74, 29, 574, 37, 129, 101, 1, 519, 34, 63, 2643, 534, 104, 83, 354, 24, 810, 209, 544, 1640, 149, 52, 322, 536, 5, 277, 52, 217, 305, 545, 582, 185, 577, 1142, 14, 258, 23, 819, 117, 47, 18, 87, 2582, 3, 68, 199, 439, 322, 1823, 47, 1498, 46, 24, 66, 138, 49, 983, 42, 1072, 54, 70, 2365, 604, 544, 24, 47, 28, 96, 26, 310, 356, 390, 72, 406, 94, 2638, 545, 250, 69, 1, 101, 3, 367, 621, 131, 765, 537, 1086, 299, 24, 638, 250, 1, 101, 59, 36, 495, 176, 83, 2, 344, 1488, 2324, 8, 1433, 330, 639, 96, 204, 46, 6, 12, 272, 249, 12, 74, 276, 11, 460, 444, 2, 39, 1887, 631, 30, 12, 258, 27, 191, 232, 96, 13, 56, 670, 141, 92, 97, 154, 164, 86, 108, 79, 285, 312, 123, 19, 566, 2, 697, 534, 243, 2874, 187, 210, 671, 967, 17, 373, 198, 82, 104, 83, 74, 81, 188, 237, 596, 569, 320, 52, 1028, 118, 456, 6, 264, 1637, 13, 11, 61, 466, 2176, 333, 192, 1238, 360, 198, 27, 41, 63, 100, 66, 54, 148, 187, 225, 629, 83, 175, 396, 69, 95, 15, 525, 1507, 232, 387, 3019, 664, 661, 665, 1948, 412, 60, 413, 179, 19, 167, 159, 26, 102, 33, 539, 59, 518, 36, 614, 97, 392, 133, 245, 316, 538, 479, 456, 317, 2275, 7, 576, 780, 39, 361, 681, 239, 702, 24, 372, 50, 9, 462, 145, 26, 337, 301, 23, 77, 351, 32, 695, 71, 27, 33, 687, 37, 2758, 22, 670, 41, 245, 218, 171, 495, 74, 898, 151, 16, 5, 62, 9, 1060, 39, 724, 49, 86, 137, 1790, 1123, 225, 149, 79, 376, 2, 173, 541, 31, 374, 5, 98, 344, 281, 33, 3, 4, 199, 630, 292, 490, 231, 656, 658, 35, 743, 66, 275, 983, 384, 119, 145, 2, 201, 2206, 142, 56, 149, 10, 289, 30, 170, 1412, 256, 79, 181, 9, 21, 57, 16, 37, 2068, 84, 205, 381, 133, 60, 17, 1446, 643, 345, 1813, 1807, 14, 10, 99, 15, 311, 234, 14, 680, 325, 252, 48, 484, 416, 29, 258, 1, 762, 291, 53, 353, 24, 175, 7, 572, 4, 55, 90, 772, 185, 236, 13, 112, 40, 25, 78, 744, 1392, 225, 725, 661, 647, 294, 107, 1998, 43, 6, 26, 714, 80, 41, 16, 218, 57, 105, 219, 987, 70, 239, 5, 1627, 82, 25, 329, 71, 449, 158, 93, 770, 7, 12, 31, 24, 88, 1924, 19, 243, 114, 149, 61, 39, 261, 846, 31, 1081, 300, 4, 44, 109, 60, 6, 2312, 3869, 124, 14, 84, 251, 116, 264, 2449, 304, 108, 372, 5, 350, 3006, 53, 414, 11, 41, 89, 120, 79, 32, 53, 7, 36, 1060, 72, 793, 552, 50, 5, 29, 1191, 672, 98, 109, 48, 999, 124, 67, 945, 1953, 25, 324, 398, 157, 228, 344, 582, 61, 171, 77, 601, 47, 23, 6, 370, 450, 156, 14, 2221, 120, 1049, 519, 45, 527, 310, 110, 14, 11, 514, 367, 533, 1301, 530, 118, 598, 304, 629, 140, 30, 99, 2187, 21, 193, 412, 85, 496, 1770, 171, 38, 455, 696, 93, 374, 13, 213, 2592, 165, 158, 38, 498, 28, 109, 33, 323, 556, 310, 261, 383, 278, 97, 14, 2235, 14, 323, 86, 89, 458, 193, 7, 394, 64, 614, 44, 21, 2, 29, 7, 243, 752, 332, 498, 133, 337, 97, 321, 678, 191, 34, 198, 1114, 387, 210, 246, 455, 403, 80, 376, 21, 31, 349, 64, 629, 174, 75, 384, 2, 252, 311, 18, 1300, 59, 1993, 430, 50, 29, 118, 131, 780, 31, 200, 50, 2, 198, 252, 120, 109, 169, 150, 427, 631, 133, 227, 700, 36, 328, 127, 162, 236, 418, 719, 84, 427, 116, 113, 702, 352, 325, 2, 673, 90, 782, 408, 86, 898, 2273, 24, 113, 1960, 1, 107, 351, 363, 178, 102, 52, 25, 69, 181, 95, 421, 141, 2, 1, 534, 2522, 766, 16, 59, 80, 238, 2124, 18, 1826, 81, 910, 392, 3, 9, 455, 4, 2597, 219, 318, 146, 148, 539, 406, 93, 45, 371, 158, 461, 322, 215, 335, 112, 14, 179, 1446, 154, 140, 910, 248, 1, 310, 5, 101, 27, 930, 7, 1839, 489, 77, 19, 18, 693, 328, 2102, 8, 134, 782, 18, 66, 203, 171, 995, 746, 630, 681, 702, 124, 786, 26, 62, 1265, 64, 133, 10, 13, 70, 14, 454, 1, 1, 12, 161, 111, 104, 2429, 29, 101, 5, 151, 2297, 261, 280, 3, 139, 76, 2627, 1068, 145, 135, 147, 807, 118, 287, 416, 112, 842, 15, 378, 71, 34, 2399, 504, 12, 681, 90, 92, 314, 17, 109, 734, 55, 166, 1895, 39, 28, 406, 48, 201, 3299, 22, 4411, 211, 26, 10, 121, 99, 853, 61, 960, 91, 1642, 467, 50, 107, 200, 6, 11, 289, 1221, 5, 16, 1, 678, 13, 110, 321, 735, 19, 99, 33, 13, 970, 7, 214, 21, 744, 95, 46, 219, 702, 385, 1204, 328, 249, 115, 18, 2853, 159, 8, 74, 1168, 96, 122, 15, 9, 70, 25, 224, 684, 14, 320, 296, 408, 268, 102, 61, 198, 117, 716, 227, 479, 161, 344, 1367, 538, 144, 96, 55, 137, 430, 313, 3007, 634, 7, 481, 20, 375, 527, 543, 180, 1501, 5, 219, 664, 35, 11, 70, 131, 34, 871, 20, 3, 199, 4, 23, 16, 848, 727, 493, 376, 22, 2047, 2980, 28, 20, 31, 3, 2, 357, 438, 34, 2, 120, 17, 237, 102, 136, 6, 110, 713, 759, 812, 745, 66, 6, 198, 101, 68, 427, 47, 44, 1810, 57, 49, 1136, 898, 449, 73, 2148, 129, 74, 32, 74, 3, 37, 53, 277, 8, 1608, 220, 465, 29, 231, 1639, 1499, 53, 84, 104, 32, 342, 43, 2, 76, 135, 99, 2026, 46, 1119, 166, 1651, 718, 609, 32, 18, 293, 5, 677, 24, 113, 93, 4, 597, 77, 88, 386, 347, 99, 825, 767, 205, 273, 317, 8, 412, 637, 78, 2000, 242, 55, 239, 35, 31, 3, 17, 128, 18, 664, 64, 7, 140, 720, 35, 86, 750, 140, 163, 454, 394, 8, 190, 58, 210, 1289, 98, 18, 13, 193, 2, 2274, 104, 37, 440, 1231, 1571, 225, 627, 93, 849, 725, 429, 122, 734, 187, 261, 199, 1670, 113, 163, 2895, 147, 25, 11, 163, 96, 861, 125, 834, 100, 45, 2866, 2273, 742, 2958, 29, 76, 42, 400, 52, 472, 168, 533, 155, 71, 43, 214, 83, 1440, 261, 172, 423, 225, 552, 131, 99, 30, 59, 47, 548, 161, 64, 42, 24, 3, 128, 634, 402, 2110, 137, 11, 214, 62, 40, 226, 269, 1296, 47, 89, 9, 790, 13, 561, 323, 70, 159, 2042, 91, 4, 542, 140, 8, 21, 208, 415, 255, 352, 11, 43, 93, 59, 2346, 262, 19, 34, 20, 222, 69, 1621, 6, 10, 311, 685, 53, 51, 1190, 19, 87, 524, 185, 23, 46, 274, 80, 1, 539, 181, 244, 35, 11, 1204, 90, 577, 16, 76, 41, 26, 147, 35, 261, 280, 48, 114, 59, 98, 75, 1238, 1449, 62, 68, 958, 217, 880, 475, 264, 748, 1, 108, 67, 353, 29, 53, 64, 613, 145, 17, 279, 224, 655, 216, 29, 139, 17, 15, 2, 837, 121, 21, 37, 11, 737, 179, 65, 491, 45, 154, 112, 67, 27, 98, 243, 568, 16, 233, 104, 19, 746, 194, 2595, 59, 531, 477, 145, 111, 232, 442, 29, 314, 205, 91, 143, 192, 267, 132, 9, 391, 25, 14, 3, 11, 92, 276, 151, 2191, 2, 153, 59, 80, 219, 189, 2206, 15, 542, 635, 499, 272, 242, 135, 152, 267, 70, 665, 91, 26, 632, 3562, 46, 233, 296, 1188, 562, 138, 28, 153, 78, 79, 8, 57, 60, 9, 137, 1633, 29, 90, 400, 87, 65, 808, 1957, 89, 288, 1775, 725, 798, 66, 127, 196, 93, 94, 488, 125, 282, 108, 736, 2101, 508, 279, 6, 12, 100, 451, 145, 12, 2939, 75, 1017, 24, 63, 179, 159, 300, 258, 24, 57, 367, 475, 203, 63, 68, 518, 210, 373, 37, 58, 352, 9, 267, 2225, 41, 26, 432, 16, 617, 78, 139, 131, 117, 30, 227, 22, 136, 24, 36, 64, 548, 256, 15, 436, 93, 306, 7, 510, 74, 227, 236, 60, 259, 753, 190, 114, 16, 462, 673, 60, 188, 630, 212, 31, 406, 16, 28, 105, 31, 10, 14, 6, 89, 96, 16, 717, 10, 55, 488, 2055, 213, 94, 6, 346, 26, 964, 272, 107, 48, 41, 323, 90, 62, 25, 25, 878, 139, 114, 46, 412, 44, 770, 21, 202, 2193, 49, 204, 2, 55, 70, 338, 860, 921, 112, 650, 268, 99, 13, 213, 533, 94, 27, 36, 261, 44, 182, 30, 16, 115, 9, 153, 73, 98, 132, 208, 13, 33, 45, 35, 259, 109, 409, 6, 45, 68, 199, 75, 340, 264, 8, 332, 228, 733, 22, 420, 25, 75, 600, 179, 44, 37, 881, 151, 263, 159, 186, 223, 169, 36, 38, 426, 832, 46, 105, 664, 5, 505, 177, 442, 204, 25, 304, 65, 117, 36, 4, 182, 1675, 95, 65, 2676, 793, 219, 315, 44, 14, 210, 85, 1, 15, 4, 86, 132, 115, 56, 51, 88, 386, 63, 356, 75, 280, 74, 2327, 11, 70, 2087, 737, 368, 48, 349, 11, 9, 498, 133, 79, 264, 450, 148, 13, 237, 847, 134, 1254, 122, 34, 380, 1541, 801, 70, 115, 90, 46, 246, 13, 107, 462, 2865, 15, 27, 2741, 16, 90, 27, 237, 59, 98, 32, 588, 30, 473, 354, 1677, 72, 94, 1657, 105, 82, 916, 38, 204, 444, 274, 475, 392, 54, 33, 114, 335, 30, 1, 1861, 52, 648, 49, 847, 42, 875, 299, 37, 21, 2104, 134, 4, 116, 134, 652, 520, 639, 73, 919, 460, 489, 195, 2082, 172, 47, 784, 19, 94, 12, 29, 87, 117, 46, 2340, 60, 82, 153, 447, 220, 31, 7, 818, 1111, 40, 216, 38, 66, 6, 2, 24, 29, 2756, 164, 248, 953, 1, 1144, 3, 57, 296, 17, 63, 870, 73, 248, 973, 769, 2, 1, 67, 839, 364, 13, 1497, 13, 46, 155, 26, 152, 6, 23, 57, 71, 94, 44, 22, 193, 607, 223, 31, 525, 8, 355, 110, 72, 111, 882, 1090, 12, 238, 24, 104, 143, 354, 495, 354, 153, 51, 205, 16, 7, 641, 166, 127, 275, 233, 41, 26, 13, 29, 160, 18, 91, 67, 141, 600, 19, 348, 2707, 63, 4, 23, 1066, 107, 151, 119, 27, 21, 21, 71, 235, 39, 173, 12, 13, 119, 36, 119, 58, 697, 68, 36, 562, 408, 749, 360, 335, 249, 20, 707, 1008, 528, 277, 258, 106, 704, 193, 215, 675, 611, 42, 204, 1296, 708, 8, 191, 8, 32, 66, 137, 62, 88, 358, 17, 236, 484, 244, 24, 28, 189, 325, 12, 68, 17, 282, 170, 17, 119, 408, 334, 330, 2042, 46, 17, 279, 846, 967, 343, 9, 308, 19, 624, 149, 142, 42, 76, 1330, 101, 64, 4, 33, 1559, 158, 163, 728, 33, 168, 538, 8, 85, 75, 182, 597, 470, 489, 329, 528, 300, 195, 90, 44, 239, 1519, 223, 199, 127, 1715, 82, 154, 498, 59, 78, 291, 1, 1080, 132, 42, 274, 13, 4, 1, 664, 206, 19, 306, 15, 389, 358, 1105, 203, 283, 369, 26, 8, 124, 1, 4, 188, 79, 7, 462, 111, 7, 50, 52, 12, 13, 869, 63, 336, 201, 242, 269, 910, 41, 1, 235, 89, 121, 78, 382, 97, 54, 375, 412, 42, 58, 66, 16, 548, 250, 34, 33, 36, 112, 2309, 105, 190, 210, 158, 121, 350, 94, 53, 15, 175, 73, 109, 35, 101, 80, 1283, 135, 9, 120, 333, 312, 83, 141, 21, 18, 535, 366, 21, 891, 703, 50, 704, 22, 545, 95, 306, 10, 480, 808, 611, 840, 11, 68, 839, 86, 624, 198, 46, 44, 19, 40, 113, 2, 3669, 2119, 484, 54, 996, 471, 738, 65, 487, 1, 223, 4, 1020, 904, 1870, 263, 43, 35, 21, 49, 2, 478, 26, 68, 73, 27, 376, 394, 223, 331, 82, 266, 1, 736, 479, 6, 253, 2, 764, 12, 1870, 294, 127, 159, 137, 1231, 324, 203, 164, 3198, 806, 156, 12, 29, 333, 74, 118, 1679, 425, 100, 37, 55, 363, 43, 160, 267, 3, 112, 471, 111, 27, 4, 455, 22, 348, 582, 1611, 224, 168, 707, 24, 330, 74, 4, 7, 456, 25, 11, 154, 129, 192, 385, 4, 139, 241, 401, 791, 229, 71, 32, 156, 33, 22, 548, 476, 119, 22, 549, 14, 65, 9, 43, 261, 36, 31, 634, 159, 122, 48, 178, 978, 609, 13, 2, 183, 80, 12, 1136, 408, 198, 15, 1609, 334, 4, 25, 278, 34, 754, 513, 2733, 266, 205, 260, 612, 139, 197, 304, 17, 209, 17, 980, 157, 78, 205, 490, 32, 474, 384, 732, 64, 337, 29, 391, 62, 229, 40, 7, 2238, 316, 164, 212, 49, 792, 1, 103, 123, 16, 35, 839, 10, 98, 114, 1302, 35, 780, 66, 102, 409, 310, 37, 619, 419, 371, 30, 222, 40, 382, 104, 91, 317, 349, 36, 34, 43, 2520, 66, 3, 171, 1, 647, 289, 611, 3158, 25, 535, 717, 401, 109, 630, 146, 126, 51, 239, 643, 175, 4, 116, 1017, 657, 618, 358, 39, 375, 22, 14, 145, 337, 1354, 82, 558, 145, 62, 1602, 22, 29, 871, 150, 57, 35, 79, 384, 152, 1050, 739, 57, 8, 920, 76, 357, 530, 106, 31, 1025, 135, 871, 2220, 31, 238, 446, 181, 13, 200, 41, 67, 278, 59, 54, 481, 68, 325, 62, 186, 957, 197, 141, 123, 166, 248, 105, 383, 43, 1552, 44, 197, 94, 4, 4623, 197, 27, 195, 9, 99, 131, 175, 101, 373, 159, 5, 1105, 172, 37, 111, 96, 378, 22, 97, 69, 850, 146, 129, 169, 14, 287, 94, 1131, 14, 49, 256, 4, 2642, 21, 28, 3386, 204, 107, 531, 502, 2275, 122, 131, 839, 226, 100, 129, 242, 788, 126, 378, 34, 144, 299, 413, 21, 256, 281, 40, 10, 2226, 1846, 169, 307, 196, 206, 30, 205, 790, 27, 507, 39, 6, 152, 94, 7, 283, 333, 205, 222, 121, 1, 50, 2221, 9, 56, 995, 25, 190, 3, 426, 141, 170, 339, 111, 3, 109, 3, 359, 145, 741, 19, 77, 262, 125, 207, 14, 63, 75, 543, 206, 313, 384, 137, 128, 305, 62, 32, 79, 453, 379, 77, 14, 129, 131, 187, 28, 1628, 3122, 59, 26, 235, 17, 2312, 39, 22, 101, 35, 1396, 47, 279, 16, 167, 279, 1370, 625, 9, 198, 707, 951, 582, 40, 133, 10, 339, 197, 46, 610, 288, 686, 59, 45, 626, 35, 44, 143, 50, 72, 69, 34, 95, 320, 51, 287, 17, 517, 30, 740, 1025, 379, 190, 574, 63, 89, 60, 611, 6, 34, 38, 344, 448, 207, 220, 220, 63, 5, 294, 37, 44, 32, 340, 398, 2559, 293, 553, 36, 244, 67, 258, 307, 206, 31, 14, 731, 363, 1559, 29, 81, 12, 97, 58, 155, 294, 1295, 179, 7, 200, 140, 165, 343, 171, 8, 92, 214, 544, 43, 194, 842, 56, 342, 91, 180, 12, 78, 309, 250, 20, 897, 540, 349, 1280, 30, 427, 157, 163, 157, 23, 1079, 242, 340, 443, 200, 80, 610, 265, 53, 7, 44, 335, 203, 238, 769, 840, 184, 36, 10, 415, 53, 127, 310, 1005, 289, 191, 118, 65, 263, 396, 23, 27, 811, 669, 298, 821, 357, 107, 167, 236, 683, 182, 72, 147, 179, 163, 112, 3, 131, 17, 315, 8, 135, 6, 58, 335, 362, 215, 418, 108, 126, 23, 303, 78, 276, 70, 1270, 212, 1043, 671, 69, 1, 196, 110, 270, 854, 10, 1008, 2, 81, 16, 28, 134, 15, 8, 294, 127, 495, 109, 61, 343, 250, 5, 122, 222, 1505, 405, 165, 75, 39, 288, 268, 116, 421, 686, 222, 920, 13, 66, 547, 200, 83, 66, 224, 238, 13, 170, 540, 82, 410, 69, 292, 800, 44, 519, 339, 2, 15, 92, 227, 314, 191, 17, 613, 35, 269, 23, 371, 149, 317, 14, 199, 31, 102, 115, 224, 12, 41, 315, 521, 2307, 22, 182, 354, 206, 318, 16, 2059, 1267, 543, 1112, 83, 40, 43, 3, 278, 546, 808, 71, 1721, 33, 64, 168, 20, 182, 20, 897, 16, 60, 244, 124, 1428, 870, 9, 34, 183, 252, 25, 593, 224, 778, 22, 987, 72, 990, 172, 538, 577, 249, 101, 21, 6, 1459, 250, 236, 112, 49, 716, 114, 164, 196, 479, 1035, 395, 23, 6, 101, 82, 10, 58, 212, 84, 663, 46, 276, 603, 54, 90, 24, 76, 389, 119, 4, 48, 75, 317, 140, 1387, 467, 30, 8, 121, 54, 251, 209, 171, 346, 292, 60, 412, 1300, 54, 26, 135, 103, 42, 471, 15, 213, 97, 1720, 7, 264, 204, 1889, 703, 106, 274, 235, 384, 82, 75, 1336, 217, 471, 45, 5, 30, 238, 34, 62, 46, 352, 159, 315, 1, 49, 220, 181, 180, 529, 128, 210, 21, 1014, 1874, 48, 1179, 493, 172, 135, 210, 17, 175, 1041, 23, 44, 246, 1083, 222, 19, 265, 430, 185, 257, 346, 36, 268, 255, 393, 51, 123, 160, 798, 171, 136, 4, 150, 666, 177, 119, 172, 10, 6, 44, 1398, 965, 17, 62, 513, 58, 627, 26, 38, 51, 52, 98, 81, 28, 2091, 74, 393, 116, 15, 20, 1, 390, 815, 272, 954, 12, 13, 186, 40, 197, 84, 36, 1022, 5, 17, 174, 238, 40, 70, 595, 971, 51, 27, 139, 295, 93, 2676, 320, 42, 57, 561, 630, 54, 97, 80, 101, 5, 188, 110, 8, 97, 59, 105, 69, 89, 1, 1913, 19, 764, 66, 953, 41, 23, 5, 334, 1, 157, 569, 1073, 139, 69, 11, 116, 59, 279, 396, 222, 227, 155, 30, 270, 432, 17, 130, 42, 37, 1088, 17, 12, 101, 92, 97, 584, 7, 302, 231, 104, 410, 14, 163, 463, 106, 170, 662, 979, 140, 127, 281, 68, 267, 448, 235, 113, 143, 77, 23, 926, 47, 137, 236, 164, 179, 135, 261, 14, 390, 7, 107, 65, 274, 477, 95, 103, 75, 1378, 92, 550, 31, 416, 936, 37, 393, 80, 24, 39, 103, 232, 397, 139, 272, 42, 5, 187, 21, 141, 482, 31, 21, 17, 1682, 106, 1205, 53, 789, 165, 321, 27, 39, 206, 162, 24, 169, 1042, 2362, 4, 165, 62, 229, 1773, 206, 4, 2, 629, 181, 779, 795, 148, 138, 25, 301, 210, 812, 33, 284, 110, 191, 73, 544, 58, 7, 35, 8, 369, 353, 274, 13, 585, 93, 441, 62, 362, 283, 96, 231, 243, 1104, 454, 308, 708, 14, 185, 277, 674, 98, 1010, 653, 1, 314, 701, 408, 72, 139, 601, 210, 2024, 6, 2062, 157, 8, 15, 340, 247, 296, 88, 558, 863, 775, 58, 430, 142, 519, 91, 73, 800, 184, 87, 6, 412, 7, 933, 94, 16, 15, 69, 310, 33, 458, 38, 39, 133, 999, 46, 266, 135, 104, 14, 2, 13, 57, 60, 23, 1242, 250, 388, 401, 101, 128, 131, 139, 74, 39, 681, 709, 13, 114, 212, 107, 36, 519, 2, 48, 711, 423, 102, 200, 9, 364, 294, 62, 1846, 606, 304, 235, 278, 287, 1, 720, 381, 1018, 2, 51, 560, 379, 755, 439, 336, 56, 279, 80, 227, 70, 487, 58, 72, 25, 40, 18, 33, 158, 8, 266, 2, 790, 202, 1, 25, 540, 76, 1, 610, 44, 574, 553, 63, 826, 426, 72, 9, 72, 794, 130, 265, 36, 1137, 168, 1785, 525, 113, 1257, 396, 254, 28, 196, 59, 449, 67, 528, 4, 315, 2141, 16, 473, 744, 3, 282, 142, 288, 361, 375, 155, 285, 202, 947, 8, 354, 40, 863, 921, 185, 68, 43, 958, 425, 80, 11, 1785, 58, 1496, 12, 221, 98, 211, 474, 528, 4, 23, 336, 94, 783, 90, 25, 169, 84, 737, 26, 280, 551, 301, 1067, 6, 104, 362, 77, 434, 425, 6, 240, 285, 11, 146, 383, 298, 73, 57, 216, 334, 19, 363, 73, 237, 115, 432, 159, 520, 1313, 51, 86, 12, 89, 124, 81, 191, 162, 52, 52, 60, 253, 37, 683, 19, 143, 234, 512, 114, 189, 1088, 1636, 20, 117, 146, 173, 245, 90, 105, 257, 368, 1012, 2, 1211, 301, 69, 486, 368, 355, 281, 552, 501, 47, 485, 5, 356, 190, 366, 105, 34, 9, 392, 290, 329, 85, 442, 33, 231, 172, 138, 1538, 29, 82, 80, 15, 576, 157, 550, 177, 102, 597, 1, 32, 4, 411, 202, 2929, 93, 29, 1127, 4, 1014, 118, 14, 34, 155, 187, 766, 6, 80, 555, 178, 996, 196, 82, 11, 83, 157, 113, 194, 129, 7, 900, 44, 205, 392, 264, 442, 226, 1324, 29, 210, 1, 307, 487, 127, 283, 77, 43, 110, 327, 31, 413, 23, 1025, 232, 399, 33, 168, 9, 93, 456, 1064, 126, 918, 121, 309, 10, 268, 68, 104, 502, 90, 1, 147, 38, 17, 90, 519, 245, 953, 237, 4, 1690, 614, 290, 233, 689, 339, 167, 389, 13, 77, 18, 21, 173, 658, 904, 58, 1902, 18, 9, 55, 410, 151, 257, 105, 1102, 132, 1801, 194, 5, 79, 31, 271, 114, 186, 72, 314, 13, 575, 390, 21, 410, 87, 7, 1338, 578, 889, 315, 20, 8, 352, 320, 55, 1063, 484, 2531, 118, 135, 84, 3, 246, 288, 12, 177, 123, 574, 61, 178, 1, 155, 34, 286, 76, 73, 164, 285, 124, 21, 109, 103, 20, 38, 67, 284, 484, 173, 238, 399, 412, 21, 25, 898, 462, 38, 49, 130, 696, 176, 746, 150, 13, 96, 254, 118, 16, 6, 111, 162, 197, 26, 344, 420, 29, 390, 343, 85, 28, 69, 33, 490, 8, 15, 775, 38, 141, 82, 19, 169, 600, 440, 112, 582, 10, 96, 164, 447, 285, 87, 132, 13, 72, 44, 1390, 29, 375, 64, 1544, 40, 370, 43, 875, 191, 230, 12, 23, 11, 93, 562, 54, 129, 208, 281, 248, 445, 541, 373, 68, 690, 28, 686, 363, 8, 531, 442, 111, 337, 407, 75, 72, 5, 896, 340, 170, 1185, 20, 133, 134, 552, 1533, 13, 29, 437, 1211, 546, 350, 304, 198, 702, 66, 4, 7, 169, 404, 543, 1, 4, 261, 34, 526, 2, 395, 233, 90, 2, 368, 21, 90, 245, 61, 386, 325, 95, 82, 4354, 101, 114, 13, 276, 86, 261, 375, 85, 68, 85, 18, 27, 23, 84, 11, 1223, 520, 230, 742, 24, 241, 623, 81, 778, 26, 356, 204, 72, 68, 143, 10, 132, 9, 153, 16, 182, 662, 10, 13, 45, 475, 68, 348, 75, 55, 25, 27, 163, 11, 22, 14, 889, 169, 848, 249, 343, 75, 519, 151, 123, 1104, 113, 186, 13, 259, 163, 1185, 284, 365, 376, 45, 321, 298, 107, 336, 2169, 1, 97, 54, 364, 337, 385, 51, 7, 347, 381, 722, 163, 55, 28, 445, 29, 361, 176, 186, 1067, 241, 1197, 78, 345, 62, 37, 9, 165, 1139, 430, 8, 631, 47, 360, 21, 218, 78, 262, 211, 35, 22, 161, 66, 316, 116, 40, 289, 3, 139, 31, 121, 94, 1090, 168, 387, 86, 398, 97, 250, 29, 21, 919, 14, 395, 2776, 31, 318, 548, 718, 108, 50, 311, 770, 27, 294, 229, 21, 109, 2, 960, 81, 246, 245, 16, 144, 66, 365, 2, 20, 122, 315, 803, 522, 44, 73, 453, 133, 46, 31, 24, 639, 56, 122, 11, 72, 159, 1191, 340, 335, 359, 45, 266, 104, 69, 27, 257, 92, 112, 953, 45, 11, 141, 122, 291, 3, 6, 72, 1764, 1019, 13, 250, 271, 150, 192, 482, 27, 650, 1041, 279, 443, 953, 309, 853, 210, 625, 109, 267, 508, 219, 50, 122, 4, 107, 192, 507, 120, 37, 19, 316, 204, 283, 225, 138, 236, 108, 4, 2, 33, 99, 1, 222, 42, 464, 40, 52, 588, 316, 671, 676, 102, 2, 211, 194, 50, 7, 119, 50, 11, 55, 2778, 171, 94, 548, 3333, 294, 223, 229, 80, 78, 9, 1, 39, 507, 100, 38, 230, 40, 200, 466, 207, 415, 496, 1187, 442, 44, 2263, 124, 27, 148, 195, 40, 310, 647, 432, 298, 12, 19, 340, 28, 100, 108, 60, 213, 25, 164, 87, 6, 235, 68, 78, 58, 534, 197, 137, 395, 17, 59, 52, 110, 333, 34, 31, 818, 357, 7, 4, 75, 209, 19, 118, 10, 80, 609, 411, 46, 572, 160, 47, 129, 202, 129, 7, 106, 259, 51, 1, 173, 564, 386, 89, 66, 4, 77, 315, 53, 110, 328, 31, 189, 751, 321, 3, 2, 1262, 367, 63, 56, 60, 56, 208, 14, 147, 643, 593, 91, 265, 26, 336, 54, 164, 788, 9, 9, 12, 166, 399, 467, 594, 25, 360, 36, 302, 665, 1102, 138, 9, 16, 811, 1, 903, 13, 54, 40, 9, 418, 84, 11, 94, 553, 10, 9, 11, 281, 325, 5, 1187, 2, 233, 107, 24, 137, 2, 331, 82, 142, 38, 211, 1115, 87, 14, 517, 3, 109, 5, 54, 19, 282, 336, 19, 1003, 93, 746, 294, 319, 90, 9, 17, 431, 770, 70, 14, 392, 215, 294, 95, 82, 18, 13, 56, 27, 491, 498, 643, 9, 120, 44, 72, 55, 211, 7, 134, 2023, 21, 73, 764, 397, 8, 1552, 587, 38, 317, 590, 590, 789, 310, 117, 29, 34, 254, 138, 337, 39, 2, 201, 607, 12, 40, 745, 3, 586, 7, 977, 622, 364, 28, 139, 420, 9, 24, 238, 934, 460, 1024, 141, 85, 909, 33, 28, 35, 14, 182, 184, 66, 945, 2, 527, 1211, 58, 2, 51, 67, 32, 363, 220, 58, 149, 172, 526, 30, 58, 60, 83, 30, 24, 958, 32, 60, 234, 559, 3, 675, 357, 22, 119, 129, 758, 6, 10, 22, 267, 379, 57, 639, 4, 95, 60, 473, 68, 214, 376, 563, 152, 558, 200, 238, 189, 14, 1368, 522, 66, 223, 478, 230, 921, 39, 1, 1125, 948, 16, 19, 536, 177, 869, 148, 33, 13, 614, 21, 101, 25, 222, 117, 1520, 507, 48, 19, 16, 141, 20, 212, 119, 20, 326, 72, 316, 43, 116, 286, 141, 458, 419, 62, 9, 17, 2, 13, 704, 611, 39, 15, 254, 130, 90, 65, 316, 61, 61, 53, 306, 631, 46, 12, 50, 424, 490, 47, 388, 142, 63, 115, 255, 778, 398, 40, 65, 603, 76, 24, 122, 1569, 192, 226, 458, 273, 993, 20, 125, 109, 41, 170, 718, 46, 194, 189, 17, 849, 27, 20, 4, 112, 39, 23, 612, 30, 33, 182, 30, 205, 30, 664, 330, 4, 36, 1261, 760, 105, 281, 37, 31, 77, 261, 334, 796, 718, 414, 683, 416, 174, 45, 804, 2, 60, 753, 149, 7, 81, 6, 53, 206, 34, 104, 52, 53, 279, 11, 211, 2619, 112, 435, 541, 580, 497, 1142, 54, 31, 18, 1, 13, 231, 186, 211, 119, 279, 946, 273, 25, 363, 27, 317, 326, 57, 538, 315, 9, 326, 85, 228, 61, 378, 1160, 63, 61, 304, 8, 2474, 193, 529, 158, 33, 105, 29, 126, 180, 11, 75, 1, 325, 281, 35, 60, 151, 1001, 756, 98, 315, 10, 32, 27, 376, 14, 363, 453, 369, 1259, 43, 29, 266, 336, 423, 496, 798, 250, 48, 66, 327, 232, 18, 128, 11, 225, 7, 398, 132, 323, 129, 7, 38, 1168, 939, 211, 54, 360, 132, 1211, 520, 107, 14, 179, 24, 18, 97, 75, 107, 5, 14, 536, 1, 15, 17, 504, 300, 11, 561, 746, 291, 951, 4, 710, 69, 7, 104, 119, 300, 335, 51, 103, 23, 41, 24, 30, 229, 506, 171, 515, 2145, 112, 51, 34, 64, 52, 204, 902, 605, 6, 1034, 14, 97, 26, 229, 3723, 3, 31, 1769, 47, 18, 104, 361, 13, 32, 199, 224, 21, 109, 3, 440, 322, 50, 10, 35, 4, 77, 20, 3, 264, 2449, 51, 191, 487, 38, 208, 26, 32, 5, 126, 6, 248, 567, 17, 5, 1, 13, 109, 9, 22, 327, 964, 323, 294, 2, 2, 143, 598, 2, 60, 256, 114, 202, 29, 26, 526, 13, 522, 31, 46, 23, 164, 130, 120, 54, 174, 94, 55, 317, 152, 8, 25, 348, 127, 162, 1360, 13, 55, 1235, 30, 352, 16, 9, 5, 319, 493, 12, 359, 3356, 14, 1230, 62, 142, 151, 256, 12, 224, 636, 16, 1237, 139, 81, 557, 358, 217, 251, 111, 659, 15, 14, 36, 14, 46, 337, 87, 119, 175, 321, 6, 135, 882, 46, 5, 28, 54, 152, 575, 603, 1184, 252, 83, 478, 53, 228, 239, 77, 337, 282, 309, 246, 174, 518, 45, 1041, 134, 46, 10, 72, 6, 85, 10, 694, 760, 45, 478, 103, 478, 358, 28, 12, 926, 377, 621, 2106, 133, 1, 2829, 267, 416, 18, 2475, 303, 14, 294, 54, 107, 8, 323, 124, 280, 10, 403, 486, 375, 42, 6, 134, 446, 655, 101, 59, 713, 54, 33, 219, 42, 463, 481, 708, 15, 140, 1688, 24, 43, 377, 19, 822, 2, 188, 1199, 81, 259, 166, 463, 379, 2518, 4, 76, 158, 45, 505, 54, 105, 16, 12, 911, 7, 52, 37, 108, 42, 15, 20, 106, 30, 272, 24, 13, 13, 36, 151, 14, 218, 137, 2934, 583, 49, 372, 897, 73, 1137, 7, 381, 46, 81, 233, 35, 23, 41, 73, 329, 493, 18, 4, 158, 20, 184, 1553, 18, 13, 330, 126, 216, 204, 387, 22, 80, 68, 948, 343, 329, 7, 1, 13, 23, 47, 59, 57, 14, 44, 195, 114, 295, 2048, 364, 571, 88, 104, 85, 603, 503, 52, 104, 13, 246, 148, 54, 466, 8, 250, 13, 3496, 58, 112, 340, 2687, 75, 386, 1039, 61, 90, 294, 1330, 432, 14, 389, 720, 24, 2298, 736, 1, 25, 465, 26, 3, 398, 10, 137, 5, 39, 365, 71, 605, 26, 115, 4, 143, 542, 35, 5, 13, 274, 1988, 17, 55, 231, 91, 33, 25, 275, 1070, 38, 341, 8, 145, 1021, 296, 650, 234, 33, 758, 18, 620, 43, 13, 62, 34, 283, 401, 544, 7, 90, 4, 108, 379, 16, 86, 309, 993, 5, 13, 39, 16, 1, 1581, 181, 52, 36, 380, 47, 15, 96, 15, 1137, 8, 39, 24, 310, 168, 40, 87, 47, 52, 1171, 152, 650, 1040, 210, 784, 486, 662, 13, 476, 45, 60, 29, 1371, 74, 21, 127, 23, 51, 301, 427, 574, 24, 54, 1, 229, 154, 40, 8, 165, 861, 81, 637, 234, 26, 257, 4, 402, 10, 88, 6, 393, 31, 263, 377, 55, 63, 171, 25, 62, 230, 8, 26, 560, 18, 250, 640, 2891, 805, 70, 27, 126, 173, 73, 7, 35, 13, 83, 34, 362, 183, 18, 237, 119, 14, 253, 749, 418, 378, 37, 69, 68, 9, 39, 570, 623, 27, 85, 217, 1, 4, 55, 176, 11, 74, 222, 95, 391, 346, 346, 553, 282, 252, 79, 28, 84, 15, 104, 9, 407, 345, 36, 586, 880, 299, 52, 253, 213, 336, 406, 1441, 193, 136, 45, 79, 369, 10, 30, 28, 800, 13, 1414, 301, 20, 29, 695, 77, 71, 760, 53, 577, 204, 64, 5, 1184, 10, 1688, 147, 11, 137, 14, 10, 60, 21, 307, 345, 385, 126, 42, 276, 73, 3, 2, 21, 835, 45, 629, 122, 101, 105, 415, 17, 10, 193, 40, 274, 1612, 318, 553, 107, 1188, 76, 48, 15, 62, 167, 32, 12, 528, 17, 121, 418, 3088, 21, 33, 14, 62, 122, 285, 76, 15, 85, 243, 188, 538, 186, 77, 1800, 243, 6, 18, 57, 79, 758, 377, 121, 124, 474, 154, 44, 305, 199, 5, 389, 12, 314, 227, 265, 660, 21, 815, 41, 50, 1095, 329, 545, 1951, 83, 513, 338, 8, 392, 19, 189, 64, 2624, 418, 20, 9, 83, 52, 22, 1, 82, 70, 133, 27, 2, 120, 9, 27, 204, 478, 8, 2970, 36, 7, 509, 12, 534, 173, 199, 208, 72, 13, 28, 80, 853, 94, 1122, 69, 203, 108, 179, 42, 290, 23, 290, 158, 178, 7, 261, 23, 17, 366, 332, 12, 3, 60, 127, 58, 688, 1823, 535, 277, 96, 49, 196, 704, 368, 484, 1218, 127, 177, 149, 1115, 21, 28, 22, 7, 3, 814, 135, 74, 39, 1, 4, 326, 55, 163, 3, 84, 48, 244, 1197, 10, 478, 15, 46, 2, 168, 75, 672, 35, 117, 276, 180, 9, 315, 7, 613, 446, 11, 720, 1003, 20, 84, 1053, 586, 298, 204, 14, 247, 730, 35, 10, 476, 43, 6, 16, 146, 57, 212, 786, 16, 280, 12, 8, 31, 25, 1990, 329, 597, 312, 13, 112, 252, 125, 59, 23, 417, 778, 1142, 40, 27, 323, 1034, 493, 108, 18, 523, 434, 75, 118, 180, 5, 86, 20, 567, 1591, 31, 271, 307, 84, 45, 841, 281, 443, 160, 43, 40, 8, 41, 88, 11, 590, 846, 56, 326, 1601, 860, 26, 715, 45, 34, 254, 172, 547, 50, 117, 33, 172, 441, 362, 3, 617, 729, 520, 287, 4, 105, 81, 378, 194, 2490, 11, 63, 137, 4, 182, 403, 135, 256, 6, 465, 31, 19, 16, 1227, 29, 173, 361, 270, 1669, 1058, 85, 312, 102, 513, 514, 287, 1094, 528, 539, 106, 21, 92, 246, 83, 7, 404, 43, 678, 49, 1767, 21, 38, 441, 195, 413, 9, 121, 103, 1010, 367, 94, 106, 679, 865, 17, 7, 15, 13, 109, 185, 85, 145, 380, 204, 3258, 548, 171, 107, 100, 352, 2, 940, 6, 283, 67, 24, 60, 150, 103, 19, 3, 17, 292, 50, 659, 235, 211, 3249, 10, 195, 54, 16, 212, 88, 4, 181, 35, 186, 6, 16, 117, 6, 112, 8, 2, 343, 6, 468, 1000, 70, 114, 517, 88, 421, 450, 96, 13, 87, 1223, 1226, 247, 194, 32, 90, 118, 20, 352, 404, 279, 2306, 1105, 362, 29, 27, 49, 50, 41, 14, 146, 591, 192, 996, 235, 183, 415, 70, 11, 5, 15, 6, 58, 183, 32, 805, 1, 362, 144, 15, 1, 262, 684, 372, 64, 123, 6, 453, 257, 93, 77, 157, 57, 592, 278, 3421, 49, 6, 81, 781, 8, 1862, 471, 361, 94, 44, 323, 23, 1741, 501, 776, 9, 156, 262, 50, 71, 44, 307, 21, 400, 28, 247, 43, 108, 1241, 157, 307, 36, 22, 52, 22, 40, 216, 452, 76, 29, 20, 35, 155, 37, 1, 988, 139, 690, 211, 33, 709, 116, 232, 3, 52, 890, 310, 9, 135, 563, 67, 357, 34, 18, 234, 1, 269, 35, 2894, 61, 173, 248, 137, 450, 94, 85, 92, 139, 82, 19, 248, 97, 33, 21, 2, 403, 105, 51, 154, 312, 6, 253, 34, 332, 4, 136, 9, 187, 257, 38, 1648, 56, 71, 85, 270, 140, 217, 22, 135, 89, 16, 56, 32, 209, 7, 65, 316, 389, 90, 414, 53, 270, 2755, 115, 33, 296, 1256, 34, 573, 946, 80, 529, 3, 105, 49, 30, 2458, 365, 394, 32, 858, 497, 681, 120, 46, 27, 201, 135, 9, 129, 207, 90, 331, 13, 168, 214, 373, 1171, 13, 24, 83, 31, 1931, 81, 57, 119, 91, 99, 226, 603, 7, 53, 1000, 89, 1182, 145, 33, 427, 160, 59, 21, 883, 3, 97, 3453, 160, 3, 2, 1459, 636, 123, 208, 7, 99, 125, 169, 114, 30, 57, 558, 400, 642, 57, 246, 103, 14, 141, 10, 9, 146, 19, 291, 187, 224, 411, 2493, 841, 307, 229, 5, 502, 762, 218, 41, 6, 196, 440, 11, 106, 4, 42, 44, 10, 7, 452, 441, 46, 99, 1198, 71, 8, 860, 1310, 309, 547, 60, 96, 31, 34, 10, 8, 11, 34, 897, 613, 15, 11, 60, 1012, 1, 510, 1076, 42, 182, 223, 342, 630, 296, 1115, 42, 47, 10, 11, 71, 258, 49, 665, 169, 23, 26, 7, 1637, 21, 575, 254, 1, 100, 99, 9, 1292, 281, 9, 9, 2, 10, 321, 74, 26, 10, 19, 482, 283, 5, 65, 28, 549, 625, 3, 18, 42, 40, 45, 354, 5, 31, 75, 1276, 15, 110, 1284, 8, 55, 121, 84, 39, 84, 147, 15, 7, 1157, 34, 50, 133, 451, 399, 25, 29, 2063, 127, 93, 100, 352, 255, 28, 1551, 60, 460, 33, 556, 422, 38, 244, 94, 89, 504, 2, 392, 38, 1, 258, 12, 91, 65, 109, 913, 32, 57, 1408, 160, 49, 198, 9, 4, 8, 51, 322, 112, 18, 12, 52, 738, 123, 684, 44, 33, 42, 63, 151, 228, 37, 12, 55, 1060, 797, 55, 66, 62, 189, 1603, 38, 1497, 521, 9, 2, 1315, 45, 114, 100, 461, 605, 24, 23, 7, 74, 674, 16, 366, 11, 1, 762, 3, 261, 63, 211, 28, 347, 9, 703, 12, 871, 43, 8, 79, 5, 438, 6, 193, 1291, 106, 57, 20, 14, 23, 134, 222, 16, 120, 4, 33, 22, 4, 510, 213, 219, 57, 87, 2345, 30, 176, 19, 2, 357, 39, 2108, 83, 35, 308, 159, 22, 48, 118, 23, 168, 701, 59, 383, 32, 166, 52, 112, 244, 798, 11, 56, 42, 1, 305, 10, 19, 25, 467, 374, 15, 370, 111, 171, 89, 1230, 102, 209, 365, 553, 44, 83, 82, 119, 232, 37, 161, 173, 414, 968, 10, 354, 5, 352, 43, 737, 5, 92, 535, 2, 604, 1170, 2, 27, 439, 494, 118, 1435, 11, 445, 67, 212, 80, 98, 90, 61, 357, 484, 81, 175, 40, 165, 57, 17, 21, 224, 120, 16, 588, 264, 9, 2, 186, 2, 34, 249, 474, 679, 330, 1699, 177, 59, 85, 6, 120, 102, 48, 135, 73, 20, 709, 143, 12, 184, 139, 61, 104, 1, 110, 248, 462, 209, 358, 15, 100, 140, 649, 96, 2, 1777, 205, 41, 414, 34, 275, 602, 553, 1157, 319, 1, 99, 285, 56, 87, 70, 10, 2176, 18, 770, 229, 40, 3, 181, 34, 67, 317, 15, 1310, 110, 148, 881, 6, 212, 72, 51, 591, 174, 1, 70, 900, 630, 39, 139, 668, 593, 297, 586, 13, 14, 236, 56, 219, 213, 127, 173, 25, 169, 41, 30, 6, 28, 53, 232, 37, 159, 4, 278, 153, 42, 183, 346, 691, 34, 66, 79, 7, 22, 21, 637, 323, 479, 92, 665, 107, 155, 374, 80, 17, 121, 5, 9, 193, 1380, 450, 4, 516, 901, 88, 4, 1, 248, 137, 43, 108, 1938, 367, 34, 5, 321, 13, 6, 72, 79, 667, 333, 75, 89, 858, 680, 182, 132, 660, 3, 159, 1222, 102, 191, 206, 44, 2, 195, 66, 4, 5, 453, 6, 21, 51, 172, 34, 82, 7, 514, 1186, 1036, 3, 83, 102, 70, 350, 293, 383, 288, 418, 2819, 85, 131, 13, 34, 39, 888, 478, 48, 16, 369, 57, 913, 28, 505, 16, 4, 2, 90, 100, 268, 255, 21, 202, 162, 1108, 203, 285, 50, 428, 330, 57, 13, 275, 340, 394, 347, 11, 53, 40, 652, 157, 1086, 1610, 34, 677, 61, 710, 4, 72, 188, 572, 23, 370, 114, 136, 34, 40, 16, 175, 319, 164, 7, 198, 42, 289, 142, 137, 482, 481, 6, 524, 41, 42, 36, 157, 148, 84, 559, 7, 27, 129, 18, 138, 214, 851, 150, 113, 237, 10, 6, 692, 246, 206, 77, 8, 8, 573, 73, 488, 504, 4, 45, 6, 35, 458, 543, 13, 348, 39, 40, 259, 950, 11, 1871, 88, 336, 485, 44, 149, 41, 675, 220, 659, 113, 16, 71, 40, 11, 413, 59, 327, 446, 36, 111, 252, 8, 53, 441, 2, 18, 34, 1026, 180, 34, 7, 5, 118, 81, 172, 230, 240, 25, 184, 2096, 290, 23, 87, 93, 277, 253, 120, 278, 335, 144, 234, 6, 180, 1299, 1103, 208, 374, 248, 33, 31, 13, 702, 281, 477, 1814, 204, 210, 38, 596, 177, 419, 152, 42, 106, 1391, 1, 2508, 147, 263, 167, 2836, 18, 31, 664, 5, 151, 90, 282, 10, 386, 20, 280, 311, 244, 13, 187, 5, 8, 41, 435, 1031, 277, 545, 1078, 72, 156, 100, 23, 1946, 227, 4, 286, 7, 408, 93, 104, 3, 3, 1177, 450, 162, 1, 278, 90, 1, 137, 219, 78, 51, 210, 82, 25, 154, 1805, 141, 67, 119, 8, 319, 1103, 629, 35, 15, 37, 8, 95, 97, 46, 635, 5, 141, 53, 242, 94, 352, 23, 119, 43, 23, 508, 41, 137, 116, 306, 620, 860, 541, 272, 317, 195, 328, 51, 652, 154, 12, 48, 51, 726, 102, 18, 80, 49, 120, 212, 234, 112, 350, 337, 1283, 134, 10, 296, 78, 94, 293, 714, 8, 4342, 89, 7, 41, 156, 16, 755, 204, 26, 8, 536, 973, 7, 1376, 467, 18, 535, 67, 624, 2894, 893, 1316, 70, 559, 36, 42, 102, 20, 579, 170, 2, 968, 9, 327, 2100, 364, 437, 268, 135, 747, 273, 125, 589, 9, 177, 3, 16, 341, 382, 561, 146, 476, 51, 27, 182, 265, 408, 525, 829, 19, 7, 159, 79, 47, 76, 284, 737, 844, 24, 108, 19, 158, 2, 14, 108, 619, 70, 879, 72, 139, 4, 34, 103, 5, 34, 408, 1840, 69, 405, 18, 3, 401, 441, 1, 2445, 2355, 243, 103, 177, 92, 485, 496, 240, 210, 161, 233, 33, 182, 2989, 786, 254, 2, 15, 484, 149, 52, 39, 373, 11, 63, 772, 2040, 1086, 1321, 613, 71, 678, 5, 38, 102, 40, 87, 862, 9, 37, 1188, 247, 508, 558, 189, 1147, 1345, 172, 15, 810, 912, 1322, 408, 165, 108, 448, 14, 7, 3616, 335, 181, 776, 4, 87, 1513, 2, 24, 165, 496, 87, 6, 98, 1250, 1151, 364, 1896, 788, 285, 347, 39, 8, 1154, 13, 49, 503, 150, 25, 904, 11, 349, 1138, 151, 539, 62, 426, 107, 55, 1177, 425, 36, 398, 524, 164, 10, 265, 739, 119, 69, 479, 20, 34, 249, 107, 123, 616, 1078, 162, 133, 77, 62, 991, 435, 330, 43, 432, 32, 912, 71, 314, 183, 526, 183, 108, 34, 9, 130, 153, 21, 92, 147, 263, 27, 59, 475, 403, 85, 27, 320, 45, 330, 23, 99, 86, 801, 1043, 150, 133, 1542, 534, 2589, 486, 1017, 200, 77, 36, 248, 34, 194, 388, 54, 297, 187, 160, 16, 140, 50, 1, 81, 53, 76, 351, 3157, 101, 128, 1346, 183, 35, 380, 321, 24, 74, 661, 43, 507, 155, 71, 587, 1, 43, 30, 464, 61, 538, 2, 417, 122, 689, 71, 31, 485, 445, 495, 906, 763, 730, 51, 23, 232, 153, 481, 35, 202, 591, 543, 1175, 493, 7, 378, 189, 59, 1, 122, 334, 182, 1708, 84, 3, 32, 330, 312, 57, 463, 117, 204, 173, 638, 10, 152, 66, 573, 73, 555, 511, 418, 126, 391, 990, 1427, 21, 196, 156, 429, 22, 252, 618, 14, 2, 539, 176, 387, 5, 2312, 84, 26, 429, 23, 7, 686, 117, 451, 178, 50, 668, 468, 332, 248, 491, 361, 346, 563, 1411, 16, 46, 197, 34, 16, 9, 76, 141, 15, 20, 48, 631, 91, 336, 288, 266, 240, 1942, 614, 58, 29, 561, 10, 119, 366, 653, 90, 279, 102, 998, 32, 2, 31, 338, 416, 567, 282, 544, 33, 148, 233, 68, 144, 86, 8, 118, 529, 7, 1173, 32, 542, 81, 529, 303, 207, 33, 39, 39, 441, 1839, 1023, 28, 561, 272, 137, 291, 5, 142, 868, 230, 187, 142, 182, 756, 50, 6, 27, 186, 343, 284, 140, 35, 80, 484, 286, 17, 796, 702, 1323, 134, 720, 375, 20, 1055, 1236, 78, 16, 191, 1238, 60, 416, 1063, 188, 1197, 25, 500, 476, 215, 1262, 38, 1083, 71, 134, 394, 192, 932, 1, 204, 15, 262, 93, 339, 494, 461, 605, 151, 19, 9, 561, 286, 37, 34, 478, 326, 34, 1, 39, 438, 1507, 2339, 1227, 801, 173, 145, 1305, 23, 596, 750, 200, 127, 16, 3, 284, 22, 116, 17, 523, 11, 1085, 112, 48, 15, 19, 377, 1080, 118, 87, 250, 675, 532, 67, 948, 1242, 56, 46, 77, 139, 175, 370, 315, 74, 2, 270, 43, 15, 15, 2303, 232, 125, 42, 201, 90, 5, 91, 547, 216, 9, 339, 88, 68, 4, 144, 337, 141, 6, 231, 32, 122, 277, 92, 496, 339, 235, 22, 124, 186, 570, 196, 42, 88, 1201, 323, 1155, 2205, 5, 24, 600, 376, 60, 337, 37, 79, 22, 1, 1117, 233, 1183, 351, 303, 116, 134, 34, 19, 36, 578, 1, 892, 115, 543, 212, 84, 71, 13, 40, 588, 1187, 54, 1609, 268, 62, 384, 982, 940, 104, 1362, 2782, 193, 799, 28, 11, 503, 116, 83, 42, 30, 70, 82, 270, 87, 5, 28, 837, 52, 168, 2083, 264, 831, 8, 60, 290, 45, 565, 66, 12, 114, 2, 63, 1, 100, 248, 519, 727, 134, 381, 111, 121, 662, 20, 1717, 59, 447, 7, 94, 38, 232, 17, 50, 181, 9, 193, 233, 29, 30, 63, 213, 304, 129, 69, 449, 3081, 104, 374, 169, 503, 37, 6, 207, 175, 275, 1269, 132, 191, 44, 1025, 389, 4, 31, 5, 4, 11, 420, 226, 232, 3021, 649, 44, 489, 650, 12, 4, 578, 19, 562, 452, 35, 80, 18, 23, 1320, 424, 400, 803, 1032, 413, 656, 8, 2, 94, 143, 144, 1482, 94, 361, 98, 355, 115, 26, 287, 628, 15, 34, 2944, 106, 208, 565, 137, 272, 15, 99, 575, 344, 145, 3017, 65, 352, 126, 141, 43, 304, 123, 23, 388, 69, 398, 21, 690, 361, 92, 500, 3, 8, 3, 127, 112, 1, 54, 388, 276, 478, 171, 117, 4, 2372, 6, 3, 29, 6, 112, 142, 29, 132, 32, 28, 1402, 2157, 1485, 1527, 1193, 8, 301, 199, 60, 63, 448, 297, 31, 989, 10, 120, 333, 1224, 693, 21, 39, 85, 128, 77, 62, 232, 302, 101, 7, 836, 194, 2, 28, 136, 26, 394, 342, 19, 542, 211, 1012, 59, 9, 23, 36, 1174, 19, 364, 69, 77, 801, 68, 628, 1043, 49, 294, 70, 5, 7, 19, 9, 147, 165, 103, 785, 30, 651, 336, 75, 293, 288, 103, 6, 261, 847, 181, 253, 1, 556, 150, 45, 187, 195, 411, 28, 196, 174, 1169, 276, 62, 12, 93, 89, 60, 241, 1, 472, 518, 10, 123, 781, 51, 624, 448, 230, 546, 621, 1110, 464, 4, 1130, 8, 110, 9, 104, 387, 49, 285, 102, 224, 833, 85, 120, 596, 131, 13, 64, 20, 20, 58, 313, 3125, 2, 471, 275, 47, 16, 208, 687, 181, 17, 366, 323, 79, 17, 62, 22, 23, 283, 7, 414, 640, 72, 1439, 167, 95, 345, 94, 293, 12, 305, 170, 2, 56, 400, 218, 34, 68, 2230, 39, 163, 64, 3, 808, 193, 47, 484, 66, 138, 212, 266, 457, 39, 6, 755, 690, 900, 44, 472, 370, 99, 474, 427, 775, 24, 16, 6, 178, 115, 62, 319, 1472, 70, 894, 799, 290, 524, 4, 204, 55, 739, 4, 77, 17, 9, 90, 58, 319, 94, 42, 29, 130, 11, 18, 132, 462, 24, 7, 16, 491, 1178, 7, 442, 3023, 469, 565, 308, 103, 240, 166, 447, 30, 200, 81, 306, 12, 245, 165, 21, 357, 915, 119, 3, 59, 692, 262, 2, 20, 119, 61, 88, 128, 432, 38, 289, 33, 76, 150, 1061, 257, 115, 122, 157, 20, 181, 86, 103, 71, 1313, 24, 172, 155, 192, 50, 194, 333, 483, 473, 859, 117, 82, 206, 436, 59, 110, 7, 41, 631, 167, 344, 76, 103, 172, 16, 587, 19, 1001, 817, 850, 1982, 15, 8, 573, 592, 76, 105, 231, 1047, 1081, 363, 157, 117, 182, 493, 224, 219, 2348, 87, 57, 199, 2, 328, 1, 41, 42, 6, 820, 389, 196, 2255, 348, 405, 79, 590, 821, 34, 798, 973, 523, 585, 42, 1936, 361, 261, 673, 176, 107, 237, 255, 72, 199, 258, 137, 92, 11, 187, 54, 100, 1851, 28, 1080, 145, 96, 328, 109, 352, 366, 51, 780, 177, 133, 206, 129, 143, 90, 15, 205, 693, 578, 151, 531, 137, 23, 6, 399, 56, 184, 744, 148, 390, 7, 30, 414, 75, 315, 3, 5, 788, 796, 671, 127, 691, 456, 161, 518, 18, 46, 14, 47, 226, 1, 17, 974, 616, 42, 323, 813, 225, 70, 80, 704, 47, 17, 391, 754, 342, 354, 4, 214, 1176, 22, 64, 484, 68, 460, 476, 929, 98, 98, 581, 369, 148, 44, 343, 45, 33, 289, 197, 22, 684, 114, 11, 62, 57, 2, 284, 463, 1765, 7, 373, 784, 29, 6, 32, 4, 883, 92, 131, 63, 1253, 15, 68, 349, 242, 207, 170, 63, 556, 31, 32, 206, 484, 903, 391, 35, 19, 391, 84, 262, 332, 12, 111, 438, 1270, 83, 125, 684, 606, 160, 177, 117, 134, 460, 320, 155, 63, 5, 443, 676, 296, 195, 79, 50, 168, 278, 39, 186, 7, 96, 1096, 62, 40, 145, 10, 1397, 390, 182, 21, 1, 186, 175, 348, 428, 490, 87, 203, 501, 258, 4, 367, 908, 20, 303, 1877, 668, 5, 175, 212, 102, 347, 702, 18, 270, 146, 639, 785, 9, 227, 122, 225, 156, 142, 633, 656, 272, 73, 3, 56, 240, 1405, 104, 26, 205, 11, 1, 246, 74, 444, 559, 35, 270, 689, 82, 299, 780, 291, 18, 1276, 937, 277, 105, 78, 28, 8, 81, 134, 30, 209, 713, 95, 42, 230, 282, 30, 10, 38, 517, 24, 134, 399, 2145, 12, 232, 415, 1, 716, 349, 1, 142, 1374, 195, 283, 716, 20, 555, 931, 25, 269, 260, 14, 310, 567, 576, 534, 278, 11, 184, 612, 464, 1375, 164, 314, 889, 208, 13, 7, 103, 2, 722, 1093, 406, 89, 969, 547, 987, 320, 142, 755, 780, 652, 387, 267, 45, 61, 450, 356, 156, 1294, 356, 116, 417, 269, 340, 212, 5, 83, 500, 2169, 262, 35, 607, 442, 374, 844, 349, 818, 230, 194, 228, 242, 321, 3, 89, 12, 9, 583, 351, 25, 99, 1136, 61, 181, 64, 18, 762, 120, 601, 22, 69, 122, 105, 432, 267, 586, 107, 446, 105, 732, 98, 84, 26, 287, 187, 668, 429, 230, 156, 1102, 105, 169, 98, 29, 970, 221, 561, 140, 387, 81, 145, 350, 658, 1076, 471, 1, 8, 211, 471, 234, 1011, 182, 3233, 384, 768, 573, 18, 239, 184, 122, 551, 1032, 130, 16, 935, 44, 850, 86, 417, 1, 114, 686, 23, 59, 533, 48, 110, 13, 179, 402, 346, 309, 446, 689, 90, 65, 659, 907, 1055, 156, 972, 113, 129, 2, 112, 540, 1099, 462, 229, 68, 1084, 199, 110, 436, 39, 223, 19, 282, 111, 337, 691, 55, 199, 234, 93, 6, 487, 170, 782, 104, 352, 627, 13, 35, 9, 494, 58, 338, 41, 170, 76, 303, 152, 571, 35, 35, 55, 736, 33, 162, 711, 85, 173, 204, 250, 10, 15, 474, 719, 100, 4, 760, 26, 22, 463, 32, 3, 183, 108, 294, 97, 254, 88, 90, 159, 674, 455, 68, 26, 523, 38, 375, 265, 56, 1755, 207, 52, 140, 1227, 113, 244, 80, 81, 419, 38, 4, 75, 10, 200, 1743, 32, 67, 80, 75, 528, 260, 199, 171, 296, 505, 1, 186, 389, 2487, 402, 220, 262, 61, 543, 10, 78, 1, 206, 7, 233, 24, 373, 2, 82, 616, 113, 956, 847, 1, 8, 52, 1170, 808, 79, 123, 145, 81, 719, 451, 181, 31, 12, 167, 3, 647, 232, 320, 149, 51, 311, 776, 545, 35, 10, 120, 437, 788, 73, 205, 194, 450, 163, 149, 678, 878, 604, 1302, 45, 829, 541, 139, 82, 394, 53, 360, 364, 829, 6, 121, 14, 559, 142, 569, 63, 734, 971, 11, 484, 230, 2353, 62, 83, 22, 148, 195, 847, 208, 97, 1144, 4, 652, 41, 440, 167, 259, 397, 39, 607, 304, 202, 149, 80, 35, 387, 237, 62, 807, 162, 176, 587, 283, 180, 238, 43, 130, 274, 393, 63, 2, 719, 483, 5, 206, 266, 561, 27, 286, 1518, 150, 126, 621, 360, 98, 221, 132, 145, 33, 1102, 867, 74, 42, 144, 270, 331, 1634, 80, 79, 178, 155, 91, 53, 644, 1401, 675, 425, 131, 209, 1991, 40, 1, 208, 1718, 46, 89, 211, 55, 315, 701, 537, 101, 1001, 1164, 315, 679, 44, 344, 36, 25, 1605, 1829, 99, 126, 223, 515, 104, 38, 45, 798, 188, 170, 175, 94, 315, 3114, 420, 512, 1344, 1260, 258, 104, 180, 1325, 137, 1585, 331, 8, 401, 267, 229, 344, 225, 8, 1050, 543, 3016, 58, 47, 107, 722, 301, 342, 433, 34, 62, 2, 5, 1, 102, 327, 221, 224, 392, 676, 132, 500, 111, 132, 264, 228, 100, 872, 3205, 429, 42, 249, 2179, 119, 8, 516, 574, 234, 304, 180, 593, 144, 347, 3058, 559, 393, 112, 939, 197, 751, 279, 430, 194, 62, 336, 5, 202, 87, 4, 275, 46, 150, 301, 63, 142, 83, 62, 81, 220, 185, 671, 110, 97, 440, 20, 552, 205, 203, 8, 331, 167, 45, 315, 240, 2342, 299, 3, 34, 289, 7, 642, 117, 22, 298, 350, 56, 112, 417, 520, 154, 2306, 343, 106, 199, 94, 345, 299, 332, 142, 33, 173, 854, 80, 329, 28, 389, 18, 356, 269, 260, 119, 93, 492, 36, 72, 120, 876, 129, 34, 173, 216, 944, 49, 251, 373, 271, 186, 27, 171, 196, 287, 614, 1089, 701, 471, 239, 55, 153, 469, 765, 65, 232, 1365, 24, 1359, 26, 3, 209, 71, 50, 319, 1355, 13, 1963, 177, 381, 378, 68, 90, 20, 1144, 882, 216, 467, 140, 945, 124, 631, 33, 158, 97, 159, 231, 2186, 255, 10, 565, 14, 25, 182, 7, 575, 33, 164, 32, 448, 845, 141, 22, 289, 477, 11, 1, 821, 52, 567, 980, 219, 421, 519, 1261, 219, 11, 467, 549, 79, 327, 582, 4, 71, 1364, 15, 108, 3, 1574, 110, 1410, 7, 27, 1493, 587, 130, 70, 211, 8, 241, 410, 511, 285, 1419, 5, 46, 557, 322, 115, 583, 143, 122, 1345, 64, 557, 373, 537, 41, 479, 83, 223, 61, 1214, 582, 143, 415, 520, 654, 148, 224, 553, 505, 36, 155, 57, 178, 411, 218, 48, 3080, 167, 214, 3258, 27, 280, 1485, 44, 833, 449, 331, 41, 547, 566, 76, 604, 1, 31, 71, 537, 187, 375, 140, 267, 24, 1157, 185, 877, 280, 52, 46, 72, 467, 127, 300, 220, 570, 131, 3633, 5, 54, 38, 556, 356, 536, 110, 372, 23, 15, 554, 8, 404, 219, 216, 510, 351, 174, 21, 476, 31, 260, 143, 315, 71, 1410, 297, 230, 264, 275, 55, 250, 1461, 503, 300, 436, 464, 5, 123, 1128, 662, 431, 228, 2, 174, 107, 447, 3102, 872, 30, 299, 189, 95, 218, 16, 166, 336, 3, 202, 461, 583, 1181, 129, 1120, 219, 852, 71, 221, 203, 156, 190, 5, 1427, 2812, 71, 205, 532, 369, 177, 160, 70, 150, 155, 629, 266, 57, 694, 400, 830, 245, 545, 817, 47, 141, 529, 375, 226, 429, 603, 508, 538, 864, 298, 158, 242, 194, 1829, 26, 205, 222, 394, 371, 253, 258, 176, 167, 232, 410, 311, 262, 127, 57, 814, 154, 1693, 24, 129, 521, 11, 2309, 64, 501, 681, 283, 422, 361, 1259, 3, 511, 145, 231, 78, 309, 1237, 32, 346, 13, 192, 727, 453, 807, 22, 338, 552, 357, 473, 70, 483, 1627, 851, 166, 816, 867, 31, 23, 1640, 957, 34, 146, 533, 1364, 439, 1066, 40, 725, 1, 274, 99, 393, 283, 266, 1280, 222, 162, 633, 3967, 255, 729, 1100, 460, 398, 1, 351, 1, 352, 155, 864, 327, 278, 412, 670, 206, 249, 6, 6, 735, 175, 233, 178, 97, 4, 210, 1132, 341, 138, 185, 18, 822, 819, 158, 134, 145, 176, 317, 1082, 559, 277, 26, 217, 748, 78, 35, 36, 141, 95, 51, 202, 161, 749, 256, 1377, 96, 2440, 918, 144, 88, 811, 367, 966, 72, 36, 334, 481, 1247, 77, 188, 611, 451, 31, 4, 1442, 167, 1234, 182, 244, 24, 568, 90, 57, 77, 70, 677, 489, 164, 58, 129, 275, 601, 20, 229, 167, 16, 63, 30, 63, 303, 21, 314, 469, 215, 537, 62, 100, 49, 358, 1183, 1467, 293, 1010, 219, 1095, 117, 435, 78, 290, 926, 606, 150, 165, 95, 177, 115, 534, 537, 38, 424, 24, 1183, 561, 967, 40, 68, 69, 148, 113, 1518, 1065, 1167, 682, 306, 836, 398, 465, 221, 285, 349, 5, 194, 39, 369, 142, 293, 412, 519, 340, 693, 2329, 187, 617, 317, 732, 26, 234, 11, 2222, 62, 324, 483, 1057, 533, 1283, 411, 727, 191, 116, 665, 298, 424, 116, 1157, 676, 210, 42, 415, 429, 111, 137, 265, 115, 1371, 230, 25, 318, 22, 171, 226, 5, 422, 99, 347, 696, 127, 337, 189, 64, 120, 184, 285, 11, 38, 5, 306, 467, 29, 657, 81, 184, 1433, 179, 100, 123, 600, 5, 14, 448, 924, 131, 13, 232, 178, 177, 124, 59, 206, 482, 471, 261, 219, 483, 564, 753, 462, 844, 1127, 80, 85, 93, 251, 1, 96, 25, 22, 464, 658, 20, 142, 216, 108, 32, 279, 379, 753, 227, 596, 66, 361, 1021, 924, 166, 675, 798, 16, 100, 256, 855, 293, 26, 918, 202, 1905, 159, 236, 115, 195, 273, 8, 442, 152, 350, 738, 218, 188, 130, 166, 161, 16, 264, 143, 136, 50, 138, 334, 191, 117, 1628, 104, 258, 4, 158, 311, 162, 180, 372, 1346, 9, 861, 142, 405, 349, 110, 187, 8, 21, 241, 312, 197, 696, 716, 182, 182, 3, 63, 1187, 45, 2, 209, 552, 123, 1732, 101, 13, 921, 50, 102, 465, 371, 61, 41, 420, 1697, 258, 88, 529, 644, 31, 348, 623, 833, 351, 639, 187, 786, 147, 5, 1099, 11, 4087, 816, 607, 536, 298, 166, 34, 41, 385, 1281, 1866, 123, 190, 588, 253, 26, 156, 1000, 113, 425, 55, 129, 536, 36, 733, 157, 139, 8, 450, 233, 2798, 602, 155, 1568, 6, 874, 161, 38, 475, 96, 1052, 579, 269, 298, 136, 983, 459, 195, 308, 834, 229, 1010, 253, 35, 741, 677, 64, 283, 1094, 514, 258, 1492, 415, 274, 204, 643, 39, 2762, 1, 53, 437, 404, 136, 394, 374, 44, 242, 669, 312, 104, 58, 821, 767, 2218, 722, 569, 348, 198, 210, 3218, 63, 1577, 105, 500, 307, 14, 1537, 334, 953, 271, 66, 249, 552, 314, 130, 171, 198, 363, 2897, 349, 374, 8, 443, 1020, 43, 211, 552, 679, 853, 159, 1070, 36, 103, 560, 347, 107, 286, 623, 206, 791, 49, 371, 62, 213, 1517, 695, 302, 113, 575, 786, 159, 595, 1543, 41, 10, 82, 220, 517, 200, 8, 32, 1132, 158, 98, 460, 68, 303, 236, 128, 34, 33, 1186, 149, 912, 1829, 331, 656, 17, 554, 359, 1088, 443, 477, 73, 133, 232, 23, 389, 602, 517, 323, 194, 172, 23, 49, 63, 82, 516, 387, 342, 39, 942, 414, 800, 736, 109, 899, 677, 182, 99, 38, 58, 92, 25, 491, 453, 210, 63, 191, 82, 19, 691, 19, 386, 133, 313, 20, 31, 191, 245, 322, 43, 35, 9, 51, 530, 17, 613, 250, 183, 261, 114, 313, 1444, 391, 547, 577, 661, 123, 9, 56, 45, 17, 206, 911, 732, 64, 222, 18, 330, 498, 429, 152, 2165, 1038, 295, 764, 219, 2, 95, 356, 133, 218, 1467, 582, 1324, 2763, 1527, 65, 219, 706, 2769, 264, 116, 227, 163, 505, 110, 44, 181, 193, 22, 116, 688, 32, 521, 677, 167, 142, 301, 237, 1552, 33, 245, 32, 105, 104, 194, 558, 205, 31, 295, 22, 844, 313, 753, 241, 516, 600, 157, 376, 235, 1721, 541, 461, 181, 238, 257, 402, 214, 213, 1959, 35, 210, 271, 610, 558, 83, 190, 489, 380, 358, 1476, 960, 782, 149, 263, 1088, 2, 305, 161, 345, 446, 146, 54, 59, 25, 335, 138, 122, 717, 110, 270, 1351, 77, 192, 747, 68, 304, 1058, 249, 249, 448, 371, 8, 475, 2864, 595, 221, 15, 7, 281, 25, 31, 52, 762, 38, 45, 141, 49, 180, 34, 184, 319, 370, 216, 1053, 666, 374, 184, 69, 2012, 253, 272, 238, 1488, 468, 79, 856, 1138, 179, 2008, 76, 194, 815, 855, 106, 178, 162, 50, 582, 535, 171, 520, 224, 25, 1617, 2053, 904, 40, 14, 772, 339, 204, 377, 1182, 1265, 116, 912, 90, 414, 679, 5, 335, 492, 18, 1487, 281, 54, 361, 331, 294, 322, 197, 795, 677, 91, 817, 4, 385, 565, 19, 1902, 618, 97, 78, 179, 38, 235, 160, 388, 9, 33, 105, 34, 717, 7, 376, 75, 340, 226, 894, 13, 1120, 76, 158, 1438, 1533, 387, 966, 125, 197, 20, 162, 36, 1277, 318, 329, 617, 880, 11, 62, 138, 547, 23, 455, 1153, 540, 1452, 613, 565, 2, 924, 258, 339, 27, 453, 52, 73, 141, 313, 135, 866, 20, 356, 462, 866, 2649, 1147, 4, 228, 247, 2627, 391, 49, 310, 475, 1152, 358, 644, 71, 589, 658, 65, 216, 136, 145, 339, 383, 11, 62, 31, 601, 1045, 1209, 593, 1350, 694, 187, 20, 5, 50, 650, 802, 316, 63, 14, 668, 68, 479, 1103, 792, 517, 583, 121, 498, 38, 1140, 482, 97, 6, 384, 99, 666, 105, 332, 2, 819, 159, 677, 484, 49, 829, 936, 1259, 363, 239, 100, 926, 119, 215, 73, 576, 3323, 306, 994, 417, 83, 321, 517, 360, 766, 200, 143, 164, 241, 713, 638, 171, 1, 485, 911, 42, 864, 397, 28, 647, 663, 199, 10, 116, 1158, 29, 102, 598, 781, 211, 914, 397, 167, 103, 297, 77, 29, 16, 671, 592, 144, 114, 1248, 206, 631, 3371, 2807, 587, 114, 194, 546, 82, 459, 378, 77, 1125, 219, 1033, 33, 164, 1115, 1234, 139, 155, 235, 159, 228, 526, 181, 129, 32, 103, 103, 275, 961, 54, 86, 362, 320, 144, 405, 200, 721, 185, 3041, 713, 1039, 67, 1757, 415, 731, 603, 382, 18, 90, 22, 621, 837, 254, 860, 52, 346, 561, 36, 841, 28, 228, 337, 700, 241, 293, 725, 1473, 31, 72, 554, 1225, 40, 653, 197, 83, 18, 422, 166, 399, 752, 943, 100, 695, 103, 204, 989, 23, 254, 817, 691, 653, 217, 136, 234, 1327, 93, 232, 3168, 111, 551, 87, 510, 285, 187, 496, 99, 328, 182, 371, 427, 295, 1545, 347, 2, 895, 33, 622, 403, 231, 307, 797, 533, 154, 3738, 285, 621, 2115, 99, 595, 484, 1348, 91, 591, 2, 235, 684, 45, 244, 857, 301, 137, 899, 682, 15, 104, 406, 561, 51, 297, 781, 185, 571, 1087, 39, 31, 108, 985, 389, 189, 61, 66, 45, 885, 757, 55, 55, 91, 106, 641, 261, 121, 211, 246, 287, 10, 169, 214, 264, 756, 367, 812, 199, 343, 4, 242, 632, 781, 6, 817, 423, 152, 354, 723, 149, 83, 6, 45, 255, 206, 174, 39, 309, 158, 774, 622, 65, 916, 225, 70, 715, 183, 61, 211, 121, 790, 985, 123, 32, 334, 49, 296, 50, 4, 22, 197, 101, 476, 353, 276, 407, 497, 72, 44, 301, 58, 322, 43, 331, 958, 603, 570, 36, 286, 1127, 181, 313, 176, 443, 13, 2430, 1942, 63, 339, 189, 16, 367, 638, 26, 386, 355, 207, 182, 216, 30, 3, 1658, 441, 79, 71, 288, 1, 242, 74, 20, 312, 602, 962, 111, 205, 155, 125, 586, 207, 55, 13, 927, 432, 577, 321, 1634, 749, 230, 214, 1508, 39, 1626, 1042, 420, 705, 269, 155, 1592, 128, 1181, 134, 146, 35, 792, 608, 319, 387, 25, 715, 366, 771, 356, 61, 1210, 36, 19, 290, 33, 153, 41, 648, 222, 481, 70, 870, 545, 367, 106, 204, 552, 463, 537, 52, 1328, 520, 869, 9, 1467, 134, 319, 345, 55, 427, 217, 371, 737, 16, 187, 771, 1376, 31, 464, 1513, 380, 160, 271, 6, 133, 18, 969, 270, 118, 632, 381, 59, 6, 552, 342, 68, 79, 38, 2082, 30, 185, 357, 1053, 702, 1, 2231, 1347, 239, 252, 403, 353, 375, 1578, 15, 59, 357, 457, 1397, 176, 104, 25, 79, 32, 23, 304, 32, 284, 197, 67, 170, 415, 246, 412, 1354, 293, 9, 205, 122, 58, 233, 210, 1094, 732, 87, 128, 27, 695, 360, 636, 323, 287, 154, 217, 22, 118, 591, 23, 802, 296, 518, 20, 55, 203, 84, 15, 197, 2364, 72, 461, 49, 330, 31, 345, 243, 6, 326, 212, 42, 275, 369, 252, 160, 183, 225, 573, 1556, 162, 26, 59, 310, 97, 137, 1188, 420, 1138, 90, 1141, 236, 366, 1245, 710, 287, 761, 337, 90, 969, 238, 51, 688, 170, 195, 7, 253, 71, 1528, 1057, 129, 599, 132, 119, 348, 534, 144, 108, 384, 190, 276, 286, 122, 338, 1519, 258, 219, 684, 2572, 378, 343, 1167, 252, 140, 348, 406, 645, 875, 68, 382, 155, 351, 26, 51, 80, 230, 33, 447, 926, 1251, 187, 83, 383, 29, 637, 562, 51, 19, 1050, 56, 341, 774, 25, 183, 116, 191, 97, 477, 345, 355, 294, 354, 278, 29, 347, 1412, 831, 82, 30, 304, 110, 12, 300, 57, 371, 1521, 378, 418, 441, 141, 333, 608, 343, 59, 900, 375, 387, 796, 132, 109, 445, 949, 185, 11, 1373, 308, 170, 889, 241, 225, 49, 706, 618, 371, 3155, 713, 12, 752, 257, 124, 453, 9, 808, 1204, 2, 553, 87, 157, 668, 855, 299, 11, 742, 146, 1117, 103, 21, 207, 127, 3194, 563, 415, 8, 248, 263, 130, 689, 354, 605, 365, 652, 316, 418, 115, 326, 56, 765, 22, 448, 148, 179, 867, 3, 39, 150, 455, 304, 108, 258, 529, 656, 368, 313, 34, 421, 369, 2737, 555, 69, 594, 658, 61, 66, 482, 95, 26, 1116, 594, 825, 486, 202, 36, 304, 281, 566, 4, 532, 140, 541, 493, 105, 452, 1234, 137, 1074, 833, 2423, 1167, 488, 329, 36, 553, 150, 524, 57, 26, 198, 49, 500, 500, 41, 411, 641, 29, 15, 538, 285, 117, 6, 332, 50, 820, 138, 649, 314, 1282, 759, 44, 485, 186, 170, 213, 218, 172, 534, 828, 170, 540, 348, 233, 396, 997, 23, 997, 7, 446, 75, 209, 272, 237, 9, 537, 12, 290, 200, 373, 899, 268, 555, 455, 12, 81, 203, 322, 1170, 275, 402, 459, 707, 460, 582, 157, 45, 167, 600, 243, 1033, 278, 477, 15, 767, 145, 516, 798, 263, 378, 663, 90, 163, 251, 227, 463, 826, 631, 8, 290, 12, 169, 93, 1248, 439, 309, 227, 884, 449, 67, 326, 282, 1581, 12, 750, 234, 142, 176, 162, 336, 224, 41, 106, 1594, 624, 814, 58, 2166, 686, 909, 623, 443, 117, 626, 254, 761, 229, 820, 6, 127, 2237, 131, 84, 642, 367, 73, 207, 237, 442, 7, 33, 919, 100, 443, 99, 92, 437, 532, 367, 372, 165, 45, 718, 10, 293, 375, 1386, 217, 174, 253, 277, 663, 139, 62, 100, 888, 510, 980, 221, 477, 239, 873, 430, 298, 177, 750, 231, 642, 12, 1072, 172, 35, 126, 142, 2, 159, 1582, 18, 323, 172, 902, 742, 10, 341, 149, 1568, 10, 426, 378, 243, 1215, 676, 855, 268, 525, 125, 15, 225, 48, 140, 46, 166, 285, 811, 224, 1268, 342, 318, 1930, 421, 439, 379, 261, 308, 62, 82, 285, 74, 600, 1186, 548, 556, 268, 774, 465, 1619, 567, 57, 556, 212, 124, 10, 475, 1285, 1021, 100, 7, 304, 263, 482, 208, 740, 446, 572, 328, 210, 980, 50, 375, 1787, 22, 206, 44, 834, 25, 74, 173, 182, 581, 404, 1530, 181, 155, 1000, 49, 546, 31, 445, 97, 273, 596, 975, 268, 460, 9, 350, 299, 817, 333, 566, 1360, 59, 449, 747, 40, 479, 349, 154, 551, 52, 497, 415, 64, 328, 13, 252, 512, 190, 152, 54, 1972, 21, 625, 478, 155, 801, 43, 250, 277, 217, 321, 211, 1518, 277, 268, 21, 273, 301, 845, 314, 194, 864, 354, 37, 857, 1739, 153, 183, 575, 186, 2, 186, 32, 6, 533, 287, 934, 1579, 410, 208, 403, 172, 2950, 451, 250, 935, 119, 598, 467, 212, 822, 36, 206, 143, 882, 797, 968, 465, 285, 580, 31, 732, 34, 24, 135, 458, 345, 601, 38, 521, 97, 335, 1830, 495, 577, 202, 16, 526, 28, 604, 127, 427, 29, 506, 802, 200, 15, 1460, 532, 269, 463, 334, 475, 233, 160, 809, 887, 38, 251, 175, 132, 186, 39, 448, 625, 629, 421, 335, 206, 852, 364, 63, 274, 716, 962, 2767, 21, 232, 441, 315, 44, 442, 108, 599, 458, 120, 1104, 259, 390, 11, 538, 254, 542, 218, 721, 61, 289, 1591, 466, 22, 61, 2055, 1592, 797, 993, 2639, 154, 311, 2, 913, 1093, 243, 115, 740, 697, 232, 211, 211, 260, 76, 485, 3275, 211, 401, 564, 100, 219, 23, 1336, 409, 1601, 325, 37, 17, 963, 56, 1010, 205, 52, 746, 1243, 143, 516, 75, 144, 41, 127, 2105, 109, 146, 1105, 246, 229, 288, 1547, 6, 40, 44, 153, 464, 12, 803, 128, 16, 1062, 39, 236, 938, 746, 96, 160, 499, 358, 311, 92, 323, 576, 761, 766, 12, 331, 200, 902, 310, 870, 1544, 512, 3, 144, 443, 1327, 316, 306, 344, 383, 295, 239, 312, 1556, 117, 1443, 591, 660, 136, 693, 839, 176, 711, 1721, 417, 26, 373, 372, 651, 2, 489, 500, 125, 391, 1268, 423, 207, 1278, 996, 452, 173, 64, 267, 127, 171, 391, 6, 46, 602, 1401, 413, 995, 57, 288, 362, 293, 288, 255, 18, 481, 160, 1046, 194, 359, 589, 87, 26, 186, 923, 1233, 2, 1220, 197, 1189, 890, 867, 667, 82, 420, 357, 145, 4, 839, 814, 111, 224, 1777, 130, 11, 20, 144, 684, 687, 542, 450, 353, 7, 590, 540, 291, 1624, 475, 867, 521, 424, 426, 319, 825, 423, 761, 231, 447, 19, 424, 227, 154, 87, 460, 287, 68, 29, 12, 73, 186, 817, 207, 531, 20, 279, 462, 542, 34, 399, 1946, 567, 266, 324, 581, 163, 29, 500, 2069, 186, 30, 100, 305, 1447, 624, 614, 485, 366, 403, 936, 238, 2534, 352, 190, 11, 161, 190, 557, 1262, 455, 347, 1701, 319, 326, 399, 2062, 355, 2183, 328, 155, 64, 356, 1657, 287, 463, 217, 676, 378, 513, 185, 9, 8, 1793, 72, 443, 859, 287, 835, 536, 476, 76, 557, 946, 982, 722, 68, 276, 255, 3333, 138, 130, 215, 410, 738, 450, 6, 126, 446, 429, 367, 233, 113, 19, 432, 93, 2321, 1181, 192, 125, 709, 1600, 390, 142, 936, 28, 679, 602, 175, 404, 77, 428, 442, 42, 747, 10, 181, 704, 351, 226, 48, 329, 325, 439, 8, 1294, 324, 27, 401, 23, 328, 656, 1264, 433, 738, 121, 352, 215, 185, 292, 129, 17, 374, 517, 91, 464, 190, 1493, 220, 919, 174, 185, 262, 505, 3068, 451, 298, 458, 364, 4, 1737, 1012, 83, 983, 247, 498, 46, 1594, 185, 97, 517, 745, 330, 268, 24, 50, 163, 474, 960, 53, 424, 715, 149, 1682, 250, 207, 960, 395, 149, 889, 371, 103, 898, 349, 695, 1285, 826, 756, 1235, 195, 326, 732, 571, 167, 2, 101, 73, 389, 141, 239, 844, 966, 835, 1049, 1030, 135, 89, 1056, 2, 480, 910, 311, 182, 105, 241, 473, 178, 208, 154, 940, 116, 3, 300, 307, 277, 507, 10, 76, 243, 2066, 824, 268, 499, 204, 294, 1454, 569, 22, 504, 435, 4, 231, 228, 429, 956, 756, 1604, 619, 240, 3, 1469, 1, 6, 1184, 757, 10, 35, 583, 39, 119, 1488, 1093, 102, 301, 522, 1128, 232, 705, 117, 338, 1096, 190, 314, 1605, 1067, 32, 80, 259, 28, 36, 257, 218, 78, 366, 168, 30, 84, 121, 1063, 561, 2073, 572, 270, 1453, 864, 1314, 229, 102, 169, 283, 547, 661, 1648, 390, 653, 2, 53, 987, 896, 586, 339, 253, 92, 929, 579, 29, 1155, 382, 1573, 10, 827, 449, 53, 215, 445, 469, 584, 304, 927, 292, 117, 1182, 901, 396, 34, 387, 355, 1029, 771, 149, 1427, 209, 323, 5, 1581, 75, 173, 270, 235, 92, 288, 74, 31, 1018, 318, 114, 339, 143, 593, 227, 1414, 575, 1779, 723, 13, 1256, 858, 1202, 148, 376, 590, 39, 122, 19, 62, 512, 3, 2066, 380, 195, 2893, 678, 2541, 158, 263, 540, 833, 748, 209, 1641, 998, 1003, 1299, 1077, 427, 1272, 159, 453, 1280, 239, 1349, 195, 873, 929, 704, 196, 38, 380, 1664, 391, 1530, 427, 1179, 249, 1329, 306, 17, 920, 249, 922, 723, 487, 41, 1058, 1127, 695, 1333, 805, 487, 3295, 1133, 142, 263, 1110, 161, 666, 915, 62, 1, 1276, 987, 245, 605, 371, 390, 803, 383, 1657, 2357, 1023, 41, 431, 40, 38, 36, 476, 1665, 575, 640, 1041, 3024, 916, 9, 392, 867, 3383, 1034, 32, 973, 825, 865, 753, 833, 10, 1782, 720, 673, 715, 522, 689, 327, 3519, 564, 455, 843, 707, 433, 33, 514, 349, 831, 1508, 35, 1100, 125, 1777, 472, 30, 1, 524, 726, 920, 2944, 865, 1397, 833, 42, 914, 42, 1489, 1063, 823, 65, 381, 339, 248, 275, 518, 547, 1075, 371, 3, 930, 202, 1604, 1115, 33, 827, 504, 243, 864, 1508, 1247, 508, 4, 924, 446, 630, 35, 2317, 816, 13, 3, 435, 1778, 396, 469, 212, 1697, 42, 143, 675, 408, 232, 434, 262, 2507, 928, 637, 3, 2125, 1081, 3, 1547, 544, 1620, 971, 811, 3060, 1509, 3027, 939, 1099, 4, 1311, 3, 7, 1073, 7, 199, 37, 106, 1872, 4995, 4, 600, 824, 5, 340, 994, 998, 223, 27, 43, 359, 2747, 1730, 4219, 2, 848, 1614, 2366, 989, 904, 44, 383, 186, 366, 183, 2968, 233, 1, 588, 7, 1, 4, 1115, 6, 204, 112, 3472, 898, 3, 4, 1075, 924, 2141, 212, 5, 1112, 2475, 6, 578, 91, 720, 5, 122, 1508, 5, 310, 1789, 2923, 696, 1938, 1717, 5, 925, 1, 413, 3011, 37, 408, 426, 6, 341, 733, 1148, 870, 1376, 1081, 2846, 3774, 1468, 3417, 723, 2068, 2556, 6, 540, 420, 288, 6, 345, 6, 6, 424, 225, 9, 392, 10, 7, 8, 534, 947, 613, 1029, 6, 843, 230, 7, 4, 1330, 393, 4, 4233, 7, 6, 4348, 52, 1597, 446, 928, 107, 34, 593, 818, 41, 928, 5, 1748, 3008, 119, 489, 229, 47, 858, 2, 8, 2, 1510, 1517, 720, 290, 2714, 556, 54, 673, 807, 778, 499, 4, 5, 3, 1, 461, 422, 323, 88, 241, 1355, 50, 11, 3651, 7, 37, 6, 7, 10, 4, 236, 6, 124, 46, 552, 7, 407, 1940, 598, 872, 377, 4, 393, 1613, 831, 12, 8, 851, 5, 22, 8, 8, 2520, 310, 852, 10, 2, 10, 3088, 128, 8, 9, 5, 4, 873, 230, 214, 267, 326, 10, 228, 239, 843, 9, 8, 9, 27, 1114, 46, 636, 525, 1383, 1, 47, 8, 311, 13, 11, 107, 4, 524, 402, 285, 630, 11, 364, 7, 5, 48, 7, 29, 836, 1610, 553, 8, 391, 661, 132, 935, 674, 20, 1915, 7, 883, 502, 6, 961, 8, 11, 680, 1728, 381, 12, 13, 7, 9, 1289, 5, 180, 254, 639, 113, 7, 906, 10, 6, 1043, 147, 108, 740, 235, 210, 304, 690, 14, 943, 102, 1623, 14, 727, 14, 283, 36, 8, 6, 684, 208, 192, 115, 512, 4, 15, 828, 113, 10, 14, 740, 1800, 232, 6, 324, 41, 344, 42, 287, 317, 656, 119, 839, 15, 69, 115, 60, 70, 1, 5, 307, 1523, 356, 720, 12, 8, 48, 1390, 3, 37, 789, 49, 185, 1887, 651, 889, 3563, 97, 5, 112, 606, 669, 67, 37, 6, 156, 216, 2, 1315, 1755, 3150, 376, 322, 17, 1623, 1067, 6, 3, 561, 437, 13, 77, 132, 980, 517, 1664, 331, 1088, 15, 466, 1392, 557, 3041, 318, 1356, 17, 11, 1819, 8, 2271, 18, 15, 1760, 882, 939, 17, 19, 18, 14, 318, 919, 1379, 306, 62, 1116, 11, 1188, 16, 14, 202, 3422, 21, 6, 919, 769, 168, 63, 175, 232, 1111, 73, 229, 12, 1804, 918, 40, 894, 532, 55, 212, 1238, 1047, 21, 830, 304, 450, 853, 1170, 261, 231, 855, 1392, 672, 1361, 124, 21, 15, 17, 844, 17, 301, 1108, 18, 412, 177, 308, 17, 15, 122, 59, 22, 145, 227, 359, 954, 23, 31, 399, 171, 362, 227, 156, 968, 9, 9, 1780, 24, 22, 303, 729, 11, 17, 17, 26, 12, 731, 339, 599, 23, 380, 16, 520, 1054, 2, 116, 22, 1890, 335, 57, 905, 25, 719, 690, 11, 21, 17, 12, 13, 11, 439, 10, 551, 1359, 442, 20, 16, 3229, 3588, 12, 187, 62, 49, 587, 39, 2576, 60, 115, 582, 11, 14, 16, 1427, 3460, 25, 446, 60, 433, 1292, 1025, 322, 6, 373, 493, 3569, 22, 2213, 2867, 65, 3, 2, 20, 3049, 732, 514, 19, 414, 735, 748, 2944, 203, 33, 397, 277, 3015, 377, 1174, 868, 1, 2829, 27, 26, 187, 20, 15, 9, 1086, 258, 967, 21, 550, 225, 4, 51, 43, 24, 12, 1747, 199, 25, 467, 1212, 484, 532, 955, 517, 16, 6, 1244, 14, 126, 7, 227, 9, 40, 388, 584, 125, 2611, 158, 1023, 300, 75, 4, 23, 3576, 28, 642, 523, 36, 534, 680, 2676, 10, 234, 523, 102, 717, 4, 27, 28, 600, 21, 57, 3, 518, 29, 329, 75, 176, 42, 345, 1626, 7, 333, 1682, 336, 1291, 24, 15, 873, 407, 441, 30, 746, 463, 28, 25, 515, 985, 851, 633, 218, 593, 195, 111, 1509, 362, 27, 2945, 531, 216, 27, 451, 184, 25, 490, 948, 1827, 1119, 28, 26, 17, 747, 1743, 238, 429, 622, 17, 28, 21, 21, 96, 29, 108, 68, 288, 560, 142, 415, 28, 30, 1118, 1293, 34, 119, 266, 478, 281, 1697, 1059, 23, 533, 14, 1608, 115, 427, 8, 3577, 70, 16, 226, 533, 911, 299, 750, 5, 306, 238, 2, 128, 187, 210, 1298, 831, 29, 16, 16, 533, 262, 1339, 390, 65, 199, 4062, 256, 567, 28, 431, 89, 17, 1187, 314, 29, 34, 28, 21, 769, 32, 70, 151, 281, 773, 21, 3379, 709, 1684, 398, 1655, 604, 154, 470, 75, 1045, 108, 425, 1311, 333, 703, 81, 947, 74, 15, 43, 88, 1489, 32, 3374, 716, 770, 29, 20, 900, 123, 62, 408, 9, 445, 115, 441, 2975, 59, 24, 521, 1657, 975, 1273, 30, 125, 734, 161, 414, 246, 563, 106, 1572, 577, 32, 135, 1666, 16, 276, 1138, 448, 37, 1530, 1341, 451, 1, 4, 1227, 46, 479, 395, 69, 109, 211, 646, 16, 1327, 16, 3247, 455, 378, 49, 5, 969, 77, 1300, 1313, 1, 1217, 551, 58, 1444, 728, 300, 27, 432, 1008, 299, 212, 893, 1011, 26, 27, 100, 1036, 41, 47, 163, 609, 1528, 346, 141, 1160, 723, 2053, 321, 471, 820, 121, 484, 50, 94, 328, 179, 1319, 864, 435, 50, 477, 130, 8, 453, 8, 297, 308, 37, 7, 215, 12, 779, 35, 352, 3414, 81, 841, 276, 263, 50, 482, 826, 252, 612, 187, 264, 457, 260, 218, 583, 233, 900, 2882, 48, 408, 1340, 931, 3, 1246, 491, 148, 55, 201, 761, 57, 24, 190, 1654, 632, 1163, 418, 176, 3654, 49, 256, 133, 209, 213, 47, 443, 308, 650, 196, 906, 180, 730, 322, 59, 61, 877, 14, 467, 1452, 4, 624, 33, 311, 166, 456, 189, 182, 1, 181, 5804, 192, 128, 347, 715, 33, 157, 155, 511, 558, 708, 292, 572, 435, 644, 46, 513, 21, 373, 261, 707, 224, 928, 912, 9, 299, 968, 1356, 308, 751, 295, 151, 242, 51, 580, 70, 465, 2355, 1218, 200, 112, 159, 50, 1181, 140, 259, 596, 2536, 584, 666, 3, 2895, 1326, 32, 265, 14, 39, 185, 1618, 609, 396, 68, 137, 416, 22, 506, 834, 936, 1, 468, 452, 512, 74, 958, 537, 621, 414, 592, 1081, 1440, 107, 1246, 105, 282, 170, 1326, 368, 482, 2776, 553, 18, 53, 308, 425, 39, 410, 916, 623, 217, 1206, 625, 678, 217, 504, 158, 69, 185, 339, 298, 40, 1281, 240, 635, 26, 189, 286, 6, 476, 49, 395, 250, 102, 1675, 956, 106, 3404, 30, 49, 535, 103, 63, 126, 287, 386, 114, 3372, 660, 776, 999, 187, 2321, 721, 92, 452, 3306, 634, 402, 633, 150, 1041, 644, 435, 997, 102, 982, 25, 1046, 936, 2, 61, 1805, 510, 1698, 452, 1420, 701, 466, 366, 402, 94, 947, 1143, 373, 390, 489, 274, 162, 87, 464, 808, 1042, 6, 648, 994, 22, 12, 1050, 56, 593, 252, 184, 1152, 836, 2851, 264, 498, 867, 1338, 188, 232, 602, 470, 248, 23, 983, 563, 51, 125, 715, 78, 1828, 63, 269, 1116, 1021, 219, 8, 62, 74, 420, 388, 62, 1094, 541, 3496, 60, 62, 340, 1015, 445, 498, 108, 1, 807, 3565, 553, 17, 289, 2404, 1514, 248, 925, 438, 103, 947, 460, 1242, 4894, 1552, 1393, 936, 735, 1385, 585, 355, 599, 62, 455, 5, 342, 677, 798, 430, 161, 853, 2273, 1924, 104, 421, 3, 96, 342, 619, 24, 440, 431, 1656, 458, 1216, 463, 211, 408, 132, 901, 197, 817, 38, 1671, 326, 401, 612, 522, 10, 302, 102, 34, 1178, 715, 762, 78, 1353, 737, 721, 400, 665, 50, 383, 544, 1785, 4, 98, 45, 1061, 862, 439, 336, 3463, 40, 239, 645, 336, 674, 9, 892, 443, 180, 1276, 269, 825, 333, 128, 441, 1429, 27, 1304, 21, 881, 96, 1308, 504, 1623, 1307, 884, 648, 243, 1280, 56, 345, 16, 97, 210, 409, 56, 1631, 543, 91, 3, 711, 291, 1788, 2374, 496, 76, 3, 243, 706, 827, 663, 97, 360, 146, 427, 362, 628, 1129, 1164, 1, 162, 572, 368, 146, 134, 359, 413, 815, 41, 2548, 2, 2142, 172, 330, 354, 1078, 314, 1633, 1522, 303, 442, 1626, 924, 892, 1244, 1699, 140, 136, 230, 759, 458, 193, 267, 654, 1015, 478, 687, 469, 295, 1027, 500, 693, 1227, 978, 164, 490, 25, 1071, 168, 597, 149, 18, 1315, 176, 559, 794, 1301, 2, 360, 493, 854, 836, 6, 779, 172, 888, 297, 447, 1086, 1169, 297, 17, 529, 501, 788, 1023, 1080, 981, 154, 982, 206, 866, 1790, 803, 150, 450, 3298, 327, 893, 310, 209, 849, 59, 424, 185, 1169, 420, 1540, 67, 10, 170, 1439, 1708, 190, 1179, 196, 25, 969, 124, 1042, 417, 1237, 562, 434, 347, 404, 999, 275, 181, 287, 30, 464, 51, 932, 805, 1106, 143, 748, 567, 797, 696, 102, 593, 1846, 538, 121, 900, 683, 25, 630, 1651, 1049, 58, 47, 1025, 50, 26, 2550, 151, 632, 79, 1065, 252, 1435, 3655, 23, 2666, 589, 417, 3, 781, 62, 275, 81, 97, 165, 1510, 477, 525, 455, 70, 691, 213, 319, 105, 103, 714, 53, 948, 84, 703, 1150, 121, 121, 76, 287, 724, 750, 1275, 211, 545, 2424, 121, 985, 944, 170, 181, 248, 66, 375, 540, 809, 262, 178, 432, 799, 1, 123, 336, 1483, 370, 258, 764, 236, 155, 1, 966, 628, 166, 257, 1339, 535, 113, 543, 1790, 276, 372, 385, 336, 635, 735, 1637, 1115, 2313, 104, 25, 174, 1112, 424, 213, 2699, 3227, 264, 945, 103, 1014, 341, 786, 1273, 744, 19, 708, 713, 137, 370, 238, 647, 791, 48, 1414, 353, 225, 4086, 17, 1318, 13, 1399, 1713, 8, 1398, 1075, 383, 502, 1927, 440, 1645, 167, 767, 88, 162, 669, 2, 681, 543, 854, 6, 535, 128, 114, 326, 464, 824, 657, 466, 35, 887, 178, 69, 657, 152, 266, 752, 3, 640, 213, 1184, 89, 1222, 619, 1264, 107, 17, 1008, 1, 516, 309, 624, 169, 1516, 572, 138, 1497, 142, 196, 1125, 1459, 194, 254, 2337, 1210, 1484, 91, 1, 1037, 539, 187, 275, 2, 952, 275, 372, 476, 1735, 1601, 180, 1236, 1085, 95, 628, 204, 534, 912, 15, 566, 406, 755, 56, 487, 194, 12, 277, 1333, 1081, 89, 512, 231, 296, 60, 4, 59, 391, 119, 399, 578, 3, 668, 1302, 91, 231, 409, 832, 402, 664, 204, 2192, 924, 738, 807, 2030, 286, 103, 181, 921, 393, 1053, 167, 15, 381, 903, 649, 392, 521, 251, 1046, 752, 572, 348, 1062, 627, 1, 520, 829, 668, 26, 68, 1021, 526, 452, 102, 124, 330, 923, 1086, 146, 859, 952, 153, 407, 1450, 544, 398, 17, 518, 350, 1046, 310, 1314, 422, 197, 639, 1083, 135, 617, 368, 354, 45, 320, 394, 14, 2420, 2142, 879, 239, 84, 72, 67, 542, 874, 406, 923, 166, 2059, 13, 14, 3478, 642, 468, 683, 995, 461, 485, 792, 57, 394, 77, 892, 1296, 932, 584, 1275, 2, 302, 387, 242, 1257, 281, 307, 653, 855, 1355, 295, 738, 399, 365, 192, 355, 695, 138, 434, 652, 3777, 14, 67, 588, 752, 140, 363, 18, 356, 1311, 159, 152, 315, 168, 148, 42, 796, 83, 305, 90, 662, 1291, 370, 805, 1099, 246, 288, 5, 759, 145, 234, 385, 663, 238, 198, 555, 151, 622, 82, 323, 87, 2407, 959, 736, 1, 57, 356, 173, 470, 365, 178, 2658, 1096, 359, 309, 1075, 710, 711, 254, 1047, 29, 506, 664, 235, 921, 26, 604, 825, 588, 175, 499, 434, 184, 61, 34, 305, 1008, 589, 644, 402, 59, 244, 1036, 507, 1030, 19, 195, 187, 249, 504, 181, 599, 546, 290, 1445, 180, 60, 1408, 513, 295, 219, 187, 346, 428, 41, 475, 1, 1384, 678, 526, 744, 220, 346, 380, 958, 478, 884, 327, 18, 397, 1327, 288, 530, 849, 635, 693, 423, 76, 1285, 947, 64, 1288, 18, 401, 1165, 65, 94, 107, 226, 36, 126, 934, 38, 802, 14, 719, 545, 657, 18, 321, 552, 312, 1420, 194, 967, 1050, 811, 771, 1539, 1166, 938, 1472, 579, 605, 381, 371, 549, 442, 1571, 615, 417, 81, 534, 3, 692, 837, 1676, 141, 397, 2, 988, 855, 20, 646, 48, 340, 265, 168, 354, 16, 267, 708, 533, 555, 439, 85, 37, 1, 1157, 220, 207, 521, 423, 739, 389, 276, 672, 1519, 638, 196, 1172, 358, 475, 86, 502, 1339, 1157, 563, 1189, 626, 3860, 1128, 596, 110, 690, 525, 100, 435, 132, 717, 1339, 292, 252, 304, 601, 1, 275, 311, 1268, 722, 57, 361, 1082, 388, 486, 237, 795, 629, 778, 550, 1751, 945, 392, 569, 57, 1110, 692, 109, 812, 456, 131, 1167, 65, 368, 1197, 570, 1057, 779, 34, 829, 112, 507, 679, 361, 19, 936, 689, 164, 2191, 599, 1431, 633, 610, 919, 868, 362, 12, 1241, 560, 202, 667, 270, 1106, 750, 691, 1509, 395, 529, 553, 535, 389, 266, 837, 472, 764, 476, 1333, 859, 187, 367, 523, 731, 587, 1075, 478, 540, 553, 371, 1028, 680, 1707, 436, 252, 293, 153, 532, 345, 341, 55, 856, 9, 199, 169, 573, 48, 731, 453, 170, 307, 804, 1627, 2878, 610, 1208, 617, 580, 1208, 142, 1741, 26, 791, 75, 415, 157, 171, 1425, 150, 21, 782, 2386, 497, 972, 64, 205, 216, 382, 542, 1379, 141, 375, 537, 1028, 1387, 1964, 184, 891, 142, 1939, 99, 467, 169, 72, 4122, 668, 126, 9, 1451, 23, 223, 939, 1014, 582, 1852, 775, 481, 1290, 115, 289, 164, 265, 508, 179, 2493, 490, 1133, 265, 1175, 312, 68, 787, 423, 555, 644, 163, 33, 1487, 204, 710, 1174, 5, 1111, 7, 1138, 437, 3, 175, 449, 651, 460, 86, 68, 1506, 1410, 802, 657, 176, 1415, 406, 910, 659, 228, 427, 773, 531, 604, 1724, 697, 980, 603, 514, 666, 4, 924, 763, 659, 679, 317, 570, 736, 696, 344, 1915, 2072, 654, 1073, 2990, 398, 1883, 434, 236, 123, 827, 798, 1584, 810, 65, 73, 38, 128, 2107, 814, 2, 2276, 3488, 1318, 553, 649, 7, 391, 840, 172, 166, 1073, 974, 728, 282, 81, 30, 662, 209, 1589, 43, 597, 668, 264, 735, 111, 138, 533, 606, 1762, 98, 954, 271, 1201, 1077, 161, 2096, 1414, 845, 162, 1286, 719, 159, 300, 752, 84, 234, 604, 267, 870, 631, 356, 410, 1254, 629, 640, 160, 451, 516, 130, 791, 2042, 238, 37, 1890, 257, 4, 2843, 1073, 1696, 70, 825, 1318, 760, 895, 739, 399, 2390, 83, 83, 1143, 707, 893, 94, 99, 15, 1204, 850, 1831, 42, 1484, 510, 383, 508, 114, 1333, 255, 811, 46, 519, 88, 597, 393, 645, 576, 565, 76, 235, 956, 18, 515, 220, 289, 930, 517, 3848, 421, 1306, 543, 40, 1104, 71, 92, 3, 834, 10, 472, 440, 813, 462, 176, 1222, 39, 576, 483, 518, 746, 53, 587, 24, 107, 656, 1155, 398, 703, 349, 143, 1855, 595, 915, 16, 1068, 846, 935, 446, 15, 13, 519, 43, 1180, 689, 2559, 593, 1345, 252, 3, 260, 718, 58, 516, 148, 455, 401, 612, 448, 1136, 365, 60, 755, 266, 1035, 102, 23, 875, 593, 760, 731, 257, 13, 1385, 421, 251, 832, 1861, 787, 273, 3, 160, 742, 128, 587, 16, 406, 438, 609, 1037, 5, 160, 95, 1983, 21, 97, 260, 662, 42, 1369, 561, 1866, 19, 210, 812, 1637, 40, 351, 433, 225, 261, 917, 822, 499, 34, 454, 349, 116, 977, 243, 259, 299, 299, 666, 516, 269, 454, 737, 1116, 304, 596, 357, 241, 70, 1, 76, 559, 1283, 119, 741, 208, 1227, 1175, 882, 399, 159, 264, 456, 458, 692, 34, 9, 629, 10, 1100, 1315, 329, 1166, 388, 38, 582, 223, 1401, 1228, 689, 730, 613, 134, 208, 860, 848, 1022, 228, 2929, 723, 419, 247, 1051, 8, 632, 1935, 52, 861, 1180, 956, 1007, 123, 346, 659, 1556, 265, 494, 97, 90, 142, 218, 269, 260, 340, 60, 1311, 1, 286, 1618, 819, 873, 674, 1047, 476, 715, 594, 435, 688, 754, 292, 479, 988, 1180, 1000, 1893, 461, 37, 1065, 578, 320, 2, 699, 463, 1652, 164, 1348, 1126, 299, 1146, 898, 931, 2, 456, 255, 611, 1089, 1708, 849, 1035, 105, 119, 252, 184, 37, 938, 575, 1959, 1084, 648, 66, 419, 551, 537, 72, 1374, 358, 472, 1623, 163, 493, 2070, 38, 443, 23, 281, 503, 546, 1022, 442, 1857, 1160, 392, 63, 135, 1199, 1083, 4712, 274, 821, 757, 136, 725, 291, 1007, 116, 2212, 73, 251, 1238, 1262, 594, 998, 281, 490, 88, 478, 2502, 202, 120, 792, 385, 875, 270, 272, 275, 3298, 91, 555, 270, 19, 701, 406, 432, 1175, 910, 744, 3737, 78, 291, 479, 592, 386, 856, 1045, 145, 878, 23, 282, 1193, 91, 149, 1506, 603, 1293, 404, 101, 975, 405, 513, 1, 343, 356, 567, 298, 595, 845, 145, 34, 3, 107, 1206, 1024, 58, 553, 807, 492, 478, 1494, 44, 1234, 692, 1439, 1011, 328, 298, 468, 611, 275, 646, 301, 614, 122, 262, 579, 1395, 71, 169, 1024, 473, 1898, 485, 267, 690, 649, 1671, 484, 395, 9, 1352, 610, 118, 1124, 299, 54, 721, 314, 541, 574, 471, 3280, 110, 242, 56, 190, 32, 1152, 714, 1678, 792, 1976, 1544, 553, 45, 1216, 465, 474, 581, 1801, 828, 927, 104, 523, 87, 496, 373, 493, 275, 572, 713, 587, 179, 591, 1516, 127, 198, 925, 33, 306, 643, 748, 123, 1129, 468, 788, 64, 587, 270, 5120, 853, 662, 337, 1443, 913, 84, 610, 2031, 359, 126, 824, 58, 983, 689, 1305, 140, 492, 432, 818, 322, 973, 548, 357, 3789, 924, 1034, 116, 1147, 73, 1539, 842, 696, 1234, 731, 1583, 33, 162, 1319, 958, 809, 817, 278, 1317, 334, 417, 803, 862, 499, 462, 347, 1002, 735, 1641, 7, 297, 1214, 1233, 1273, 919, 583, 1336, 1873, 117, 1609, 190, 897, 1519, 141, 430, 54, 317, 277, 865, 731, 430, 1635, 77, 3, 233, 218, 1020, 390, 136, 989, 1609, 443, 2448, 464, 884, 323, 1449, 1219, 743, 775, 1340, 567, 44, 373, 341, 1697, 915, 811, 110, 689, 761, 182, 14, 201, 1597, 2888, 636, 336, 259, 1082, 990, 25, 1008, 29, 97, 201, 1383, 609, 524, 800, 908, 271, 2, 401, 477, 1728, 481, 286, 307, 829, 342, 346, 298, 886, 1341, 154, 81, 46, 480, 1675, 89, 921, 763, 593, 839, 2135, 1704, 331, 594, 2267, 894, 435, 996, 1182, 56, 184, 1770], \"x0\": \" \", \"xaxis\": \"x\", \"y0\": \" \", \"yaxis\": \"y\"}],\n",
              "                        {\"boxmode\": \"group\", \"legend\": {\"tracegroupgap\": 0}, \"margin\": {\"t\": 60}, \"template\": {\"data\": {\"bar\": [{\"error_x\": {\"color\": \"#2a3f5f\"}, \"error_y\": {\"color\": \"#2a3f5f\"}, \"marker\": {\"line\": {\"color\": \"#E5ECF6\", \"width\": 0.5}}, \"type\": \"bar\"}], \"barpolar\": [{\"marker\": {\"line\": {\"color\": \"#E5ECF6\", \"width\": 0.5}}, \"type\": \"barpolar\"}], \"carpet\": [{\"aaxis\": {\"endlinecolor\": \"#2a3f5f\", \"gridcolor\": \"white\", \"linecolor\": \"white\", \"minorgridcolor\": \"white\", \"startlinecolor\": \"#2a3f5f\"}, \"baxis\": {\"endlinecolor\": \"#2a3f5f\", \"gridcolor\": \"white\", \"linecolor\": \"white\", \"minorgridcolor\": \"white\", \"startlinecolor\": \"#2a3f5f\"}, \"type\": \"carpet\"}], \"choropleth\": [{\"colorbar\": {\"outlinewidth\": 0, \"ticks\": \"\"}, \"type\": \"choropleth\"}], \"contour\": [{\"colorbar\": {\"outlinewidth\": 0, \"ticks\": \"\"}, \"colorscale\": [[0.0, \"#0d0887\"], [0.1111111111111111, \"#46039f\"], [0.2222222222222222, \"#7201a8\"], [0.3333333333333333, \"#9c179e\"], [0.4444444444444444, \"#bd3786\"], [0.5555555555555556, \"#d8576b\"], [0.6666666666666666, \"#ed7953\"], [0.7777777777777778, \"#fb9f3a\"], [0.8888888888888888, \"#fdca26\"], [1.0, \"#f0f921\"]], \"type\": \"contour\"}], \"contourcarpet\": [{\"colorbar\": {\"outlinewidth\": 0, \"ticks\": \"\"}, \"type\": \"contourcarpet\"}], \"heatmap\": [{\"colorbar\": {\"outlinewidth\": 0, \"ticks\": \"\"}, \"colorscale\": [[0.0, \"#0d0887\"], [0.1111111111111111, \"#46039f\"], [0.2222222222222222, \"#7201a8\"], [0.3333333333333333, \"#9c179e\"], [0.4444444444444444, \"#bd3786\"], [0.5555555555555556, \"#d8576b\"], [0.6666666666666666, \"#ed7953\"], [0.7777777777777778, \"#fb9f3a\"], [0.8888888888888888, \"#fdca26\"], [1.0, \"#f0f921\"]], \"type\": \"heatmap\"}], \"heatmapgl\": [{\"colorbar\": {\"outlinewidth\": 0, \"ticks\": \"\"}, \"colorscale\": [[0.0, \"#0d0887\"], [0.1111111111111111, \"#46039f\"], [0.2222222222222222, \"#7201a8\"], [0.3333333333333333, \"#9c179e\"], [0.4444444444444444, \"#bd3786\"], [0.5555555555555556, \"#d8576b\"], [0.6666666666666666, \"#ed7953\"], [0.7777777777777778, \"#fb9f3a\"], [0.8888888888888888, \"#fdca26\"], [1.0, \"#f0f921\"]], \"type\": \"heatmapgl\"}], \"histogram\": [{\"marker\": {\"colorbar\": {\"outlinewidth\": 0, \"ticks\": \"\"}}, \"type\": \"histogram\"}], \"histogram2d\": [{\"colorbar\": {\"outlinewidth\": 0, \"ticks\": \"\"}, \"colorscale\": [[0.0, \"#0d0887\"], [0.1111111111111111, \"#46039f\"], [0.2222222222222222, \"#7201a8\"], [0.3333333333333333, \"#9c179e\"], [0.4444444444444444, \"#bd3786\"], [0.5555555555555556, \"#d8576b\"], [0.6666666666666666, \"#ed7953\"], [0.7777777777777778, \"#fb9f3a\"], [0.8888888888888888, \"#fdca26\"], [1.0, \"#f0f921\"]], \"type\": \"histogram2d\"}], \"histogram2dcontour\": [{\"colorbar\": {\"outlinewidth\": 0, \"ticks\": \"\"}, \"colorscale\": [[0.0, \"#0d0887\"], [0.1111111111111111, \"#46039f\"], [0.2222222222222222, \"#7201a8\"], [0.3333333333333333, \"#9c179e\"], [0.4444444444444444, \"#bd3786\"], [0.5555555555555556, \"#d8576b\"], [0.6666666666666666, \"#ed7953\"], [0.7777777777777778, \"#fb9f3a\"], [0.8888888888888888, \"#fdca26\"], [1.0, \"#f0f921\"]], \"type\": \"histogram2dcontour\"}], \"mesh3d\": [{\"colorbar\": {\"outlinewidth\": 0, \"ticks\": \"\"}, \"type\": \"mesh3d\"}], \"parcoords\": [{\"line\": {\"colorbar\": {\"outlinewidth\": 0, \"ticks\": \"\"}}, \"type\": \"parcoords\"}], \"pie\": [{\"automargin\": true, \"type\": \"pie\"}], \"scatter\": [{\"marker\": {\"colorbar\": {\"outlinewidth\": 0, \"ticks\": \"\"}}, \"type\": \"scatter\"}], \"scatter3d\": [{\"line\": {\"colorbar\": {\"outlinewidth\": 0, \"ticks\": \"\"}}, \"marker\": {\"colorbar\": {\"outlinewidth\": 0, \"ticks\": \"\"}}, \"type\": \"scatter3d\"}], \"scattercarpet\": [{\"marker\": {\"colorbar\": {\"outlinewidth\": 0, \"ticks\": \"\"}}, \"type\": \"scattercarpet\"}], \"scattergeo\": [{\"marker\": {\"colorbar\": {\"outlinewidth\": 0, \"ticks\": \"\"}}, \"type\": \"scattergeo\"}], \"scattergl\": [{\"marker\": {\"colorbar\": {\"outlinewidth\": 0, \"ticks\": \"\"}}, \"type\": \"scattergl\"}], \"scattermapbox\": [{\"marker\": {\"colorbar\": {\"outlinewidth\": 0, \"ticks\": \"\"}}, \"type\": \"scattermapbox\"}], \"scatterpolar\": [{\"marker\": {\"colorbar\": {\"outlinewidth\": 0, \"ticks\": \"\"}}, \"type\": \"scatterpolar\"}], \"scatterpolargl\": [{\"marker\": {\"colorbar\": {\"outlinewidth\": 0, \"ticks\": \"\"}}, \"type\": \"scatterpolargl\"}], \"scatterternary\": [{\"marker\": {\"colorbar\": {\"outlinewidth\": 0, \"ticks\": \"\"}}, \"type\": \"scatterternary\"}], \"surface\": [{\"colorbar\": {\"outlinewidth\": 0, \"ticks\": \"\"}, \"colorscale\": [[0.0, \"#0d0887\"], [0.1111111111111111, \"#46039f\"], [0.2222222222222222, \"#7201a8\"], [0.3333333333333333, \"#9c179e\"], [0.4444444444444444, \"#bd3786\"], [0.5555555555555556, \"#d8576b\"], [0.6666666666666666, \"#ed7953\"], [0.7777777777777778, \"#fb9f3a\"], [0.8888888888888888, \"#fdca26\"], [1.0, \"#f0f921\"]], \"type\": \"surface\"}], \"table\": [{\"cells\": {\"fill\": {\"color\": \"#EBF0F8\"}, \"line\": {\"color\": \"white\"}}, \"header\": {\"fill\": {\"color\": \"#C8D4E3\"}, \"line\": {\"color\": \"white\"}}, \"type\": \"table\"}]}, \"layout\": {\"annotationdefaults\": {\"arrowcolor\": \"#2a3f5f\", \"arrowhead\": 0, \"arrowwidth\": 1}, \"coloraxis\": {\"colorbar\": {\"outlinewidth\": 0, \"ticks\": \"\"}}, \"colorscale\": {\"diverging\": [[0, \"#8e0152\"], [0.1, \"#c51b7d\"], [0.2, \"#de77ae\"], [0.3, \"#f1b6da\"], [0.4, \"#fde0ef\"], [0.5, \"#f7f7f7\"], [0.6, \"#e6f5d0\"], [0.7, \"#b8e186\"], [0.8, \"#7fbc41\"], [0.9, \"#4d9221\"], [1, \"#276419\"]], \"sequential\": [[0.0, \"#0d0887\"], [0.1111111111111111, \"#46039f\"], [0.2222222222222222, \"#7201a8\"], [0.3333333333333333, \"#9c179e\"], [0.4444444444444444, \"#bd3786\"], [0.5555555555555556, \"#d8576b\"], [0.6666666666666666, \"#ed7953\"], [0.7777777777777778, \"#fb9f3a\"], [0.8888888888888888, \"#fdca26\"], [1.0, \"#f0f921\"]], \"sequentialminus\": [[0.0, \"#0d0887\"], [0.1111111111111111, \"#46039f\"], [0.2222222222222222, \"#7201a8\"], [0.3333333333333333, \"#9c179e\"], [0.4444444444444444, \"#bd3786\"], [0.5555555555555556, \"#d8576b\"], [0.6666666666666666, \"#ed7953\"], [0.7777777777777778, \"#fb9f3a\"], [0.8888888888888888, \"#fdca26\"], [1.0, \"#f0f921\"]]}, \"colorway\": [\"#636efa\", \"#EF553B\", \"#00cc96\", \"#ab63fa\", \"#FFA15A\", \"#19d3f3\", \"#FF6692\", \"#B6E880\", \"#FF97FF\", \"#FECB52\"], \"font\": {\"color\": \"#2a3f5f\"}, \"geo\": {\"bgcolor\": \"white\", \"lakecolor\": \"white\", \"landcolor\": \"#E5ECF6\", \"showlakes\": true, \"showland\": true, \"subunitcolor\": \"white\"}, \"hoverlabel\": {\"align\": \"left\"}, \"hovermode\": \"closest\", \"mapbox\": {\"style\": \"light\"}, \"paper_bgcolor\": \"white\", \"plot_bgcolor\": \"#E5ECF6\", \"polar\": {\"angularaxis\": {\"gridcolor\": \"white\", \"linecolor\": \"white\", \"ticks\": \"\"}, \"bgcolor\": \"#E5ECF6\", \"radialaxis\": {\"gridcolor\": \"white\", \"linecolor\": \"white\", \"ticks\": \"\"}}, \"scene\": {\"xaxis\": {\"backgroundcolor\": \"#E5ECF6\", \"gridcolor\": \"white\", \"gridwidth\": 2, \"linecolor\": \"white\", \"showbackground\": true, \"ticks\": \"\", \"zerolinecolor\": \"white\"}, \"yaxis\": {\"backgroundcolor\": \"#E5ECF6\", \"gridcolor\": \"white\", \"gridwidth\": 2, \"linecolor\": \"white\", \"showbackground\": true, \"ticks\": \"\", \"zerolinecolor\": \"white\"}, \"zaxis\": {\"backgroundcolor\": \"#E5ECF6\", \"gridcolor\": \"white\", \"gridwidth\": 2, \"linecolor\": \"white\", \"showbackground\": true, \"ticks\": \"\", \"zerolinecolor\": \"white\"}}, \"shapedefaults\": {\"line\": {\"color\": \"#2a3f5f\"}}, \"ternary\": {\"aaxis\": {\"gridcolor\": \"white\", \"linecolor\": \"white\", \"ticks\": \"\"}, \"baxis\": {\"gridcolor\": \"white\", \"linecolor\": \"white\", \"ticks\": \"\"}, \"bgcolor\": \"#E5ECF6\", \"caxis\": {\"gridcolor\": \"white\", \"linecolor\": \"white\", \"ticks\": \"\"}}, \"title\": {\"x\": 0.05}, \"xaxis\": {\"automargin\": true, \"gridcolor\": \"white\", \"linecolor\": \"white\", \"ticks\": \"\", \"title\": {\"standoff\": 15}, \"zerolinecolor\": \"white\", \"zerolinewidth\": 2}, \"yaxis\": {\"automargin\": true, \"gridcolor\": \"white\", \"linecolor\": \"white\", \"ticks\": \"\", \"title\": {\"standoff\": 15}, \"zerolinecolor\": \"white\", \"zerolinewidth\": 2}}}, \"xaxis\": {\"anchor\": \"y\", \"domain\": [0.0, 1.0], \"title\": {\"text\": \"dur\"}}, \"yaxis\": {\"anchor\": \"x\", \"domain\": [0.0, 1.0]}},\n",
              "                        {\"responsive\": true}\n",
              "                    ).then(function(){\n",
              "                            \n",
              "var gd = document.getElementById('ff36069a-4c27-4ac9-923b-81db287f6c06');\n",
              "var x = new MutationObserver(function (mutations, observer) {{\n",
              "        var display = window.getComputedStyle(gd).display;\n",
              "        if (!display || display === 'none') {{\n",
              "            console.log([gd, 'removed!']);\n",
              "            Plotly.purge(gd);\n",
              "            observer.disconnect();\n",
              "        }}\n",
              "}});\n",
              "\n",
              "// Listen for the removal of the full notebook cells\n",
              "var notebookContainer = gd.closest('#notebook-container');\n",
              "if (notebookContainer) {{\n",
              "    x.observe(notebookContainer, {childList: true});\n",
              "}}\n",
              "\n",
              "// Listen for the clearing of the current output cell\n",
              "var outputEl = gd.closest('.output');\n",
              "if (outputEl) {{\n",
              "    x.observe(outputEl, {childList: true});\n",
              "}}\n",
              "\n",
              "                        })\n",
              "                };\n",
              "                \n",
              "            </script>\n",
              "        </div>\n",
              "</body>\n",
              "</html>"
            ]
          },
          "metadata": {}
        }
      ]
    },
    {
      "cell_type": "code",
      "source": [
        "ratings[\"year\"] = ratings[\"DATE\"].astype(str).str.extract(\"(\\d\\d\\d\\d)-(\\d\\d)-(\\d\\d)\")[0]\n",
        "ratings[\"month\"] = ratings[\"DATE\"].astype(str).str.extract(\"(\\d\\d\\d\\d)-(\\d\\d)-(\\d\\d)\")[1]\n",
        "ratings[\"day\"] = ratings[\"DATE\"].astype(str).str.extract(\"(\\d\\d\\d\\d)-(\\d\\d)-(\\d\\d)\")[2]"
      ],
      "metadata": {
        "id": "n80CuCMK6fKI"
      },
      "id": "n80CuCMK6fKI",
      "execution_count": 124,
      "outputs": []
    },
    {
      "cell_type": "code",
      "source": [
        "ratings_year = ratings[ratings[\"DATE\"] > \"2017-09-01\"]\n",
        "ratings_month_dict = {d[\"month\"]:d[\"reviewerID\"] for d in ratings_year[[\"month\",\"reviewerID\"]].groupby(\"month\",as_index=False).agg(set).to_dict(\"record\")}"
      ],
      "metadata": {
        "id": "EuQ1IgXO60WK",
        "outputId": "661da207-3b7b-4304-d69b-c09644e6cd1e",
        "colab": {
          "base_uri": "https://localhost:8080/"
        }
      },
      "id": "EuQ1IgXO60WK",
      "execution_count": 129,
      "outputs": [
        {
          "output_type": "stream",
          "name": "stderr",
          "text": [
            "/usr/local/lib/python3.7/dist-packages/pandas/core/frame.py:1490: FutureWarning:\n",
            "\n",
            "Using short name for 'orient' is deprecated. Only the options: ('dict', list, 'series', 'split', 'records', 'index') will be used in a future version. Use one of the above to silence this warning.\n",
            "\n"
          ]
        }
      ]
    },
    {
      "cell_type": "code",
      "source": [
        "old_cos = set(ratings[ratings[\"DATE\"] < \"2017-09-01\"][\"reviewerID\"].to_list())\n",
        "overlap_cos = {}\n",
        "new_cos = {}\n",
        "for m,i in ratings_month_dict.items():\n",
        "  overlap_cos[m] = len(i&old_cos)/len(i)\n",
        "  new_cos[m] = len(i-old_cos)/len(i)\n",
        "  old_cos = old_cos.union(i)"
      ],
      "metadata": {
        "id": "pk1FRCAn9CdD"
      },
      "id": "pk1FRCAn9CdD",
      "execution_count": 143,
      "outputs": []
    },
    {
      "cell_type": "code",
      "source": [
        "overlap_cos"
      ],
      "metadata": {
        "id": "33criTt9-U7_",
        "outputId": "bfa52f2c-2baa-49f2-e26a-15909c7fbfe9",
        "colab": {
          "base_uri": "https://localhost:8080/"
        }
      },
      "id": "33criTt9-U7_",
      "execution_count": 144,
      "outputs": [
        {
          "output_type": "execute_result",
          "data": {
            "text/plain": [
              "{'01': 0.04276810659789383,\n",
              " '02': 0.047585394581861014,\n",
              " '03': 0.04575441583315599,\n",
              " '04': 0.04494902687673772,\n",
              " '05': 0.05412156536219817,\n",
              " '06': 0.05404486743711761,\n",
              " '07': 0.049723756906077346,\n",
              " '08': 0.040615384615384616,\n",
              " '09': 0.11006233303650935,\n",
              " '10': 0.08358005010248235,\n",
              " '11': 0.06964553170244633,\n",
              " '12': 0.06031077166183829}"
            ]
          },
          "metadata": {},
          "execution_count": 144
        }
      ]
    },
    {
      "cell_type": "code",
      "source": [
        "new_cos"
      ],
      "metadata": {
        "id": "VjtB1sCJ-cc3",
        "outputId": "37e3aa58-a006-4dca-c0ae-76919cdef3d1",
        "colab": {
          "base_uri": "https://localhost:8080/"
        }
      },
      "id": "VjtB1sCJ-cc3",
      "execution_count": 145,
      "outputs": [
        {
          "output_type": "execute_result",
          "data": {
            "text/plain": [
              "{'01': 0.9572318934021061,\n",
              " '02': 0.9524146054181389,\n",
              " '03': 0.954245584166844,\n",
              " '04': 0.9550509731232623,\n",
              " '05': 0.9458784346378019,\n",
              " '06': 0.9459551325628824,\n",
              " '07': 0.9502762430939227,\n",
              " '08': 0.9593846153846154,\n",
              " '09': 0.8899376669634906,\n",
              " '10': 0.9164199498975176,\n",
              " '11': 0.9303544682975536,\n",
              " '12': 0.9396892283381617}"
            ]
          },
          "metadata": {},
          "execution_count": 145
        }
      ]
    },
    {
      "cell_type": "code",
      "source": [
        "overlap_cos = {}\n",
        "new_cos = {}\n",
        "last_m = {}\n",
        "for m,i in ratings_month_dict.items():\n",
        "  if m == \"01\":\n",
        "    last_m = i\n",
        "    continue\n",
        "  else:\n",
        "    overlap_cos[m] = len(i&last_m)/len(i)\n",
        "    new_cos[m] = len(i-last_m)/len(i)\n",
        "  last_m = i"
      ],
      "metadata": {
        "id": "eHNy29zG-piJ"
      },
      "id": "eHNy29zG-piJ",
      "execution_count": 146,
      "outputs": []
    },
    {
      "cell_type": "code",
      "source": [
        "overlap_cos"
      ],
      "metadata": {
        "id": "-ckSfWyg_Dm5",
        "outputId": "5fceea27-20e7-4919-e332-2635c75c3235",
        "colab": {
          "base_uri": "https://localhost:8080/"
        }
      },
      "id": "-ckSfWyg_Dm5",
      "execution_count": 147,
      "outputs": [
        {
          "output_type": "execute_result",
          "data": {
            "text/plain": [
              "{'02': 0.003297997644287397,\n",
              " '03': 0.0023409236007661204,\n",
              " '04': 0.0023169601482854493,\n",
              " '05': 0.0038856508465167916,\n",
              " '06': 0.002379333786539769,\n",
              " '07': 0.0016999575010624734,\n",
              " '08': 0.0018461538461538461,\n",
              " '09': 0.0008904719501335708,\n",
              " '10': 0.012525620587565475,\n",
              " '11': 0.0027458811782326512,\n",
              " '12': 0.0018435607058203845}"
            ]
          },
          "metadata": {},
          "execution_count": 147
        }
      ]
    },
    {
      "cell_type": "code",
      "source": [
        "new_cos"
      ],
      "metadata": {
        "id": "NBhFP0sg_Fdu",
        "outputId": "d7cfc003-85ed-4f1e-d39d-b616544b5b6d",
        "colab": {
          "base_uri": "https://localhost:8080/"
        }
      },
      "id": "NBhFP0sg_Fdu",
      "execution_count": 148,
      "outputs": [
        {
          "output_type": "execute_result",
          "data": {
            "text/plain": [
              "{'02': 0.9967020023557126,\n",
              " '03': 0.9976590763992339,\n",
              " '04': 0.9976830398517146,\n",
              " '05': 0.9961143491534832,\n",
              " '06': 0.9976206662134602,\n",
              " '07': 0.9983000424989376,\n",
              " '08': 0.9981538461538462,\n",
              " '09': 0.9991095280498664,\n",
              " '10': 0.9874743794124345,\n",
              " '11': 0.9972541188217674,\n",
              " '12': 0.9981564392941796}"
            ]
          },
          "metadata": {},
          "execution_count": 148
        }
      ]
    },
    {
      "cell_type": "markdown",
      "id": "054eeba4",
      "metadata": {
        "id": "054eeba4"
      },
      "source": [
        "## 資料切分"
      ]
    },
    {
      "cell_type": "code",
      "execution_count": 116,
      "id": "284b14a8",
      "metadata": {
        "id": "284b14a8"
      },
      "outputs": [],
      "source": [
        "#具上述EDA結果，決定切分一年半作為training data\n",
        "ratings_trainings = ratings[\n",
        "    (ratings['DATE'] > '2017-03-01') &\n",
        "    (ratings['DATE'] < '2018-09-01')\n",
        "]\n",
        "ratings_testings = ratings[\n",
        "    (ratings['DATE'] >= '2018-09-01') & \n",
        "    (ratings['DATE'] <= '2018-09-30')\n",
        "]\n",
        "ratings_testings_by_user = ratings_testings.groupby('reviewerID').agg(list).reset_index()[['reviewerID', 'asin']].to_dict('records')\n",
        "ratings_testings_by_user = { rating['reviewerID']: rating['asin'] for rating in ratings_testings_by_user }\n",
        "users = list(ratings_testings_by_user.keys())"
      ]
    },
    {
      "cell_type": "markdown",
      "id": "a6c76061",
      "metadata": {
        "id": "a6c76061"
      },
      "source": [
        "## 產生推薦"
      ]
    },
    {
      "cell_type": "code",
      "source": [
        "!pip install surprise"
      ],
      "metadata": {
        "colab": {
          "base_uri": "https://localhost:8080/"
        },
        "id": "AKxuERU0OI6D",
        "outputId": "e1cc3b25-badb-4ad9-abee-4331de9cd6c6"
      },
      "id": "AKxuERU0OI6D",
      "execution_count": 117,
      "outputs": [
        {
          "output_type": "stream",
          "name": "stdout",
          "text": [
            "Requirement already satisfied: surprise in /usr/local/lib/python3.7/dist-packages (0.1)\n",
            "Requirement already satisfied: scikit-surprise in /usr/local/lib/python3.7/dist-packages (from surprise) (1.1.1)\n",
            "Requirement already satisfied: numpy>=1.11.2 in /usr/local/lib/python3.7/dist-packages (from scikit-surprise->surprise) (1.19.5)\n",
            "Requirement already satisfied: joblib>=0.11 in /usr/local/lib/python3.7/dist-packages (from scikit-surprise->surprise) (1.1.0)\n",
            "Requirement already satisfied: six>=1.10.0 in /usr/local/lib/python3.7/dist-packages (from scikit-surprise->surprise) (1.15.0)\n",
            "Requirement already satisfied: scipy>=1.0.0 in /usr/local/lib/python3.7/dist-packages (from scikit-surprise->surprise) (1.4.1)\n"
          ]
        }
      ]
    },
    {
      "cell_type": "code",
      "source": [
        "import time\n",
        "import pandas as pd\n",
        "from surprise import Reader\n",
        "from surprise import Dataset\n",
        "from surprise import KNNBasic\n",
        "from surprise import KNNWithMeans\n",
        "from surprise import KNNWithZScore\n",
        "from surprise import KNNBaseline"
      ],
      "metadata": {
        "id": "vJO6Be0bfAHT"
      },
      "id": "vJO6Be0bfAHT",
      "execution_count": 118,
      "outputs": []
    },
    {
      "cell_type": "code",
      "source": [
        "def recommender(training_data, users=[], k=10, user_based=False, algo=KNNBasic, method = \"cosine\"):\n",
        "\n",
        "    training_data = (\n",
        "        training_data\n",
        "        .sort_values(\"DATE\", ascending=False)\n",
        "        .groupby(['reviewerID', 'asin']).head(1)\n",
        "    )\n",
        "\n",
        "    reader = Reader(rating_scale=(0, 5))\n",
        "    training_data = training_data[['reviewerID', 'asin', 'overall']]\n",
        "    data = Dataset.load_from_df(training_data, reader=reader)\n",
        "\n",
        "    sim_options = {\n",
        "        'name': method,\n",
        "        'user_based': user_based  # compute similarities between items\n",
        "    }\n",
        "    algo_impl = algo(sim_options=sim_options)\n",
        "    trainset = data.build_full_trainset()\n",
        "    algo_impl.fit(trainset)\n",
        "\n",
        "    recommendation = {}\n",
        "    for user in users:\n",
        "        items_user_rated = set(training_data.loc[training_data['reviewerID'] == user]['asin'].to_list())\n",
        "        recommend_item_list = []\n",
        "        recommend_item_set = set()\n",
        "        for item in items_user_rated:\n",
        "            iid = algo_impl.trainset.to_inner_iid(item)\n",
        "            recommend_items_iid = algo_impl.get_neighbors(iid, k)\n",
        "            for sim_item_iid in recommend_items_iid:\n",
        "                item_raw_id = algo_impl.trainset.to_raw_iid(sim_item_iid)\n",
        "                if item_raw_id not in items_user_rated and item_raw_id not in recommend_item_set:\n",
        "                    recommend_item_list.append(item_raw_id)\n",
        "                    recommend_item_set.add(item_raw_id)\n",
        "\n",
        "            if len(recommend_item_list) >= k:\n",
        "                recommend_item_list = recommend_item_list[:k]\n",
        "                break\n",
        "        recommendation[user] = recommend_item_list\n",
        "\n",
        "    return recommendation\n",
        "\n",
        "\n",
        "ratings_by_user = recommender(ratings_trainings, users, k=10, user_based=False, algo=KNNBasic, method = \"cosine\")\n",
        "ratings_by_user2 = recommender(ratings_trainings, users, k=10, user_based=False, algo=KNNBasic, method = \"pearson\")\n",
        "ratings_by_user3 = recommender(ratings_trainings, users, k=10, user_based=False, algo=KNNBasic, method = \"pearson_baseline\")\n",
        "ratings_by_user4 = recommender(ratings_trainings, users, k=10, user_based=False, algo=KNNBasic, method = \"msd\")"
      ],
      "metadata": {
        "colab": {
          "base_uri": "https://localhost:8080/"
        },
        "id": "qvA0nY5YYRRZ",
        "outputId": "c172aab9-988c-467f-e97d-50b6b83cdec1"
      },
      "id": "qvA0nY5YYRRZ",
      "execution_count": 119,
      "outputs": [
        {
          "output_type": "stream",
          "name": "stdout",
          "text": [
            "Computing the cosine similarity matrix...\n",
            "Done computing similarity matrix.\n",
            "Computing the pearson similarity matrix...\n",
            "Done computing similarity matrix.\n",
            "Estimating biases using als...\n",
            "Computing the pearson_baseline similarity matrix...\n",
            "Done computing similarity matrix.\n",
            "Computing the msd similarity matrix...\n",
            "Done computing similarity matrix.\n"
          ]
        }
      ]
    },
    {
      "cell_type": "markdown",
      "id": "04a4ca9e",
      "metadata": {
        "id": "04a4ca9e"
      },
      "source": [
        "## 結果評估"
      ]
    },
    {
      "cell_type": "code",
      "execution_count": 120,
      "id": "ee763747",
      "metadata": {
        "id": "ee763747"
      },
      "outputs": [],
      "source": [
        "def evaluate(ratings_testings_by_user={}, ratings_by_user={}, method=None):\n",
        "    '''\n",
        "    * ratings_testings_by_user: dict 真實被購買的商品資料（2018-09-01 以後資料）\n",
        "    * ratings_by_user: dict 利用訓練資料學習的推薦商品\n",
        "    * method: str\n",
        "    * score: float\n",
        "    '''\n",
        "    total = 0\n",
        "    recommended_user = 0\n",
        "    for d in ratings_testings_by_user:\n",
        "        if d in ratings_by_user:\n",
        "            total += len(set(ratings_by_user[d]) & set(ratings_testings_by_user[d]))\n",
        "            if len(ratings_by_user[d]) != 0:\n",
        "              recommended_user += 1\n",
        "\n",
        "    score = total / len(ratings_testings)\n",
        "    \n",
        "    return score,total,recommended_user\n"
      ]
    },
    {
      "cell_type": "code",
      "source": [
        "print(\"method || (recall_score, predict_right, recommended_user)\")\n",
        "for m,r in list(zip([\"cosine\",\"pearson\",\"pearson_baseline\",\"msd\"],[ratings_by_user,ratings_by_user2,ratings_by_user3,ratings_by_user4])):\n",
        "  print(m,evaluate(ratings_testings_by_user, r),sep=\" || \")"
      ],
      "metadata": {
        "colab": {
          "base_uri": "https://localhost:8080/"
        },
        "id": "F1IeGUmQZ-b-",
        "outputId": "c0f74eb2-9748-4c1e-f309-cd8518c493a4"
      },
      "id": "F1IeGUmQZ-b-",
      "execution_count": 122,
      "outputs": [
        {
          "output_type": "stream",
          "name": "stdout",
          "text": [
            "method || (recall_score, predict_right, recommended_user)\n",
            "cosine || (0.001694915254237288, 1, 19)\n",
            "pearson || (0.003389830508474576, 2, 19)\n",
            "pearson_baseline || (0.003389830508474576, 2, 19)\n",
            "msd || (0.001694915254237288, 1, 19)\n"
          ]
        }
      ]
    },
    {
      "cell_type": "code",
      "source": [
        ""
      ],
      "metadata": {
        "id": "kGJjt08abswP"
      },
      "id": "kGJjt08abswP",
      "execution_count": null,
      "outputs": []
    },
    {
      "cell_type": "markdown",
      "source": [
        "## 總結"
      ],
      "metadata": {
        "id": "hmDQFHR3ADrk"
      },
      "id": "hmDQFHR3ADrk"
    },
    {
      "cell_type": "markdown",
      "source": [
        "* 使用super套件，在cosine similarity算法上，結果與前面使用手刻程式差不多。但皮爾森相似度，預測中的商品推薦數多一個\n",
        "* 演算法使用過KNNBasic與其他KNN算法，結果都一樣，而KNN以外演算法，因為是屬於數值型的預測，無法產出分群結果，所以都沒有使用\n",
        "* 消費者大都集中在一年半內上一次平台購買，故測試集切在一年半，比較能找到購買兩種商品以上的消費者，提高找到相似產品的機率\n",
        "* 平台每個月的使用者，只有少部分是過去有買過的，其他都是新使用者，故使用歷史資料預測下個月的消費者偏好，是不太適合的作法，這也是collaberative filtering推薦效果差的原因"
      ],
      "metadata": {
        "id": "LAlYTZRCAHIG"
      },
      "id": "LAlYTZRCAHIG"
    },
    {
      "cell_type": "code",
      "source": [
        ""
      ],
      "metadata": {
        "id": "sWByu-u7AF6k"
      },
      "id": "sWByu-u7AF6k",
      "execution_count": null,
      "outputs": []
    }
  ],
  "metadata": {
    "kernelspec": {
      "display_name": "Python 3",
      "language": "python",
      "name": "python3"
    },
    "language_info": {
      "codemirror_mode": {
        "name": "ipython",
        "version": 3
      },
      "file_extension": ".py",
      "mimetype": "text/x-python",
      "name": "python",
      "nbconvert_exporter": "python",
      "pygments_lexer": "ipython3",
      "version": "3.9.0"
    },
    "colab": {
      "name": "cf-surprise.ipynb",
      "provenance": [],
      "include_colab_link": true
    }
  },
  "nbformat": 4,
  "nbformat_minor": 5
}